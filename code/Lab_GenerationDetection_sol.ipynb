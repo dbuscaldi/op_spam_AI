{
 "cells": [
  {
   "cell_type": "code",
   "execution_count": 2,
   "id": "1ce5fc89",
   "metadata": {},
   "outputs": [],
   "source": [
    "import os, random\n",
    "\n",
    "import numpy as np\n",
    "import torch\n",
    "\n",
    "from sklearn.feature_extraction.text import TfidfVectorizer\n",
    "from sklearn.model_selection import train_test_split\n",
    "from sklearn.naive_bayes import MultinomialNB\n",
    "from sklearn.linear_model import LogisticRegression\n",
    "from sklearn.metrics import classification_report\n",
    "from sklearn.metrics import confusion_matrix"
   ]
  },
  {
   "cell_type": "markdown",
   "id": "74456c6d",
   "metadata": {},
   "source": [
    "# Lab: Détection de texte généré automatiquement\n",
    "\n",
    "Nous allons travailler sur un jeu de données généré à partir du dataset de Myle Ott, \"<a href=\"https://myleott.com/op-spam.html\">Deceptive Opinion Spam Corpus v1.4</a>\".\n",
    "\n",
    "Le jeu de données a été modifié pour inclure des reviews d'hotel générées automatiquement avec le modèle GPT-3\n",
    "\n",
    "Pour chaque review originale, nous avons créé une fausse review à partir d'un seed de 10 mots de la review originale et demandé au modèle de langage de compléter jusqu'à la taille de la review originale, en respectant la polarité de la review originale.\n",
    "\n",
    "Un exemple:\n",
    "\n",
    "*original negative*\n",
    "```t_allegro_1.txt```\n",
    "> This hotel must have originally been an ordinary downtown hotel in a not very nice neighborhood. The owners have painted it over and fixed up the lobby to make it an \"upscale\" overpriced boutique hotel. But it's still just an ordinary hotel with a paint job. Stay here if you want to experience staying in a flophouse, but with all the sleaze removed. Definitely stay at the chain's other location, the Burnham, for a much, much nicer hotel.\n",
    "\n",
    "*generated negative*\n",
    "```g_allegro_1.txt```\n",
    "> This hotel must have originally been an ordinary downtown hotel but now it is hardly more than a shabby motel. The walls are dirty and the furniture is worn, with some broken pieces. My room smelled musty and the carpets had stains. The bed was uncomfortable and the linen was old and threadbare. The staff were not particularly helpful and I felt like I was an inconvenience to them.\n",
    "\n",
    "Le bloc suivant nous permet de charger le dataset complet:"
   ]
  },
  {
   "cell_type": "code",
   "execution_count": 3,
   "id": "500fc5b0",
   "metadata": {},
   "outputs": [
    {
     "name": "stdout",
     "output_type": "stream",
     "text": [
      "Exemple de texte généré:\n",
      " I choose the Homewood Suites in Downtown Chicago because I was looking for a comfortable and affordable hotel. However, I was extremely disappointed with my stay. The room was dirty and the staff was unhelpful. The amenities were sub-par and the beds were uncomfortable. Overall, I would definitely not stay here again and would not recommend it to anyone looking for a nice and enjoyable experience.\n",
      "\n",
      "Exemple de texte non généré:\n",
      " The Hard Rock Hotel Chicago has become my favorite hotel. I've stayed there at least 5 times now and have never had anything other than a wonderful experience. As you might have guessed - it has a super Rock & Roll theme, with some music paraphanelia in the lobby and on each floor's elevator lobby. The rooms all have large photo murals that are themed to different musicians. You can request being on the floor of your favorite band (like KISS, Aerosmith, etc...) The rooms are GREAT. Well appointed. SUPER Comfortable beds and luxurious sheets and wonderous pillows. The large TV has a cool sound system that ramps up the viewing experience. There's a spacious desk in each room with a mini bar. I've always had a room with big windows and a view down Michigan Ave (the hotel sits right on Michigan - a block from the canal). The bathrooms are furnished with absolutely great fixtures sporting a great design... some of the showers have windows in side of them (you can shower AND enjoy the view down Michigan!) or close the waterproof drapes. I've never had anything but a great experience with the staff here... front desk, doorman, etc are all great. There's a lobby bar that still feels intimate and has nice energy. Big screen TV to catch the latest scores, too. Of course, Rock & Roll music pumps thru the place. You can stay at a \"plain\" hotel anywhere... but this is a GREAT, WELL DESIGNED, FUN and MEMORABLE HOTEL that you'll want to return back to. If I had one concern - it would be the rather crazy charge for parking your car overnight. My daily car parking rate was close to $50 per night, which I'm sorry to say is about the going rate in the loop. Stay here. Be cool. \n",
      "\n"
     ]
    }
   ],
   "source": [
    "def find_txt_files(directory):\n",
    "    txt_files = []\n",
    "\n",
    "    for root, dirs, files in os.walk(directory):\n",
    "        for file in files:\n",
    "            if file.endswith('.txt') and 'deceptive' not in root: #we don't consider the fake reviews\n",
    "                txt_files.append(os.path.join(root, file))\n",
    "\n",
    "    return txt_files\n",
    "\n",
    "d1 = 'generated_GPT3_negative'\n",
    "d2 = 'generated_GPT3_positive'\n",
    "gen_txt_files = find_txt_files(d1)\n",
    "gen_txt_files = gen_txt_files + (find_txt_files(d2))\n",
    "\n",
    "not_gen = find_txt_files('not_generated')\n",
    "\n",
    "gen_texts = []\n",
    "pol_labels = [] #this will keep track whether the review is positive or negative\n",
    "for txt_file in gen_txt_files:\n",
    "    if \"positive\" in txt_file:\n",
    "        pol_label=1\n",
    "    else:\n",
    "        pol_label=-1\n",
    "    pol_labels.append(pol_label)\n",
    "    with open(txt_file, 'r') as file:\n",
    "        text = file.read()\n",
    "        gen_texts.append(text)\n",
    "\n",
    "not_gen_texts=[]\n",
    "for txt_file in not_gen:\n",
    "    if \"positive\" in txt_file:\n",
    "        pol_label=1\n",
    "    else:\n",
    "        pol_label=-1\n",
    "    pol_labels.append(pol_label)\n",
    "    with open(txt_file, 'r') as file:\n",
    "        text = file.read()\n",
    "        not_gen_texts.append(text)\n",
    "\n",
    "print(\"Exemple de texte généré:\\n\", gen_texts[0])\n",
    "print()\n",
    "print(\"Exemple de texte non généré:\\n\", not_gen_texts[0])\n",
    "\n",
    "# Combine together and create labels\n",
    "all_texts = gen_texts + not_gen_texts\n",
    "labels = [1] * len(gen_texts) + [0] * len(not_gen_texts) #generation labels: 1=generated text, 0=genuine text\n"
   ]
  },
  {
   "cell_type": "markdown",
   "id": "4e75da66",
   "metadata": {},
   "source": [
    "Maintenant vous avez dans le vecteur `all_texts` tous les textes, et dans `labels` une etiquette $1$ si le texte à la même position dans le vecteur des textes est généré par GPT-3 ou $0$ si le texte est l'original. Aussi, vous avez `pol_labels` qui vous dit si le texte est positive ou négative.\n",
    "\n",
    "Voici un bloc de code pour inspecter aléatoirement le contenu du dataset:"
   ]
  },
  {
   "cell_type": "code",
   "execution_count": 4,
   "id": "ef7983fe",
   "metadata": {},
   "outputs": [
    {
     "name": "stdout",
     "output_type": "stream",
     "text": [
      "texte:  I am not much of a complainer, as you can see. However, the service at this restaurant was terrible.\n",
      "\n",
      "The waiter was inattentive and seemed completely disinterested in our presence. The food was cold and flavourless and took a very long time to come out.\n",
      "généré?:  1\n",
      "Polarité:  -1\n"
     ]
    }
   ],
   "source": [
    "idx = random.randrange(len(all_texts) - 1)\n",
    "print(\"texte: \", all_texts[idx])\n",
    "print(\"généré?: \", labels[idx])\n",
    "print(\"Polarité: \", pol_labels[idx])"
   ]
  },
  {
   "cell_type": "markdown",
   "id": "62deb4b7",
   "metadata": {},
   "source": [
    "## Première partie: Classification des reviews (méthode tf.idf)\n",
    "\n",
    "Nous allons maintenant procéder à classifier les reviews entre générées automatiquement et originales. La première étape consiste en diviser le dataset en train/test. Nous allons utiliser un split de 80/20 avec 80% des données pour le training et 20% pour le test:"
   ]
  },
  {
   "cell_type": "code",
   "execution_count": 5,
   "id": "0ffb59a9",
   "metadata": {},
   "outputs": [],
   "source": [
    "train_texts, test_texts, train_labels, test_labels = train_test_split(all_texts, labels, test_size=0.2, random_state=2)\n"
   ]
  },
  {
   "cell_type": "markdown",
   "id": "6902459a",
   "metadata": {},
   "source": [
    "Nous allons donc procéder à vectoriser les données et appliquer la méthode *tf.idf* pour le poids des mots. Pour cela, nous allons utiliser le <a href=\"https://scikit-learn.org/stable/modules/feature_extraction.html#\">TfidfVectorizer</a> de la bibliothèque Scikit-learn"
   ]
  },
  {
   "cell_type": "code",
   "execution_count": 6,
   "id": "327c7b9e",
   "metadata": {},
   "outputs": [],
   "source": [
    "# Vectorize text data\n",
    "vectorizer = TfidfVectorizer() #ngram_range=(2, 3) pour étudier les bi- et tri- grammes\n",
    "train_vectors = vectorizer.fit_transform(train_texts) #vectorisation du training set\n",
    "test_vectors = vectorizer.transform(test_texts) #vectorisation du test set"
   ]
  },
  {
   "cell_type": "markdown",
   "id": "2083cfc2",
   "metadata": {},
   "source": [
    "Noter que nous n'eliminons pas les stop-words et n'effectuons pas de stemming, contrairement à la plupart des situations.\n",
    "\n",
    "> **Q**. Est-ce que vous considerez utile d'élminer les stop-words dans cette tâche? Pourquoi?\n",
    "\n",
    "Maintenant nous pouvons entrainer un modèle de classification et calculer les résultats sur le test set. Nous allons utiliser un simple <a href=\"https://scikit-learn.org/stable/modules/generated/sklearn.naive_bayes.MultinomialNB.html\">multinomial Naïve Bayes</a> pour cela:"
   ]
  },
  {
   "cell_type": "code",
   "execution_count": 7,
   "id": "a4986f8e",
   "metadata": {},
   "outputs": [
    {
     "name": "stdout",
     "output_type": "stream",
     "text": [
      "              precision    recall  f1-score   support\n",
      "\n",
      "           0       0.94      0.96      0.95       164\n",
      "           1       0.96      0.94      0.95       156\n",
      "\n",
      "    accuracy                           0.95       320\n",
      "   macro avg       0.95      0.95      0.95       320\n",
      "weighted avg       0.95      0.95      0.95       320\n",
      "\n"
     ]
    },
    {
     "data": {
      "text/plain": [
       "array([[158,   6],\n",
       "       [ 10, 146]])"
      ]
     },
     "execution_count": 7,
     "metadata": {},
     "output_type": "execute_result"
    }
   ],
   "source": [
    "# Train classifier\n",
    "classifier = MultinomialNB()\n",
    "classifier.fit(train_vectors, train_labels)\n",
    "\n",
    "# Evaluate classifier\n",
    "predictions = classifier.predict(test_vectors)\n",
    "report = classification_report(test_labels, predictions)\n",
    "print(report)\n",
    "\n",
    "confusion_matrix(test_labels, predictions)"
   ]
  },
  {
   "cell_type": "markdown",
   "id": "d27bd01d",
   "metadata": {},
   "source": [
    "Vous pouvez essayer d'utiliser un classificateur différent, par exemple <a href=\"https://scikit-learn.org/stable/modules/generated/sklearn.linear_model.LogisticRegression.html\">Logistic Regression</a> mais les résultats ne devraient pas changer beaucoup.\n",
    "\n",
    "> **Q**. Essayez de changer la quantité des données d'entrainement (par exemple, 20% training et 80% test) et observez les changements dans les résultats. Vous en pouvez déduire quoi?\n",
    "\n",
    "Nous allons maintenant essayer de voir plus clair dans le pourquoi de ces résultats. Donc pour cela, on va extraire les features les plus discriminatives (ce code c'est pour le NB, si vous changez pour LR il ne marchera pas...)"
   ]
  },
  {
   "cell_type": "code",
   "execution_count": 8,
   "id": "e9f5e7b7",
   "metadata": {},
   "outputs": [
    {
     "name": "stdout",
     "output_type": "stream",
     "text": [
      "Top 20 Most Discriminative Terms (generated):\n",
      "unhelpful 2.745065251708553\n",
      "incredibly 2.5674655334028174\n",
      "delicious 2.5409598085911798\n",
      "outdated 2.4290766041237637\n",
      "terrible 2.34608423858817\n",
      "anyone 2.1592312033684813\n",
      "uncomfortable 2.146263234017619\n",
      "musty 2.10187175640504\n",
      "accommodating 2.0349592703316066\n",
      "enjoyable 1.8530551932237076\n",
      "amenities 1.826288906609678\n",
      "variety 1.7475721186419282\n",
      "notch 1.6946097766006893\n",
      "experience 1.6828227448705846\n",
      "stained 1.6457799814840293\n",
      "maintained 1.56103154962212\n",
      "food 1.5585280303899705\n",
      "recommend 1.495983382219265\n",
      "smell 1.4669230579095531\n",
      "atmosphere 1.4603899596671424\n",
      "\n",
      "Top 20 Most Discriminative Terms (not_generated):\n",
      "coffee -1.8323127208044472\n",
      "door -1.7727442549031789\n",
      "she -1.7563838343198555\n",
      "your -1.5974268503887918\n",
      "walk -1.5894777851092474\n",
      "he -1.4974337684809615\n",
      "next -1.494373990703723\n",
      "concierge -1.479077839620322\n",
      "river -1.4733575528054796\n",
      "if -1.3999875701859539\n",
      "corner -1.3934502026167124\n",
      "you -1.3921389517329095\n",
      "call -1.3859194005683841\n",
      "go -1.3857127170440267\n",
      "floor -1.378590280178722\n",
      "quiet -1.3767004318726634\n",
      "use -1.3548926630443585\n",
      "mile -1.3501781236043726\n",
      "etc -1.3300142637300878\n",
      "open -1.314401425495297\n"
     ]
    }
   ],
   "source": [
    "# Get the most discriminative terms\n",
    "feature_names = vectorizer.get_feature_names_out()\n",
    "\n",
    "# Retrieve the log probabilities of features for each class\n",
    "log_probs_positive = classifier.feature_log_prob_[1]  # Positive class\n",
    "log_probs_negative = classifier.feature_log_prob_[0]  # Negative class\n",
    "\n",
    "# Calculate the discriminative scores\n",
    "discriminative_scores = log_probs_positive - log_probs_negative\n",
    "\n",
    "# Sort features by discriminative scores\n",
    "sorted_features_indices = np.argsort(discriminative_scores)[::-1]  # Descending order\n",
    "top_n = 20  # Number of top features to display\n",
    "\n",
    "print(\"Top {} Most Discriminative Terms (generated):\".format(top_n))\n",
    "for idx in sorted_features_indices[:top_n]:\n",
    "    print(feature_names[idx], discriminative_scores[idx])\n",
    "\n",
    "# Sort features by discriminative scores\n",
    "sorted_features_indices = np.argsort(discriminative_scores)[::1]  # Descending order\n",
    "top_n = 20  # Number of top features to display\n",
    "\n",
    "print()\n",
    "print(\"Top {} Most Discriminative Terms (not_generated):\".format(top_n))\n",
    "for idx in sorted_features_indices[:top_n]:\n",
    "    print(feature_names[idx], discriminative_scores[idx])"
   ]
  },
  {
   "cell_type": "markdown",
   "id": "e81a3313",
   "metadata": {},
   "source": [
    "> **T.1**: vérifier aussi les bi-grammes et les tri-grammes les plus discriminant (suggestion: ```ngram_range=(2, 3)``` pour le vectorizer)"
   ]
  },
  {
   "cell_type": "code",
   "execution_count": null,
   "id": "b2674b0f",
   "metadata": {},
   "outputs": [],
   "source": []
  },
  {
   "cell_type": "markdown",
   "id": "f6d66f29",
   "metadata": {},
   "source": [
    "> **T.2**: examiner les mots et les bi- tri- grammes les plus discriminants (respect à la tâche de détection de texte généré) pour les deux catégories de polarité (positive/négative) séparemment"
   ]
  },
  {
   "cell_type": "code",
   "execution_count": null,
   "id": "349015ed",
   "metadata": {},
   "outputs": [],
   "source": []
  },
  {
   "cell_type": "markdown",
   "id": "96c27da9",
   "metadata": {},
   "source": [
    "## Deuxième partie: étude statistique basé sur les probabilités du modèle GPT-2\n",
    "\n",
    "Nous allons maintenant prendre en consideration les probabilités de sortie du modèle GPT-2 pour vérifier si la distribution des mots dans les reviews générées s'adapte à la distribution de probabilité attendue du modèle GPT-2 mieux que les mots dans les reviews authentiques.\n",
    "\n",
    "Pour cela on va vous mettre à disposition du code issu du projet <a href=\"http://gltr.io/\">GLTR (Giant Language Testing Room)</a> qui permet de comparer la probabilité des mots contenus dans une phrase avec les probabilités attendues de GPT-2. Attention: c'est possible que en exécutant cette cellule de code il y ait le téléchargement du modèle et cela pourrait prendre un certain temps en fonction de votre connexion."
   ]
  },
  {
   "cell_type": "code",
   "execution_count": 9,
   "id": "2c5201c8",
   "metadata": {},
   "outputs": [
    {
     "name": "stderr",
     "output_type": "stream",
     "text": [
      "2023-10-10 14:44:18.273633: I tensorflow/core/platform/cpu_feature_guard.cc:182] This TensorFlow binary is optimized to use available CPU instructions in performance-critical operations.\n",
      "To enable the following instructions: AVX2 FMA, in other operations, rebuild TensorFlow with the appropriate compiler flags.\n"
     ]
    }
   ],
   "source": [
    "from transformers import (GPT2LMHeadModel, GPT2Tokenizer)\n",
    "\n",
    "class AbstractLanguageChecker:\n",
    "    \"\"\"\n",
    "    Abstract Class that defines the Backend API of GLTR.\n",
    "\n",
    "    To extend the GLTR interface, you need to inherit this and\n",
    "    fill in the defined functions.\n",
    "    \"\"\"\n",
    "\n",
    "    def __init__(self):\n",
    "        \"\"\"\n",
    "        In the subclass, you need to load all necessary components\n",
    "        for the other functions.\n",
    "        Typically, this will comprise a tokenizer and a model.\n",
    "        \"\"\"\n",
    "        self.device = torch.device(\n",
    "            \"cuda\" if torch.cuda.is_available() else \"cpu\")\n",
    "\n",
    "    def check_probabilities(self, in_text, topk=40):\n",
    "        \"\"\"\n",
    "        Function that GLTR interacts with to check the probabilities of words\n",
    "\n",
    "        Params:\n",
    "        - in_text: str -- The text that you want to check\n",
    "        - topk: int -- Your desired truncation of the head of the distribution\n",
    "\n",
    "        Output:\n",
    "        - payload: dict -- The wrapper for results in this function, described below\n",
    "\n",
    "        Payload values\n",
    "        ==============\n",
    "        bpe_strings: list of str -- Each individual token in the text\n",
    "        real_topk: list of tuples -- (ranking, prob) of each token\n",
    "        pred_topk: list of list of tuple -- (word, prob) for all topk\n",
    "        \"\"\"\n",
    "        raise NotImplementedError\n",
    "\n",
    "    def postprocess(self, token):\n",
    "        \"\"\"\n",
    "        clean up the tokens from any special chars and encode\n",
    "        leading space by UTF-8 code '\\u0120', linebreak with UTF-8 code 266 '\\u010A'\n",
    "        :param token:  str -- raw token text\n",
    "        :return: str -- cleaned and re-encoded token text\n",
    "        \"\"\"\n",
    "        raise NotImplementedError\n",
    "\n",
    "\n",
    "def top_k_logits(logits, k):\n",
    "    \"\"\"\n",
    "    Filters logits to only the top k choices\n",
    "    from https://github.com/huggingface/pytorch-pretrained-BERT/blob/master/examples/run_gpt2.py\n",
    "    \"\"\"\n",
    "    if k == 0:\n",
    "        return logits\n",
    "    values, _ = torch.topk(logits, k)\n",
    "    min_values = values[:, -1]\n",
    "    return torch.where(logits < min_values,\n",
    "                       torch.ones_like(logits, dtype=logits.dtype) * -1e10,\n",
    "                       logits)\n",
    "\n",
    "class LM(AbstractLanguageChecker):\n",
    "    def __init__(self, model_name_or_path=\"gpt2\"):\n",
    "        super(LM, self).__init__()\n",
    "        self.enc = GPT2Tokenizer.from_pretrained(model_name_or_path)\n",
    "        self.model = GPT2LMHeadModel.from_pretrained(model_name_or_path)\n",
    "        self.model.to(self.device)\n",
    "        self.model.eval()\n",
    "        self.start_token = self.enc(self.enc.bos_token, return_tensors='pt').data['input_ids'][0]\n",
    "        print(f\"Loaded GPT-2 model! on {self.device}\")\n",
    "\n",
    "    def check_probabilities(self, in_text, topk=40):\n",
    "        # Process input\n",
    "        token_ids = self.enc(in_text, return_tensors='pt').data['input_ids'][0]\n",
    "        token_ids = torch.concat([self.start_token, token_ids])\n",
    "        # Forward through the model\n",
    "        output = self.model(token_ids.to(self.device))\n",
    "        all_logits = output.logits[:-1].detach().squeeze()\n",
    "        # construct target and pred\n",
    "        # yhat = torch.softmax(logits[0, :-1], dim=-1)\n",
    "        all_probs = torch.softmax(all_logits, dim=1)\n",
    "\n",
    "        y = token_ids[1:]\n",
    "        # Sort the predictions for each timestep\n",
    "        sorted_preds = torch.argsort(all_probs, dim=1, descending=True).cpu()\n",
    "        # [(pos, prob), ...]\n",
    "        real_topk_pos = list(\n",
    "            [int(np.where(sorted_preds[i] == y[i].item())[0][0])\n",
    "             for i in range(y.shape[0])])\n",
    "        real_topk_probs = all_probs[np.arange(\n",
    "            0, y.shape[0], 1), y].data.cpu().numpy().tolist()\n",
    "        real_topk_probs = list(map(lambda x: round(x, 5), real_topk_probs))\n",
    "\n",
    "        real_topk = list(zip(real_topk_pos, real_topk_probs))\n",
    "        # [str, str, ...]\n",
    "        bpe_strings = self.enc.convert_ids_to_tokens(token_ids[:])\n",
    "\n",
    "        bpe_strings = [self.postprocess(s) for s in bpe_strings]\n",
    "\n",
    "        topk_prob_values, topk_prob_inds = torch.topk(all_probs, k=topk, dim=1)\n",
    "\n",
    "        pred_topk = [list(zip(self.enc.convert_ids_to_tokens(topk_prob_inds[i]),\n",
    "                              topk_prob_values[i].data.cpu().numpy().tolist()\n",
    "                              )) for i in range(y.shape[0])]\n",
    "        pred_topk = [[(self.postprocess(t[0]), t[1]) for t in pred] for pred in pred_topk]\n",
    "\n",
    "\n",
    "        # pred_topk = []\n",
    "        payload = {'bpe_strings': bpe_strings, #tokens extracted by tokenizer from the input sentence\n",
    "                   'real_topk': real_topk, #for each token, the position i in which it is placed and the probability\n",
    "                   'pred_topk': pred_topk} #the top K proposals of the model for the token at position i\n",
    "        if torch.cuda.is_available():\n",
    "            torch.cuda.empty_cache()\n",
    "\n",
    "        return payload\n",
    "    \n",
    "    def postprocess(self, token):\n",
    "        with_space = False\n",
    "        with_break = False\n",
    "        if token.startswith('Ġ'):\n",
    "            with_space = True\n",
    "            token = token[1:]\n",
    "            # print(token)\n",
    "        elif token.startswith('â'):\n",
    "            token = ' '\n",
    "        elif token.startswith('Ċ'):\n",
    "            token = ' '\n",
    "            with_break = True\n",
    "\n",
    "        token = '-' if token.startswith('â') else token\n",
    "        token = '“' if token.startswith('ľ') else token\n",
    "        token = '”' if token.startswith('Ŀ') else token\n",
    "        token = \"'\" if token.startswith('Ļ') else token\n",
    "\n",
    "        if with_space:\n",
    "            token = '\\u0120' + token\n",
    "        if with_break:\n",
    "            token = '\\u010A' + token\n",
    "\n",
    "        return token"
   ]
  },
  {
   "cell_type": "markdown",
   "id": "a79c7f5f",
   "metadata": {},
   "source": [
    "Nous pouvons donc vérifier les probabilités des mots selon GPT-2 pour une phrase quelconque avec la méthode ```lm.check_probabilities(texte, topk)```.\n",
    "\n",
    "Le format de sortie est un dictionnaire (*payload*) avec les champs suivants:\n",
    "\n",
    "- bpe_strings: list of str -- Le résultat de la tokenisation du texte original\n",
    "- real_topk: list of tuples -- (ranking, prob) de chaque token\n",
    "- pred_topk: list of list of tuple -- (word, prob) pour tous les top k mots générés par le modèle de langage\n",
    "\n",
    "Voici un example d'usage:"
   ]
  },
  {
   "cell_type": "code",
   "execution_count": 10,
   "id": "877974b0",
   "metadata": {},
   "outputs": [
    {
     "name": "stdout",
     "output_type": "stream",
     "text": [
      "Loaded GPT-2 model! on cpu\n",
      "(0, 0.0623)\n",
      "(8204, 0.0)\n",
      "(0, 0.12894)\n",
      "(0, 0.44741)\n",
      "(103, 0.00035)\n",
      "(2, 0.05531)\n",
      "(123, 0.00116)\n",
      "(101, 0.001)\n",
      "(0, 0.44101)\n",
      "(1111, 6e-05)\n",
      "(61, 0.00193)\n",
      "(1, 0.0997)\n",
      "(3114, 2e-05)\n",
      "(0, 0.97368)\n",
      "(711, 0.00021)\n",
      "(0, 0.99826)\n",
      "(7, 0.02311)\n",
      "(0, 0.54177)\n",
      "(0, 0.31665)\n",
      "(6, 0.01558)\n",
      "(6, 0.0395)\n",
      "(433, 0.00025)\n",
      "(1, 0.08288)\n",
      "(0, 0.99283)\n",
      "(10, 0.01472)\n",
      "(3, 0.04831)\n",
      "(1, 0.064)\n",
      "(0, 0.1748)\n",
      "(70, 0.00255)\n",
      "(0, 0.71074)\n",
      "(2, 0.08235)\n",
      "(0, 0.34111)\n",
      "(73, 0.00084)\n",
      "(1, 0.10849)\n",
      "(2, 0.08589)\n",
      "(5, 0.01151)\n",
      "(1, 0.12728)\n",
      "(2, 0.05384)\n",
      "(1, 0.24155)\n",
      "(1, 0.34676)\n",
      "(0, 0.57307)\n",
      "(0, 0.93958)\n",
      "(0, 0.40557)\n",
      "(0, 0.23922)\n",
      "(0, 0.99761)\n",
      "(165, 0.00041)\n",
      "(152, 0.00062)\n",
      "(0, 0.56933)\n",
      "(0, 0.45341)\n",
      "(0, 0.5046)\n",
      "(27, 0.0)\n",
      "(0, 0.61796)\n",
      "(0, 0.85409)\n",
      "(0, 0.18515)\n"
     ]
    }
   ],
   "source": [
    "raw_text = \"\"\"\n",
    "    In a shocking finding, scientist discovered a herd of unicorns living in a remote, previously unexplored valley, in the Andes Mountains. Even more surprising to the researchers was the fact that the unicorns spoke perfect English.\n",
    "    \"\"\"\n",
    "\n",
    "lm = LM()\n",
    "payload = lm.check_probabilities(raw_text, topk=5)\n",
    "\n",
    "for k in payload['real_topk']:\n",
    "    print(k)"
   ]
  },
  {
   "cell_type": "markdown",
   "id": "e7154ded",
   "metadata": {},
   "source": [
    "Dans la cellule suivante on vous met à disposition une fonction ```plot_payload``` pour dessiner un diagramme à barre (similaire à celui proposé par GLTR) où on représente l'information rélative à la position du token existant dans le texte par rapport aux prédictions du modèle. Donc, si un token a été trouvé dans les premières 10 propositions le plus probables du modèle, on ajoutera +1 à la colonne $< 10$, si un token a été trouvé entre la proposition 10 et 100 on ajoutera un +1 pour la colonne $<100$ etc...\n",
    "\n",
    "Il y a aussi une fonction ```plot_histogram``` qui montre la distribution de probabilité des tokens d'une phrase sous forme d'un histogramme.\n",
    "\n",
    "Voici le code et un exemple pour illustrer le fonctionnement"
   ]
  },
  {
   "cell_type": "code",
   "execution_count": 11,
   "id": "f97fddc6",
   "metadata": {},
   "outputs": [
    {
     "data": {
      "image/png": "[encoded data removed]",
      "text/plain": [
       "<Figure size 640x480 with 1 Axes>"
      ]
     },
     "metadata": {},
     "output_type": "display_data"
    },
    {
     "data": {
      "image/png": "[encoded data removed]",
      "text/plain": [
       "<Figure size 640x480 with 1 Axes>"
      ]
     },
     "metadata": {},
     "output_type": "display_data"
    }
   ],
   "source": [
    "import matplotlib.pyplot as plt\n",
    "\n",
    "def plot_payload(data):\n",
    "    # Categorize the data\n",
    "    count_less_than_10 = sum(1 for pos, prob in data if pos < 10)\n",
    "    count_less_than_100 = sum(1 for pos, prob in data if 10 <= pos < 100)\n",
    "    count_less_than_1000 = sum(1 for pos, prob in data if 100 <= pos < 1000)\n",
    "    count_greater_than_1000 = sum(1 for pos, prob in data if pos >= 1000)\n",
    "\n",
    "\n",
    "    # Labels for the bars\n",
    "    categories = ['< 10', '< 100', '< 1000', '>= 1000']\n",
    "\n",
    "    # Counts for each category\n",
    "    counts = [count_less_than_10, count_less_than_100, count_less_than_1000, count_greater_than_1000]\n",
    "\n",
    "    # Create the bar plot\n",
    "    plt.bar(categories, counts)\n",
    "    plt.xlabel('TopK count')\n",
    "    plt.ylabel('Count')\n",
    "    plt.show()\n",
    "    \n",
    "def plot_histogram(data):\n",
    "    # Extract the probabilities from the input data\n",
    "    probabilities = [prob for pos, prob in data]\n",
    "\n",
    "    # Create a histogram with 5 bins for the probabilities\n",
    "    plt.hist(probabilities, bins=5, edgecolor='k', alpha=0.7, density=True)\n",
    "\n",
    "    # Labeling the plot\n",
    "    plt.xlabel('Probability')\n",
    "    plt.ylabel('Density')\n",
    "    \n",
    "    # Show the plot\n",
    "    plt.show()\n",
    "    \n",
    "# exemple\n",
    "data = payload['real_topk']\n",
    "plot_payload(data)\n",
    "plot_histogram(data)"
   ]
  },
  {
   "cell_type": "markdown",
   "id": "245d0149",
   "metadata": {},
   "source": [
    "> **T.3**: calculer le diagramme topK pour tous les textes générés collectivement et pour les textes originaux. Comparer qualitativement les résultats obtenus et vérifier si cela est compatible avec l'attendu (notamment, dans les textes originaux il devrait y avoir davantage de tokens dans les top 100, 1000 ou 1000+)\n",
    "\n",
    "> (Attention: il faudra processer chaque review individuellement, pas concatener toutes les reviews ensemble; et après faire le \"flatten\" de la liste comme ici:"
   ]
  },
  {
   "cell_type": "code",
   "execution_count": 12,
   "id": "7404da91",
   "metadata": {},
   "outputs": [
    {
     "name": "stdout",
     "output_type": "stream",
     "text": [
      "[('a', 'b'), ('c', 'd'), ('e', 'f'), ('a', 'b'), ('d', 'e')]\n"
     ]
    }
   ],
   "source": [
    "# Sample input: a sequence of sequences\n",
    "sequence_of_sequences = [[('a', 'b'), ('c', 'd'), ('e', 'f')], [('a', 'b'), ('d', 'e')]]\n",
    "\n",
    "# Flatten the sequence of sequences into a single sequence\n",
    "flattened_sequence = [item for sublist in sequence_of_sequences for item in sublist]\n",
    "\n",
    "print(flattened_sequence)"
   ]
  },
  {
   "cell_type": "code",
   "execution_count": null,
   "id": "8384c1dd",
   "metadata": {},
   "outputs": [],
   "source": []
  },
  {
   "cell_type": "markdown",
   "id": "3e76bb5c",
   "metadata": {},
   "source": [
    "> **T.4**: vous pouvez aussi voir avec les distributions de probabilité de la même façon que pour la tâche antérieure"
   ]
  },
  {
   "cell_type": "code",
   "execution_count": 14,
   "id": "079699e0",
   "metadata": {},
   "outputs": [
    {
     "data": {
      "image/png": "[encoded data removed]",
      "text/plain": [
       "<Figure size 640x480 with 1 Axes>"
      ]
     },
     "metadata": {},
     "output_type": "display_data"
    },
    {
     "data": {
      "image/png": "[encoded data removed]",
      "text/plain": [
       "<Figure size 640x480 with 1 Axes>"
      ]
     },
     "metadata": {},
     "output_type": "display_data"
    }
   ],
   "source": [
    "### SOLUTION:\n",
    "payloads=[]\n",
    "for t in gen_texts[:10]:\n",
    "    pl = lm.check_probabilities(t, topk=5)\n",
    "    payloads.append(pl['real_topk'])\n",
    "\n",
    "data = [item for sublist in payloads for item in sublist]\n",
    "plot_histogram(data)\n",
    "\n",
    "payloads=[]\n",
    "for t in not_gen_texts[:10]:\n",
    "    pl = lm.check_probabilities(t, topk=5)\n",
    "    payloads.append(pl['real_topk'])\n",
    "\n",
    "data = [item for sublist in payloads for item in sublist]\n",
    "plot_histogram(data)"
   ]
  },
  {
   "cell_type": "markdown",
   "id": "b0b21006",
   "metadata": {},
   "source": [
    "### Utiliser la perplexité du LM\n",
    "\n",
    "On a vu que la perplexité d'une séquence de tokens $X = (x_0, \\ldots, x_t)$ est définie en tant que:\n",
    "\n",
    "$$PPL(X) = \\exp\\{-\\frac{1}{t}\\sum_i^t \\log p_\\theta(x_i | x_{<i})\\}$$\n",
    "\n",
    "où $p_\\theta$ est la probabilité estimé par un modèle de language avec paramètres (après entrainement) $\\theta$"
   ]
  },
  {
   "cell_type": "code",
   "execution_count": 15,
   "id": "70158b4c",
   "metadata": {},
   "outputs": [],
   "source": [
    "from transformers import AutoModelForCausalLM, AutoTokenizer\n",
    "model = AutoModelForCausalLM.from_pretrained(\"gpt2\")\n",
    "tokenizer = AutoTokenizer.from_pretrained(\"gpt2\")"
   ]
  },
  {
   "cell_type": "markdown",
   "id": "a60cc462",
   "metadata": {},
   "source": [
    "Le bloc suivant nous montre comment calculer la perplexité d'un LLM par rapport à une phrase donnée en utilisant directement la cross-entropy loss:"
   ]
  },
  {
   "cell_type": "code",
   "execution_count": 16,
   "id": "d01ee852",
   "metadata": {},
   "outputs": [
    {
     "name": "stdout",
     "output_type": "stream",
     "text": [
      "14.44070053100586\n",
      "39.76523971557617\n"
     ]
    }
   ],
   "source": [
    "text=gen_texts[0]\n",
    "inputs = tokenizer(text, return_tensors = \"pt\")\n",
    "loss = model(input_ids = inputs[\"input_ids\"], labels = inputs[\"input_ids\"]).loss\n",
    "ppl = torch.exp(loss)\n",
    "print(ppl.item())\n",
    "\n",
    "text=not_gen_texts[0]\n",
    "inputs  = tokenizer(text, return_tensors = \"pt\")\n",
    "loss = model(input_ids = inputs[\"input_ids\"], labels = inputs[\"input_ids\"]).loss\n",
    "ppl = torch.exp(loss)\n",
    "print(ppl.item())"
   ]
  },
  {
   "cell_type": "markdown",
   "id": "67d9ab51",
   "metadata": {},
   "source": [
    "> **T.5**: évaluer la perplexité sur un sous_ensemble (par exemple 20 chaque) des données (générés/non-générés)"
   ]
  },
  {
   "cell_type": "code",
   "execution_count": 17,
   "id": "73c937bc",
   "metadata": {},
   "outputs": [
    {
     "name": "stdout",
     "output_type": "stream",
     "text": [
      "average perplexity for generated data:  23.36303119659424\n",
      "average perplexity for not generated data:  42.4838828086853\n"
     ]
    }
   ],
   "source": [
    "perps=[]\n",
    "for text in gen_texts[:20]:\n",
    "    inputs = tokenizer(text, return_tensors = \"pt\")\n",
    "    loss = model(input_ids = inputs[\"input_ids\"], labels = inputs[\"input_ids\"]).loss\n",
    "    ppl = torch.exp(loss)\n",
    "    perps.append(ppl.item())\n",
    "print(\"average perplexity for generated data: \", np.mean(perps))\n",
    "\n",
    "perps=[]\n",
    "for text in not_gen_texts[:20]:\n",
    "    inputs = tokenizer(text, return_tensors = \"pt\")\n",
    "    loss = model(input_ids = inputs[\"input_ids\"], labels = inputs[\"input_ids\"]).loss\n",
    "    ppl = torch.exp(loss)\n",
    "    perps.append(ppl.item())\n",
    "print(\"average perplexity for not generated data: \", np.mean(perps))"
   ]
  },
  {
   "cell_type": "code",
   "execution_count": null,
   "id": "90876855",
   "metadata": {},
   "outputs": [],
   "source": []
  }
 ],
 "metadata": {
  "kernelspec": {
   "display_name": "Python 3 (ipykernel)",
   "language": "python",
   "name": "python3"
  },
  "language_info": {
   "codemirror_mode": {
    "name": "ipython",
    "version": 3
   },
   "file_extension": ".py",
   "mimetype": "text/x-python",
   "name": "python",
   "nbconvert_exporter": "python",
   "pygments_lexer": "ipython3",
   "version": "3.10.12"
  }
 },
 "nbformat": 4,
 "nbformat_minor": 5
}
