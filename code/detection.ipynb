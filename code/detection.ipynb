{
 "cells": [
  {
   "cell_type": "markdown",
   "metadata": {},
   "source": [
    "goals for the week:\n",
    "\n",
    "Preprocessing\n",
    "\n",
    "Bag of words\n",
    "\n",
    "Use la méthode avec fréquence ou fréquence logarithmique\n",
    "\n",
    "Enlever les stop words\n",
    "Stemming\n",
    "\n",
    "Dimensionality reduction\n",
    "\n",
    "Bert: get a representation of the words, se renseigner\n",
    "\n",
    "chose a clasifier SVM , logistic regression, fully connected neural network (1/3 layers)\n",
    "\n",
    "reduce the size of the vocabulary removing the words that appears only once\n",
    "\n"
   ]
  },
  {
   "cell_type": "markdown",
   "metadata": {},
   "source": [
    "#### 1) getting the data into dataframes"
   ]
  },
  {
   "cell_type": "code",
   "execution_count": 112,
   "metadata": {},
   "outputs": [],
   "source": [
    "import pandas as pd\n",
    "import glob\n",
    "import numpy as np\n",
    "\n",
    "# Allows to chose between https://github.com/vijini/GPT2_Generated-Hotel_reviews ( dataset=1 ) or https://github.com/dbuscaldi/op_spam_GPT3 (=0)\n",
    "dataset=1 \n"
   ]
  },
  {
   "cell_type": "code",
   "execution_count": 113,
   "metadata": {},
   "outputs": [
    {
     "name": "stdout",
     "output_type": "stream",
     "text": [
      "Here is the dataset in a dataframe \n",
      "                                                   Text  Positive/Negative  \\\n",
      "0     The Hard Rock Hotel Chicago has become my favo...                  1   \n",
      "1     My wife and I had to stay downtown for event t...                  1   \n",
      "2     took a weekend trip with my wife. got a great ...                  1   \n",
      "3     We stayed here because of all the great review...                  1   \n",
      "4     Just returned from a week in Chicago with the ...                  1   \n",
      "...                                                 ...                ...   \n",
      "1595  The hotel was undergoing renovations so it was...                  0   \n",
      "1596  My son & I joined my husband on a work trip. W...                  0   \n",
      "1597  We experienced bed bugs in our room while stay...                  0   \n",
      "1598  The room was big and luxurious, befitting the ...                  0   \n",
      "1599  My two girlfriends and I arrived at the hotel,...                  0   \n",
      "\n",
      "      Deceptive  \n",
      "0             0  \n",
      "1             0  \n",
      "2             0  \n",
      "3             0  \n",
      "4             0  \n",
      "...         ...  \n",
      "1595          0  \n",
      "1596          0  \n",
      "1597          0  \n",
      "1598          0  \n",
      "1599          0  \n",
      "\n",
      "[1600 rows x 3 columns]\n"
     ]
    }
   ],
   "source": [
    "if dataset==0:\n",
    "    file_path = '/Users/Forcioli/desktop/STAGE_weeks/week_2/generated_GPT3_negative/*.txt'\n",
    "    text_files = glob.glob(file_path)\n",
    "    generated_negative = []\n",
    "    for file in text_files:\n",
    "        with open(file, 'r') as f:\n",
    "            content = f.read() # 0 if truthful 1 if deceptive\n",
    "            generated_negative.append([content, 1, 0,1]) # first column text 2nd generated (1 if generated 0 else) 3rd negative (0) positive (1)\n",
    "    df_gn = pd.DataFrame(generated_negative, columns=['Text', 'Generated', 'Positive/Negative','Deceptive'])\n",
    "\n",
    "    file_path = '/Users/Forcioli/desktop/STAGE_weeks/week_2/generated_GPT3_positive/*.txt'\n",
    "    text_files = glob.glob(file_path)\n",
    "    generated_positive = []\n",
    "    for file in text_files:\n",
    "        with open(file, 'r') as f:\n",
    "            content = f.read()\n",
    "            generated_positive.append([content, 1, 1,1]) # first column text 2nd generated (1 if generated 0 else) 3rd negative (0) positive (1)\n",
    "    df_gp = pd.DataFrame(generated_positive, columns=['Text', 'Generated', 'Positive/Negative','Deceptive'])\n",
    "\n",
    "    #file_path = '/Users/Forcioli/desktop/STAGE_weeks/week_2/not_generated/negative_polarity/deceptive_from_MTurk/*.txt'\n",
    "    #text_files = glob.glob(file_path)\n",
    "    #ngd_negative = []\n",
    "    #for file in text_files:\n",
    "    #    with open(file, 'r') as f:\n",
    "    #        content = f.read()\n",
    "    #        ngd_negative.append([content, 0, 0,1]) # first column text 2nd generated (1 if generated 0 else) 3rd negative (0) positive (1)\n",
    "    #df_ngnd = pd.DataFrame(ngd_negative, columns=['Text', 'Generated', 'Positive/Negative','Deceptive'])\n",
    "\n",
    "    file_path = '/Users/Forcioli/desktop/STAGE_weeks/week_2/not_generated/negative_polarity/truthful_from_Web/*.txt'\n",
    "    text_files = glob.glob(file_path)\n",
    "    ng_negative = []\n",
    "    for file in text_files:\n",
    "        with open(file, 'r') as f:\n",
    "            content = f.read()\n",
    "            ng_negative.append([content, 0, 0,0]) # first column text 2nd generated (1 if generated 0 else) 3rd negative (0) positive (1)\n",
    "    df_ngn = pd.DataFrame(ng_negative, columns=['Text', 'Generated', 'Positive/Negative','Deceptive'])\n",
    "\n",
    "    file_path = '/Users/Forcioli/desktop/STAGE_weeks/week_2/not_generated/positive_polarity/truthful_from_TripAdvisor/*.txt'\n",
    "    text_files = glob.glob(file_path)\n",
    "    ng_positive = []\n",
    "    for file in text_files:\n",
    "        with open(file, 'r') as f:\n",
    "            content = f.read()\n",
    "            ng_positive.append([content, 0, 1,0]) # first column text 2nd generated (1 if generated 0 else) 3rd negative (0) positive (1)\n",
    "    df_ngp = pd.DataFrame(ng_positive, columns=['Text', 'Generated', 'Positive/Negative','Deceptive'])\n",
    "\n",
    "    #file_path = '/Users/Forcioli/desktop/STAGE_weeks/week_2/not_generated/positive_polarity/deceptive_from_MTurk/*.txt'\n",
    "    #text_files = glob.glob(file_path)\n",
    "    #ngd_positive = []\n",
    "    #for file in text_files:\n",
    "    #    with open(file, 'r') as f:\n",
    "    #        content = f.read()\n",
    "    #        ngd_positive.append([content, 0, 1,1]) # first column text 2nd generated (1 if generated 0 else) 3rd negative (0) positive (1)\n",
    "    #df_ngpd = pd.DataFrame(ngd_positive, columns=['Text', 'Generated', 'Positive/Negative','Deceptive'])\n",
    "\n",
    "\n",
    "    #df = pd.concat([df_ngn, df_ngp, df_ngpd, df_ngnd, df_gp, df_gn], ignore_index=True)\n",
    "    df = pd.concat([df_ngn, df_ngp, df_gp, df_gn], ignore_index=True)\n",
    "\n",
    "else:\n",
    "    file_path = '/Users/Forcioli/desktop/STAGE_weeks/week_2/op_spam_v1.4/negative_polarity/deceptive_from_MTurk/*.txt'\n",
    "    text_files = glob.glob(file_path)\n",
    "    n_d = []\n",
    "    for file in text_files:\n",
    "        with open(file, 'r') as f:\n",
    "            content = f.read() # 0 if truthful 1 if deceptive\n",
    "            n_d.append([content, 0,1]) # first column text 2nd generated (1 if generated 0 else) 3rd negative (0) positive (1)\n",
    "    df_n_d = pd.DataFrame(n_d, columns=['Text', 'Positive/Negative','Deceptive'])\n",
    "\n",
    "\n",
    "    file_path = '/Users/Forcioli/desktop/STAGE_weeks/week_2/op_spam_v1.4/negative_polarity/truthful_from_Web/*.txt'\n",
    "    text_files = glob.glob(file_path)\n",
    "    n_nd = []\n",
    "    for file in text_files:\n",
    "        with open(file, 'r') as f:\n",
    "            content = f.read() # 0 if truthful 1 if deceptive\n",
    "            n_nd.append([content, 0,0]) # first column text 2nd generated (1 if generated 0 else) 3rd negative (0) positive (1)\n",
    "    df_n_nd = pd.DataFrame(n_nd, columns=['Text', 'Positive/Negative','Deceptive'])\n",
    "\n",
    "    file_path = '/Users/Forcioli/desktop/STAGE_weeks/week_2/op_spam_v1.4/positive_polarity/deceptive_from_MTurk/*.txt'\n",
    "    text_files = glob.glob(file_path)\n",
    "    p_d = []\n",
    "    for file in text_files:\n",
    "        with open(file, 'r') as f:\n",
    "            content = f.read() # 0 if truthful 1 if deceptive\n",
    "            p_d.append([content, 1,1]) # first column text 2nd generated (1 if generated 0 else) 3rd negative (0) positive (1)\n",
    "    df_p_d = pd.DataFrame(p_d, columns=['Text', 'Positive/Negative','Deceptive'])\n",
    "                \n",
    "\n",
    "    file_path = '/Users/Forcioli/desktop/STAGE_weeks/week_2/op_spam_v1.4/positive_polarity/truthful_from_TripAdvisor/*.txt'\n",
    "    text_files = glob.glob(file_path)\n",
    "    p_nd = []\n",
    "    for file in text_files:\n",
    "        with open(file, 'r') as f:\n",
    "            content = f.read() # 0 if truthful 1 if deceptive\n",
    "            p_nd.append([content, 1,0]) # first column text 2nd generated (1 if generated 0 else) 3rd negative (0) positive (1)\n",
    "    df_p_nd = pd.DataFrame(p_nd, columns=['Text', 'Positive/Negative','Deceptive'])\n",
    "\n",
    "\n",
    "    df = pd.concat([df_p_nd, df_p_d, df_n_d, df_n_nd], ignore_index=True)\n",
    "\n",
    "\n",
    "\n",
    "print(f'Here is the dataset in a dataframe \\n{df}')\n"
   ]
  },
  {
   "cell_type": "markdown",
   "metadata": {},
   "source": [
    "#### 2) Stemming and Bag of words"
   ]
  },
  {
   "cell_type": "code",
   "execution_count": 114,
   "metadata": {},
   "outputs": [],
   "source": [
    "from sklearn.feature_extraction.text import CountVectorizer\n",
    "from sklearn.feature_extraction.text import TfidfTransformer"
   ]
  },
  {
   "cell_type": "code",
   "execution_count": 115,
   "metadata": {},
   "outputs": [
    {
     "name": "stdout",
     "output_type": "stream",
     "text": [
      " New dataframe with text encoded with Bag of words : \n",
      "       Positive/Negative  Deceptive  \\\n",
      "0                     1          0   \n",
      "1                     1          0   \n",
      "2                     1          0   \n",
      "3                     1          0   \n",
      "4                     1          0   \n",
      "...                 ...        ...   \n",
      "1595                  0          0   \n",
      "1596                  0          0   \n",
      "1597                  0          0   \n",
      "1598                  0          0   \n",
      "1599                  0          0   \n",
      "\n",
      "                                                   Text  \n",
      "0     [0.0, 0.0, 0.0, 0.0, 0.0, 0.0, 0.0, 0.0, 0.0, ...  \n",
      "1     [0.0, 0.0, 0.0, 0.0, 0.0, 0.0, 0.0, 0.0, 0.0, ...  \n",
      "2     [0.0, 0.0, 0.0, 0.0, 0.0, 0.0, 0.0, 0.0, 0.0, ...  \n",
      "3     [0.0, 0.0, 0.0, 0.0, 0.0, 0.0, 0.0, 0.0, 0.0, ...  \n",
      "4     [0.0, 0.0, 0.0, 0.0, 0.0, 0.0, 0.0, 0.0, 0.0, ...  \n",
      "...                                                 ...  \n",
      "1595  [0.0, 0.0, 0.0, 0.0, 0.0, 0.0, 0.0, 0.0, 0.0, ...  \n",
      "1596  [0.0, 0.0, 0.0, 0.0, 0.0, 0.0, 0.0, 0.0, 0.0, ...  \n",
      "1597  [0.0, 0.0, 0.0, 0.0, 0.0, 0.0, 0.0, 0.0, 0.0, ...  \n",
      "1598  [0.0, 0.0, 0.0, 0.0, 0.0, 0.0, 0.0, 0.0, 0.0, ...  \n",
      "1599  [0.0, 0.0, 0.0, 0.0, 0.0, 0.0, 0.0, 0.0, 0.0, ...  \n",
      "\n",
      "[1600 rows x 3 columns]\n"
     ]
    }
   ],
   "source": [
    "\n",
    "# Removing \"stop words\" \n",
    "stop_words = [ 'a', 'an', 'and',',', '.','those','these','or','we','am','my', 'are', 'as', 'at', 'be', 'by', 'for', 'from','has', 'he', 'in', 'is', 'it', 'its', 'of', 'on', 'that','this', 'the', 'to', 'was', 'were', 'with']\n",
    "vectorizer = CountVectorizer(stop_words=stop_words)\n",
    "bow_matrix = vectorizer.fit_transform(df['Text']).toarray()\n",
    "\n",
    "#removing the words that appear only once\n",
    "feature_names = vectorizer.vocabulary_\n",
    "word_frequencies = bow_matrix.sum(axis=0).ravel()\n",
    "indices_to_remove = np.where(word_frequencies == 1)[0]\n",
    "bow_matrix = bow_matrix[:, np.delete(np.arange(bow_matrix.shape[1]), indices_to_remove)]\n",
    "\n",
    "tfidf_transformer = TfidfTransformer()\n",
    "bow_matrix_tf = tfidf_transformer.fit_transform(bow_matrix)\n",
    "matrix= bow_matrix_tf.toarray()\n",
    "\n",
    "df_bow = df.drop('Text', axis=1)\n",
    "df_bow['Text'] = [matrix[i] for i in range(len(matrix))]\n",
    "\n",
    "print(f' New dataframe with text encoded with Bag of words : \\n {df_bow}')"
   ]
  },
  {
   "cell_type": "markdown",
   "metadata": {},
   "source": [
    "#### 3) PCA \n",
    "\n",
    "##### 3.1) Implementation of PCA"
   ]
  },
  {
   "cell_type": "code",
   "execution_count": 116,
   "metadata": {},
   "outputs": [],
   "source": [
    "from sklearn.decomposition import PCA\n",
    "from scipy.sparse import csr_matrix"
   ]
  },
  {
   "cell_type": "code",
   "execution_count": 117,
   "metadata": {},
   "outputs": [
    {
     "name": "stdout",
     "output_type": "stream",
     "text": [
      "      Positive/Negative  Deceptive  \\\n",
      "0                     1          0   \n",
      "1                     1          0   \n",
      "2                     1          0   \n",
      "3                     1          0   \n",
      "4                     1          0   \n",
      "...                 ...        ...   \n",
      "1595                  0          0   \n",
      "1596                  0          0   \n",
      "1597                  0          0   \n",
      "1598                  0          0   \n",
      "1599                  0          0   \n",
      "\n",
      "                                                   Text       PC1       PC2  \\\n",
      "0     [0.0, 0.0, 0.0, 0.0, 0.0, 0.0, 0.0, 0.0, 0.0, ... -0.089466 -0.124378   \n",
      "1     [0.0, 0.0, 0.0, 0.0, 0.0, 0.0, 0.0, 0.0, 0.0, ... -0.052750 -0.112737   \n",
      "2     [0.0, 0.0, 0.0, 0.0, 0.0, 0.0, 0.0, 0.0, 0.0, ... -0.054184  0.063553   \n",
      "3     [0.0, 0.0, 0.0, 0.0, 0.0, 0.0, 0.0, 0.0, 0.0, ... -0.078517 -0.112771   \n",
      "4     [0.0, 0.0, 0.0, 0.0, 0.0, 0.0, 0.0, 0.0, 0.0, ... -0.009236  0.133777   \n",
      "...                                                 ...       ...       ...   \n",
      "1595  [0.0, 0.0, 0.0, 0.0, 0.0, 0.0, 0.0, 0.0, 0.0, ...  0.108776 -0.059052   \n",
      "1596  [0.0, 0.0, 0.0, 0.0, 0.0, 0.0, 0.0, 0.0, 0.0, ...  0.115579  0.035014   \n",
      "1597  [0.0, 0.0, 0.0, 0.0, 0.0, 0.0, 0.0, 0.0, 0.0, ... -0.024164  0.053972   \n",
      "1598  [0.0, 0.0, 0.0, 0.0, 0.0, 0.0, 0.0, 0.0, 0.0, ...  0.036154  0.054186   \n",
      "1599  [0.0, 0.0, 0.0, 0.0, 0.0, 0.0, 0.0, 0.0, 0.0, ...  0.216949  0.159783   \n",
      "\n",
      "           PC3  \n",
      "0    -0.079495  \n",
      "1    -0.034759  \n",
      "2    -0.073421  \n",
      "3     0.018266  \n",
      "4    -0.004855  \n",
      "...        ...  \n",
      "1595 -0.070351  \n",
      "1596 -0.037871  \n",
      "1597  0.087232  \n",
      "1598 -0.087093  \n",
      "1599 -0.010402  \n",
      "\n",
      "[1600 rows x 6 columns]\n"
     ]
    }
   ],
   "source": [
    "pca = PCA(n_components=3) \n",
    "pca_result = pca.fit_transform(matrix)\n",
    "principal_components = pca.components_\n",
    "explained_variance_ratio = pca.explained_variance_ratio_\n",
    "\n",
    "pca_df = pd.DataFrame(pca_result, columns=['PC1', 'PC2','PC3']) \n",
    "df_with_pca = pd.concat([df_bow, pca_df], axis=1)\n",
    "print(df_with_pca)\n"
   ]
  },
  {
   "cell_type": "markdown",
   "metadata": {},
   "source": [
    "##### 3.1) Visualisation of PCA"
   ]
  },
  {
   "cell_type": "code",
   "execution_count": 118,
   "metadata": {},
   "outputs": [],
   "source": [
    "import matplotlib.pyplot as plt\n",
    "from mpl_toolkits.mplot3d import Axes3D"
   ]
  },
  {
   "cell_type": "code",
   "execution_count": 119,
   "metadata": {},
   "outputs": [],
   "source": [
    "if dataset==0:\n",
    "    fig = plt.figure()\n",
    "    ax = fig.add_subplot(111, projection='3d')\n",
    "\n",
    "    generated_data = df_with_pca[df_with_pca['Generated'] == 1]\n",
    "    not_generated_data = df_with_pca[df_with_pca['Generated'] == 0]\n",
    "\n",
    "    ax.scatter(generated_data['PC1'], generated_data['PC2'], generated_data['PC3'], c='blue', label='Generated')\n",
    "    ax.scatter(not_generated_data['PC1'], not_generated_data['PC2'], not_generated_data['PC3'], c='red', label='Not Generated')\n",
    "\n",
    "    ax.set_xlabel('PC1')\n",
    "    ax.set_ylabel('PC2')\n",
    "    ax.set_zlabel('PC3')\n",
    "    ax.set_title('Data in 3D plot')\n",
    "\n",
    "\n",
    "    ax.legend()\n",
    "    plt.show()"
   ]
  },
  {
   "cell_type": "code",
   "execution_count": 120,
   "metadata": {},
   "outputs": [
    {
     "data": {
      "image/png": "[encoded data removed]",
      "text/plain": [
       "<Figure size 432x288 with 1 Axes>"
      ]
     },
     "metadata": {
      "needs_background": "light"
     },
     "output_type": "display_data"
    }
   ],
   "source": [
    "fig = plt.figure()\n",
    "ax = fig.add_subplot(111, projection='3d')\n",
    "\n",
    "positive_data = df_with_pca[df_with_pca['Positive/Negative'] == 1]\n",
    "negative_data = df_with_pca[df_with_pca['Positive/Negative'] == 0]\n",
    "\n",
    "ax.scatter(positive_data['PC1'], positive_data['PC2'], positive_data['PC3'], c='blue', label='Positive')\n",
    "ax.scatter(negative_data['PC1'], negative_data['PC2'], negative_data['PC3'], c='red', label='Negative')\n",
    "\n",
    "ax.set_xlabel('PC1')\n",
    "ax.set_ylabel('PC2')\n",
    "ax.set_zlabel('PC3')\n",
    "ax.set_title('Data in 3D plot')\n",
    "\n",
    "\n",
    "ax.legend()\n",
    "plt.show()"
   ]
  },
  {
   "cell_type": "markdown",
   "metadata": {},
   "source": [
    "##### 3.3) Splitting the dataset with PCA"
   ]
  },
  {
   "cell_type": "code",
   "execution_count": 121,
   "metadata": {},
   "outputs": [],
   "source": [
    "from sklearn.model_selection import train_test_split"
   ]
  },
  {
   "cell_type": "code",
   "execution_count": 122,
   "metadata": {},
   "outputs": [],
   "source": [
    "X_pca = df_with_pca[['PC1','PC2','PC3']].copy()\n",
    "if dataset==0:  \n",
    "    Y_generated=df_with_pca[['Generated']].copy()\n",
    "Y_pn=df_with_pca[['Positive/Negative']].copy()\n",
    "Y_d=df_with_pca[['Deceptive']].copy()\n"
   ]
  },
  {
   "cell_type": "markdown",
   "metadata": {},
   "source": [
    "##### 3.4) SVM Classifier "
   ]
  },
  {
   "cell_type": "code",
   "execution_count": 123,
   "metadata": {},
   "outputs": [],
   "source": [
    "from sklearn import svm\n",
    "from sklearn.metrics import accuracy_score"
   ]
  },
  {
   "cell_type": "markdown",
   "metadata": {},
   "source": [
    "Predicting first Generated or not"
   ]
  },
  {
   "cell_type": "code",
   "execution_count": 124,
   "metadata": {},
   "outputs": [],
   "source": [
    "if dataset==0:\n",
    "    X_train, X_test, y_train, y_test = train_test_split(X_pca, Y_generated, test_size=0.2, random_state=42)\n",
    "    classifier = svm.SVC()\n",
    "    classifier.fit(X_train, y_train)\n",
    "    y_pred = classifier.predict(X_test)\n",
    "    accuracy = accuracy_score(y_test, y_pred)\n",
    "    print(f\"Accuracy for Generated or not: {accuracy}\")\n"
   ]
  },
  {
   "cell_type": "markdown",
   "metadata": {},
   "source": [
    "Predicting Positive or Not"
   ]
  },
  {
   "cell_type": "code",
   "execution_count": 125,
   "metadata": {},
   "outputs": [
    {
     "name": "stdout",
     "output_type": "stream",
     "text": [
      "Accuracy for Positive or not: 0.890625\n"
     ]
    },
    {
     "name": "stderr",
     "output_type": "stream",
     "text": [
      "/Users/Forcioli/opt/anaconda3/lib/python3.9/site-packages/sklearn/utils/validation.py:1184: DataConversionWarning: A column-vector y was passed when a 1d array was expected. Please change the shape of y to (n_samples, ), for example using ravel().\n",
      "  y = column_or_1d(y, warn=True)\n"
     ]
    }
   ],
   "source": [
    "X_train, X_test, y_train, y_test = train_test_split(X_pca, Y_pn, test_size=0.2, random_state=42)\n",
    "classifier = svm.SVC()\n",
    "classifier.fit(X_train, y_train)\n",
    "y_pred = classifier.predict(X_test)\n",
    "accuracy = accuracy_score(y_test, y_pred)\n",
    "print(f\"Accuracy for Positive or not: {accuracy}\")\n",
    "\n"
   ]
  },
  {
   "cell_type": "markdown",
   "metadata": {},
   "source": [
    "Predicting deceptive or not"
   ]
  },
  {
   "cell_type": "code",
   "execution_count": 126,
   "metadata": {},
   "outputs": [
    {
     "name": "stderr",
     "output_type": "stream",
     "text": [
      "/Users/Forcioli/opt/anaconda3/lib/python3.9/site-packages/sklearn/utils/validation.py:1184: DataConversionWarning: A column-vector y was passed when a 1d array was expected. Please change the shape of y to (n_samples, ), for example using ravel().\n",
      "  y = column_or_1d(y, warn=True)\n"
     ]
    },
    {
     "name": "stdout",
     "output_type": "stream",
     "text": [
      "Accuracy for deceptive or not: 0.7375\n"
     ]
    }
   ],
   "source": [
    "X_train, X_test, y_train, y_test = train_test_split(X_pca, Y_d, test_size=0.2, random_state=42)\n",
    "classifier = svm.SVC()\n",
    "classifier.fit(X_train, y_train)\n",
    "y_pred = classifier.predict(X_test)\n",
    "accuracy = accuracy_score(y_test, y_pred)\n",
    "print(f\"Accuracy for deceptive or not: {accuracy}\")\n",
    "\n"
   ]
  },
  {
   "cell_type": "markdown",
   "metadata": {},
   "source": [
    "##### 3.5) Neural network "
   ]
  },
  {
   "cell_type": "markdown",
   "metadata": {},
   "source": [
    "Can not install tensorflow"
   ]
  },
  {
   "cell_type": "code",
   "execution_count": 127,
   "metadata": {},
   "outputs": [],
   "source": [
    "#import tensorflow as tf\n",
    "#from tensorflow.keras.models import Sequential\n",
    "#from tensorflow.keras.layers import Dense\n"
   ]
  },
  {
   "cell_type": "code",
   "execution_count": 128,
   "metadata": {},
   "outputs": [],
   "source": [
    "\n",
    "#model = Sequential()\n",
    "#model.add(Dense(units=hidden_units, activation='relu', input_shape=(3,)))\n",
    "#model.add(Dense(units=hidden_units, activation='relu'))\n",
    "#model.add(Dense(units=hidden_units, activation='relu'))\n",
    "\n"
   ]
  },
  {
   "cell_type": "markdown",
   "metadata": {},
   "source": [
    "##### 3.6) Logistic Regression"
   ]
  },
  {
   "cell_type": "code",
   "execution_count": 129,
   "metadata": {},
   "outputs": [],
   "source": [
    "from sklearn.linear_model import LogisticRegression\n"
   ]
  },
  {
   "cell_type": "code",
   "execution_count": 130,
   "metadata": {},
   "outputs": [],
   "source": [
    "if dataset==0:\n",
    "    X_train, X_test, y_train, y_test = train_test_split(X_pca, Y_generated, test_size=0.2, random_state=42)\n",
    "    classifier = LogisticRegression()\n",
    "    classifier.fit(X_train, y_train)\n",
    "    y_pred = classifier.predict(X_test)\n",
    "    accuracy = accuracy_score(y_test, y_pred)\n",
    "    print(f\"Accuracy for Generated or not: {accuracy}\")\n"
   ]
  },
  {
   "cell_type": "code",
   "execution_count": 131,
   "metadata": {},
   "outputs": [
    {
     "name": "stdout",
     "output_type": "stream",
     "text": [
      "Accuracy for Positive or not: 0.8625\n"
     ]
    },
    {
     "name": "stderr",
     "output_type": "stream",
     "text": [
      "/Users/Forcioli/opt/anaconda3/lib/python3.9/site-packages/sklearn/utils/validation.py:1184: DataConversionWarning: A column-vector y was passed when a 1d array was expected. Please change the shape of y to (n_samples, ), for example using ravel().\n",
      "  y = column_or_1d(y, warn=True)\n"
     ]
    }
   ],
   "source": [
    "X_train, X_test, y_train, y_test = train_test_split(X_pca, Y_pn, test_size=0.2, random_state=42)\n",
    "classifier = LogisticRegression()\n",
    "classifier.fit(X_train, y_train)\n",
    "y_pred = classifier.predict(X_test)\n",
    "accuracy = accuracy_score(y_test, y_pred)\n",
    "print(f\"Accuracy for Positive or not: {accuracy}\")"
   ]
  },
  {
   "cell_type": "code",
   "execution_count": 132,
   "metadata": {},
   "outputs": [
    {
     "name": "stdout",
     "output_type": "stream",
     "text": [
      "Accuracy for deceptive or not: 0.721875\n"
     ]
    },
    {
     "name": "stderr",
     "output_type": "stream",
     "text": [
      "/Users/Forcioli/opt/anaconda3/lib/python3.9/site-packages/sklearn/utils/validation.py:1184: DataConversionWarning: A column-vector y was passed when a 1d array was expected. Please change the shape of y to (n_samples, ), for example using ravel().\n",
      "  y = column_or_1d(y, warn=True)\n"
     ]
    }
   ],
   "source": [
    "X_train, X_test, y_train, y_test = train_test_split(X_pca, Y_d, test_size=0.2, random_state=42)\n",
    "classifier = LogisticRegression()\n",
    "classifier.fit(X_train, y_train)\n",
    "y_pred = classifier.predict(X_test)\n",
    "accuracy = accuracy_score(y_test, y_pred)\n",
    "print(f\"Accuracy for deceptive or not: {accuracy}\")"
   ]
  },
  {
   "cell_type": "markdown",
   "metadata": {},
   "source": [
    "Not as good as SVM"
   ]
  },
  {
   "cell_type": "markdown",
   "metadata": {},
   "source": [
    "#### 4) Without PCA "
   ]
  },
  {
   "cell_type": "markdown",
   "metadata": {},
   "source": [
    "##### 4.1) Feature selection"
   ]
  },
  {
   "cell_type": "code",
   "execution_count": 133,
   "metadata": {},
   "outputs": [],
   "source": [
    "from sklearn.feature_selection import SelectKBest\n",
    "from sklearn.feature_selection import chi2"
   ]
  },
  {
   "cell_type": "code",
   "execution_count": 134,
   "metadata": {},
   "outputs": [],
   "source": [
    "selector = SelectKBest(score_func=chi2, k=1000)\n"
   ]
  },
  {
   "cell_type": "code",
   "execution_count": 135,
   "metadata": {},
   "outputs": [
    {
     "name": "stdout",
     "output_type": "stream",
     "text": [
      "Selected features for Positive or negative: \n",
      " ['might' 'each' 'murals' 'cool' 'always' 'view' 'screen' 'return' 'event'\n",
      " 'bit']\n",
      "Selected features for deceptive: \n",
      " ['hard' 'favorite' 'stayed' 'times' 'have' 'had' 'other' 'than'\n",
      " 'experience' 'you']\n"
     ]
    }
   ],
   "source": [
    "if dataset==0:\n",
    "    Y_pn=df_bow[['Positive/Negative']].copy()\n",
    "    Y_d=df_bow[['Deceptive']].copy()\n",
    "    Y_g=df_bow[['Generated']].copy()\n",
    "else:\n",
    "    Y_pn=df_bow[['Positive/Negative']].copy()\n",
    "    Y_d=df_bow[['Deceptive']].copy()\n",
    "\n",
    "X_new_pn = selector.fit_transform(matrix, Y_pn)\n",
    "selected_feature_indices_pn = selector.get_support(indices=True)\n",
    "feature_list_pn=list(feature_names.keys())\n",
    "selected_features_pn = np.array(feature_list_pn)[selected_feature_indices_pn]\n",
    "\n",
    "X_new_d = selector.fit_transform(matrix, Y_d)\n",
    "selected_feature_indices_d = selector.get_support(indices=True)\n",
    "feature_list_d=list(feature_names.keys())\n",
    "selected_features_d = np.array(feature_list_d)[selected_feature_indices_d]\n",
    "\n",
    "if dataset==0:\n",
    "    X_new_g = selector.fit_transform(matrix, Y_g)\n",
    "    selected_feature_indices_g = selector.get_support(indices=True)\n",
    "    feature_list_g=list(feature_names.keys())\n",
    "    selected_features_g = np.array(feature_list_g)[selected_feature_indices_g]\n",
    "    print(f'Selected features for Generated \\n {selected_features_g[:10]}')\n",
    "\n",
    "\n",
    "print(f'Selected features for Positive or negative: \\n {selected_features_pn[:10]}')\n",
    "print(f'Selected features for deceptive: \\n {selected_features_d[:10]}')\n"
   ]
  },
  {
   "cell_type": "code",
   "execution_count": 136,
   "metadata": {},
   "outputs": [
    {
     "name": "stderr",
     "output_type": "stream",
     "text": [
      "/Users/Forcioli/opt/anaconda3/lib/python3.9/site-packages/sklearn/utils/validation.py:1184: DataConversionWarning: A column-vector y was passed when a 1d array was expected. Please change the shape of y to (n_samples, ), for example using ravel().\n",
      "  y = column_or_1d(y, warn=True)\n"
     ]
    },
    {
     "name": "stdout",
     "output_type": "stream",
     "text": [
      "Accuracy for Positive or not: 0.9625\n",
      "Accuracy for deceptive or not: 0.90625\n"
     ]
    },
    {
     "name": "stderr",
     "output_type": "stream",
     "text": [
      "/Users/Forcioli/opt/anaconda3/lib/python3.9/site-packages/sklearn/utils/validation.py:1184: DataConversionWarning: A column-vector y was passed when a 1d array was expected. Please change the shape of y to (n_samples, ), for example using ravel().\n",
      "  y = column_or_1d(y, warn=True)\n"
     ]
    }
   ],
   "source": [
    "if dataset==0:\n",
    "    X_train, X_test, y_train, y_test = train_test_split(X_new_g, Y_g, test_size=0.2, random_state=42)\n",
    "    classifier = svm.SVC()\n",
    "    classifier.fit(X_train, y_train)\n",
    "    y_pred = classifier.predict(X_test)\n",
    "    accuracy = accuracy_score(y_test, y_pred)\n",
    "    print(f\"Accuracy for Generated or not: {accuracy}\")\n",
    "\n",
    "X_train, X_test, y_train, y_test = train_test_split(X_new_pn, Y_pn, test_size=0.2, random_state=42)\n",
    "classifier = svm.SVC()\n",
    "classifier.fit(X_train, y_train)\n",
    "y_pred = classifier.predict(X_test)\n",
    "accuracy = accuracy_score(y_test, y_pred)\n",
    "print(f\"Accuracy for Positive or not: {accuracy}\")\n",
    "\n",
    "X_train, X_test, y_train, y_test = train_test_split(X_new_d, Y_d, test_size=0.2, random_state=42)\n",
    "\n",
    "classifier = LogisticRegression()\n",
    "classifier.fit(X_train, y_train)\n",
    "y_pred = classifier.predict(X_test)\n",
    "accuracy = accuracy_score(y_test, y_pred)\n",
    "print(f\"Accuracy for deceptive or not: {accuracy}\")"
   ]
  },
  {
   "cell_type": "code",
   "execution_count": 137,
   "metadata": {},
   "outputs": [
    {
     "name": "stderr",
     "output_type": "stream",
     "text": [
      "/Users/Forcioli/opt/anaconda3/lib/python3.9/site-packages/sklearn/utils/validation.py:1184: DataConversionWarning: A column-vector y was passed when a 1d array was expected. Please change the shape of y to (n_samples, ), for example using ravel().\n",
      "  y = column_or_1d(y, warn=True)\n",
      "/Users/Forcioli/opt/anaconda3/lib/python3.9/site-packages/sklearn/utils/validation.py:1184: DataConversionWarning: A column-vector y was passed when a 1d array was expected. Please change the shape of y to (n_samples, ), for example using ravel().\n",
      "  y = column_or_1d(y, warn=True)\n",
      "/Users/Forcioli/opt/anaconda3/lib/python3.9/site-packages/sklearn/utils/validation.py:1184: DataConversionWarning: A column-vector y was passed when a 1d array was expected. Please change the shape of y to (n_samples, ), for example using ravel().\n",
      "  y = column_or_1d(y, warn=True)\n",
      "/Users/Forcioli/opt/anaconda3/lib/python3.9/site-packages/sklearn/utils/validation.py:1184: DataConversionWarning: A column-vector y was passed when a 1d array was expected. Please change the shape of y to (n_samples, ), for example using ravel().\n",
      "  y = column_or_1d(y, warn=True)\n",
      "/Users/Forcioli/opt/anaconda3/lib/python3.9/site-packages/sklearn/utils/validation.py:1184: DataConversionWarning: A column-vector y was passed when a 1d array was expected. Please change the shape of y to (n_samples, ), for example using ravel().\n",
      "  y = column_or_1d(y, warn=True)\n",
      "/Users/Forcioli/opt/anaconda3/lib/python3.9/site-packages/sklearn/utils/validation.py:1184: DataConversionWarning: A column-vector y was passed when a 1d array was expected. Please change the shape of y to (n_samples, ), for example using ravel().\n",
      "  y = column_or_1d(y, warn=True)\n",
      "/Users/Forcioli/opt/anaconda3/lib/python3.9/site-packages/sklearn/utils/validation.py:1184: DataConversionWarning: A column-vector y was passed when a 1d array was expected. Please change the shape of y to (n_samples, ), for example using ravel().\n",
      "  y = column_or_1d(y, warn=True)\n"
     ]
    },
    {
     "name": "stdout",
     "output_type": "stream",
     "text": [
      "Average accuracy for Deceptive or not: 0.9193808757702117\n"
     ]
    },
    {
     "name": "stderr",
     "output_type": "stream",
     "text": [
      "/Users/Forcioli/opt/anaconda3/lib/python3.9/site-packages/sklearn/utils/validation.py:1184: DataConversionWarning: A column-vector y was passed when a 1d array was expected. Please change the shape of y to (n_samples, ), for example using ravel().\n",
      "  y = column_or_1d(y, warn=True)\n",
      "/Users/Forcioli/opt/anaconda3/lib/python3.9/site-packages/sklearn/utils/validation.py:1184: DataConversionWarning: A column-vector y was passed when a 1d array was expected. Please change the shape of y to (n_samples, ), for example using ravel().\n",
      "  y = column_or_1d(y, warn=True)\n",
      "/Users/Forcioli/opt/anaconda3/lib/python3.9/site-packages/sklearn/utils/validation.py:1184: DataConversionWarning: A column-vector y was passed when a 1d array was expected. Please change the shape of y to (n_samples, ), for example using ravel().\n",
      "  y = column_or_1d(y, warn=True)\n",
      "/Users/Forcioli/opt/anaconda3/lib/python3.9/site-packages/sklearn/utils/validation.py:1184: DataConversionWarning: A column-vector y was passed when a 1d array was expected. Please change the shape of y to (n_samples, ), for example using ravel().\n",
      "  y = column_or_1d(y, warn=True)\n",
      "/Users/Forcioli/opt/anaconda3/lib/python3.9/site-packages/sklearn/utils/validation.py:1184: DataConversionWarning: A column-vector y was passed when a 1d array was expected. Please change the shape of y to (n_samples, ), for example using ravel().\n",
      "  y = column_or_1d(y, warn=True)\n",
      "/Users/Forcioli/opt/anaconda3/lib/python3.9/site-packages/sklearn/utils/validation.py:1184: DataConversionWarning: A column-vector y was passed when a 1d array was expected. Please change the shape of y to (n_samples, ), for example using ravel().\n",
      "  y = column_or_1d(y, warn=True)\n",
      "/Users/Forcioli/opt/anaconda3/lib/python3.9/site-packages/sklearn/utils/validation.py:1184: DataConversionWarning: A column-vector y was passed when a 1d array was expected. Please change the shape of y to (n_samples, ), for example using ravel().\n",
      "  y = column_or_1d(y, warn=True)\n"
     ]
    },
    {
     "name": "stdout",
     "output_type": "stream",
     "text": [
      "Average accuracy for Positive or not: 0.9625045145615129\n"
     ]
    }
   ],
   "source": [
    "from sklearn.model_selection import KFold\n",
    "from sklearn.metrics import accuracy_score\n",
    "\n",
    "if dataset==0:\n",
    "    kf = KFold(n_splits=7, shuffle=True)  \n",
    "    model = svm.SVC()  \n",
    "    scores = []  \n",
    "\n",
    "    for train_index, val_index in kf.split(X_new_g):\n",
    "        X_train, X_val = X_new_g[train_index], X_new_g[val_index] \n",
    "        y_train, y_val = Y_g.values[train_index], Y_g.values[val_index]  \n",
    "        model.fit(X_train, y_train)  \n",
    "        y_pred = model.predict(X_val) \n",
    "        score = accuracy_score(y_val, y_pred)  \n",
    "        scores.append(score) \n",
    "    average_score = sum(scores) / 7\n",
    "    print(\"Average accuracy for Generated or not:\", average_score)\n",
    "\n",
    "kf = KFold(n_splits=7, shuffle=True)  \n",
    "model = svm.SVC()  \n",
    "scores = []  \n",
    "\n",
    "for train_index, val_index in kf.split(X_new_d):\n",
    "    X_train, X_val = X_new_d[train_index], X_new_d[val_index] \n",
    "    y_train, y_val = Y_d.values[train_index], Y_d.values[val_index]  \n",
    "    model.fit(X_train, y_train)  \n",
    "    y_pred = model.predict(X_val) \n",
    "    score = accuracy_score(y_val, y_pred)  \n",
    "    scores.append(score) \n",
    "average_score = sum(scores) / 7\n",
    "print(\"Average accuracy for Deceptive or not:\", average_score)\n",
    "\n",
    "kf = KFold(n_splits=7, shuffle=True)  \n",
    "model = svm.SVC()  \n",
    "scores = []  \n",
    "\n",
    "for train_index, val_index in kf.split(X_new_pn):\n",
    "    X_train, X_val = X_new_pn[train_index], X_new_pn[val_index] \n",
    "    y_train, y_val = Y_pn.values[train_index], Y_pn.values[val_index]  \n",
    "    model.fit(X_train, y_train)  \n",
    "    y_pred = model.predict(X_val) \n",
    "    score = accuracy_score(y_val, y_pred)  \n",
    "    scores.append(score) \n",
    "average_score = sum(scores) / 7\n",
    "print(\"Average accuracy for Positive or not:\", average_score)\n",
    "\n"
   ]
  },
  {
   "cell_type": "code",
   "execution_count": 138,
   "metadata": {},
   "outputs": [],
   "source": [
    "if dataset==1:\n",
    "    len_n= 800\n",
    "    len_p= 800\n",
    "    len_d=800\n",
    "    len_nd=800\n",
    "\n",
    "if dataset==0:\n",
    "    len_n= 1200\n",
    "    len_p= 1200\n",
    "    len_d=800\n",
    "    len_nd=800\n",
    "    len_ng= 1600\n",
    "    len_g=800\n",
    "\n",
    "\n",
    "if dataset==0:\n",
    "    freq_generated={f:0 for f in selected_features_g}\n",
    "    freq_ngenerated={f:0 for f in selected_features_g}\n",
    "    for word,g in zip(df_bow['Text'],df_bow['Generated']):\n",
    "        for i in selected_feature_indices_g:\n",
    "            if word[i]!=0:\n",
    "                if g==1:\n",
    "                    freq_generated[feature_list_g[i]]+=word[i]\n",
    "                else: \n",
    "                    freq_ngenerated[feature_list_g[i]]+=word[i]\n",
    "    freq_generated={n:freq_generated[n]/len_g for n in freq_generated}\n",
    "    freq_ngenerated={n:freq_ngenerated[n]/len_ng for n in freq_ngenerated}\n",
    "\n",
    "\n",
    "freq_deceptive={f:0 for f in selected_features_d}\n",
    "freq_ndeceptive={f:0 for f in selected_features_d}\n",
    "for word,g in zip(df_bow['Text'],df_bow['Deceptive']):\n",
    "    for i in selected_feature_indices_d:\n",
    "        if word[i]!=0:\n",
    "            if g==1:\n",
    "                freq_deceptive[feature_list_d[i]]+=word[i]\n",
    "            else: \n",
    "                freq_ndeceptive[feature_list_d[i]]+=word[i]\n",
    "                \n",
    "freq_deceptive={n:freq_deceptive[n]/len_d for n in freq_deceptive}\n",
    "freq_ndeceptive={n:freq_ndeceptive[n]/len_nd for n in freq_ndeceptive}\n",
    "\n",
    "freq_positive={f:0 for f in selected_features_pn}\n",
    "freq_negative={f:0 for f in selected_features_pn}\n",
    "for word,g in zip(df_bow['Text'],df_bow['Positive/Negative']):\n",
    "    for i in selected_feature_indices_pn:\n",
    "        if word[i]!=0:\n",
    "            if g==1:\n",
    "                freq_positive[feature_list_pn[i]]+=word[i]\n",
    "            else: \n",
    "                freq_negative[feature_list_pn[i]]+=word[i]\n",
    "freq_positive={n:freq_positive[n]/len_p for n in freq_positive}\n",
    "freq_negative={n:freq_negative[n]/len_n for n in freq_negative}\n",
    "\n",
    "    \n",
    "\n",
    "                "
   ]
  },
  {
   "cell_type": "code",
   "execution_count": 139,
   "metadata": {},
   "outputs": [
    {
     "name": "stdout",
     "output_type": "stream",
     "text": [
      " FREQUENCE OF THE MOST RELEVANT WORDS FOR POSITIVE OR NEGATIVE IN POSITIVE TEXTS {'might': 0.0014400147687945724, 'each': 0.0, 'murals': 0.001778100378641111, 'cool': 0.0004976318610547694, 'always': 0.0018280102301322077, 'view': 0.0, 'screen': 0.0, 'return': 0.0013699024746665217, 'event': 0.013134418098070881, 'bit': 0.008112829906444243, 'instead': 0.00698000968750103, 'renovations': 0.0033039328918971324, 'job': 0.00188182611724325, 'when': 0.00020715532485427124, 'any': 0.0, 'more': 0.00012981913383478178, 'location': 0.0, 'albeit': 0.0015707267267407634, 'every': 0.0018835445978788823, 'expect': 0.0002594418729068198, 'tastefully': 0.002580798172985712, 'asian': 0.002790085172631671, 'four': 0.000574909069265746, 'cramped': 0.0024528210366048264, 'friendly': 0.00037342247587051925, 'beat': 0.0, 'current': 0.010457468018341166, 'watch': 0.000178277882311179, 'suggested': 0.0, 'because': 0.0, 'impressed': 0.0023443714562904326, 'five': 0.0, 'hilton': 0.0030511375909946063, 'far': 0.0014510945113441716, 'good': 0.003780313607968593, '300': 0.010455619292532787, 'just': 0.0021451883790236633, 'returned': 0.01620425008546054, 'week': 0.00159692132211956, 'perfect': 0.007867355863144004, 'after': 0.0019208763536728783, 'checked': 0.0008589742877274647, 'pick': 0.00017236222565233827, 'closet': 0.0006034304884272329, 'amount': 0.003747797136960973, 'gear': 0.0, '29': 0.008143643217306522, 'order': 0.009894791066273268, 'facing': 0.0001294070542751681, 'bathroom': 0.0, 'separate': 0.0, 'ammenities': 0.0, 'beautiful': 0.0, 'bouquet': 0.0, 'upon': 0.00015593347985056995, 'outside': 0.00045756959386862513, 'where': 0.0, 'making': 0.004169653701996031, 'reccomend': 0.0024135455813317956, 'will': 0.01652834790788875, 'hd': 0.0, 'panel': 0.0, 'work': 0.005418574097284294, 'out': 0.0007994898423669841, 'machines': 0.0, 'free': 0.0048813784816829665, 'better': 0.002984682841703255, 'kind': 0.004082710276077076, 'shopping': 0.0007350681834421219, 'upper': 0.0009316513549506799, 'access': 0.0, 'available': 0.00025447665896518494, 'low': 0.007123688437283024, 'dozen': 0.0, 'professional': 0.00012903410903086093, 'complimentary': 0.00451256515433995, 'delivered': 0.0005818802467110291, 'attended': 0.005973828566610815, 'waitresses': 0.0037965581647109153, 'coffee': 0.00892701541033961, 'shop': 0.0018248416493792973, 'door': 0.006516075478138425, 'bell': 0.0017374946505122734, 'persons': 0.0, 'inquired': 0.0, '20': 0.00017552945556473037, '23rd': 0.012765590013324835, 'sixteen': 0.00647976178404032, 'old': 0.00012065402459036028, 'john': 0.0031055478538885043, 'vacation': 0.0013904256551090471, 'visit': 0.0, 'mark': 0.00035998540608322423, 'meal': 0.0005401859192422782, 'dessert': 0.001925282816153865, 'salty': 0.0046624583150654195, 'complaint': 0.0009559938331225558, 'start': 0.0, 'thank': 0.0013540670451045525, 'wait': 0.0010878683128630275, 'omni': 0.020831331461061007, 'membership': 0.004046629093758982, 'student': 0.007497085108906819, 'pastries': 0.01265762276104177, 'hors': 0.008433069814867893, 'lots': 0.006879303772039452, 'cons': 0.00041002558194154633, 'arrive': 0.0011828936398914983, 'weekends': 0.0, 'set': 0.0005504320520854967, 'market': 0.019140866544960066, 'fall': 0.007382361577169907, 'interesting': 0.00017582687133766887, 'seen': 0.0007399144364572531, 'kinds': 0.0, 'suburbs': 0.0, 'center': 0.00014129780905467043, 'bedrooms': 0.0, 'mansions': 9.879897352156758e-05, 'simply': 0.00010133640345687114, '100': 0.0, 'first': 0.0043901359607670006, 'nights': 0.007238683305879409, 'mile': 0.0012305226102991298, 'pier': 0.0009510934938066766, 'disturbed': 0.002093443577596876, 'airy': 0.007251826318751638, 'honestly': 0.0013441170343801818, 'captain': 0.00022721007365106394, 'until': 0.0, 'greeting': 0.0003395937540154692, 'slept': 0.0005017322646548416, 'pleased': 0.014533966389918948, 'midwest': 0.003666630558433895, 'bigger': 0.0014666023231090564, 'apartment': 0.0, 'able': 0.0, 'self': 0.004016960271591884, 'machine': 0.0, 'sure': 0.0004427301085749112, 'refresh': 0.0010663353975308, 'pillow': 0.0, 'issue': 0.0009577331361340408, 'types': 0.017362039821305082, 'anxious': 0.023796949047025166, 'believe': 0.0016969028170996587, 'disapointed': 0.002195834919192402, 'wow': 0.0003899529486747924, 'com': 0.00013446423635775836, 'breeze': 0.004461049212975358, 'nightstands': 0.0, 'table': 0.0, 'blocks': 0.0005349789042585969, 'itself': 0.00041234269525296046, 'taken': 0.0, 'booth': 9.200170663645859e-05, 'sat': 0.00018558981367879657, 'adorn': 0.000698089227552265, 'chance': 0.0, 'expedia': 0.0017870027392199875, 'magnificent': 0.00016206663143587208, 'picked': 0.007081953985148971, 'ta': 0.0018911598487822035, 'corner': 0.0010024137392001028, 'two': 0.0005428368414925147, 'plasma': 0.0, 'provided': 0.0016454896102296374, 'come': 0.0006731180667328859, 'relaxing': 0.0007859481430092116, 'playing': 8.551299366779725e-05, 'prepared': 0.0012675190998465194, 'melissa': 0.011074238330264006, 'curtis': 0.00438683841829447, 'maps': 0.001534334755211817, 'heard': 0.0023596324608208927, 'construction': 0.048858016136495486, 'comfy': 0.0, 'theaters': 0.0009408654456147514, 'imagine': 0.0, 'surprise': 0.0, 'cab': 0.01956058640593279, 'ride': 0.00019606219563393136, 'dec': 0.0, 'festival': 0.00019086773462229892, 'end': 0.004527407910572793, 'cloying': 0.0035779620894907486, 'unfailingly': 0.0266585159255752, 'provides': 0.0007205394081059173, 'gratis': 0.001316994068475015, 'bedding': 0.0006357402060811527, 'truly': 0.0005749927898449141, 'figure': 0.0015071642328103546, 'buckingham': 0.01255028520935383, 'quieter': 0.0008851245035120373, 'scenic': 0.0009323713001577756, 'bargain': 0.00018781582339678614, 'surpassed': 0.001434899535068722, 'treated': 0.002577834772635462, 'number': 0.003042683013078104, '80': 0.0008803526661696695, 'lined': 0.0034439120157273673, 'near': 0.025967247910724144, 'air': 0.0011829576225118475, 'mentioned': 0.004661790744588779, 'quite': 0.0, 'brand': 0.0001781764843487282, 'warm': 0.0007176877600075657, 'quick': 0.0003909025241464348, 'efficient': 0.0, 'given': 0.0019014307410740122, 'nearby': 0.006126091689348561, 'gourmet': 0.0, 'minutes': 0.009114981390302354, 'late': 0.0009982233440088133, 'assist': 0.0, '14th': 0.0, 'deluxe': 0.00018550819861698893, 'cocktail': 0.0, 'bedroom': 0.0, 'busy': 0.0020661099433044007, 'touches': 0.00017758844570170792, 'webcams': 0.0002348455792671105, 'dog': 0.006014553393879979, 'maintain': 0.0, 'taste': 0.001167514806798828, 'wall': 0.00010493831202360882, 'chinese': 0.00205240180716057, 'levels': 0.012613396048279575, 'tvs': 0.0007514396043871976, 'bathrobes': 0.0, 'arrangement': 0.004783476242728773, 'cost': 0.00026704218528925507, 'taxes': 0.0006061177074425334, 'museum': 0.0051666166359585, 'does': 0.0, 'bowl': 0.0006274424609363769, 'elegance': 0.0, 'matter': 0.0009378699790425427, 'into': 0.0009894174418913298, 'hardly': 0.0, 'shuffle': 0.00018531101885393145, 'pass': 0.0, 'stopped': 0.0, 'maids': 0.0011448717354285531, 'heat': 0.0, 'directed': 0.0, 'written': 0.00016661220535601936, 'avoided': 0.00126715917969819, 'til': 0.0, 'charged': 0.007599841222208664, 'kinda': 0.005664252675308154, 'sweetie': 0.004204755346017698, 'lures': 0.002451901575440391, 'china': 0.020185658994245573, 'hi': 0.0002830845383259598, 'ladies': 0.006713588960395339, 'something': 0.001550391999850271, 'yet': 0.0, 'couch': 0.0024325164352335628, 'animal': 0.010443673196298662, 'wish': 0.0008046741348990501, 'congenial': 0.008063260906672412, 'steps': 0.008860246944752863, 'architecture': 0.0027915152865451405, 'america': 0.000617530393797727, 'technician': 0.0004199836192990806, 'unable': 0.006303902019131538, 'solve': 0.008440442766299574, 'problem': 0.001971635913412978, 'knikerbocker': 0.0, '116': 0.00023462730299748824, 'updated': 0.0014153481841816856, 'negatives': 0.0004794769437821521, 'pay': 0.00011626337834422518, 'centre': 0.0, 'june': 0.0008982972982681943, 'flew': 0.0, 'hare': 0.00018402840173385078, 'overlooked': 0.0, 'expecting': 0.0, 'appetizers': 0.0, 'stop': 0.010523193194582068, 'bright': 0.0022985324101161358, 'amazingly': 0.00010227894934308534, 'sites': 0.007666158677222385, 'call': 0.0015529105447234974, 'guaranteed': 0.0015857792578184832, 'sidewalk': 0.00524498255791906, 'rain': 0.005722514128427455, 'historic': 0.0053370372629063375, 'hear': 0.0, 'david': 0.015848782772935967, 'cannot': 0.0, 'plans': 0.005083952513784461, 'revolve': 0.0, 'advanced': 0.00037801046244405237, 'connected': 0.0, 'neighboring': 0.0017416028855946593, 'kitchen': 0.0071923175717614205, 'therefore': 0.008645619698011345, 'trinket': 0.0027876601451472245, 'midcentury': 0.0028414331337587393, 'style': 0.0016238238844972657, 'sensibilities': 0.0022372863243211253, 'occurred': 0.0020614325732384283, 'involving': 0.007677937181305431, 'aggravating': 0.0017453622715283737, 'actively': 0.0015253863221259374, 'competent': 0.0021256339917497353, 'satisfied': 0.0005417616115508265, 'following': 0.00041491306178906664, 'mouth': 0.0, 'troubles': 0.00038810703364752216, 'stories': 0.0012844858807681094, 'st': 0.0031986815596590705, 'sinks': 0.016610176953760995, 'gladly': 0.001324574826918946, 'institute': 0.00039870637270097634, 'brief': 0.001869663439899114, 'sights': 0.0029268148607614493, 'pack': 0.0, 'dark': 0.0010768858233267588, 'common': 0.0004922558801124597, 'staring': 0.0013678566301943004, 'slighty': 0.013266031641013644, 'longer': 0.005050198495839546, 'drink': 0.0, 'listening': 0.011585040483956654, 'fling': 0.007706380559041339, 'school': 0.016436100342147323, 'conceirge': 0.001578066918243811, 'elsewhere': 0.0009153830291885526, 'sheraton': 0.019044350070033234, 'ad': 0.0005532094344624606, 'guide': 0.0038583906844262476, 'airport': 0.0010265603338335512, 'bono': 0.0032114755707139003, 'coffe': 0.002149305890352642, 'maker': 0.00044195780937618666, 'junkie': 0.0010463915391441259, 'bottles': 0.0, 'memorabilia': 0.001453666624484158, 'travelzoo': 0.006548315391359912, 'movies': 0.0009552330896902262, 'travellers': 0.0, 'couples': 0.00023941666347341033, 'disappointed': 0.00054644077854001, 'disappointing': 0.011001192932678448, 'rewarded': 0.00043754579490102463, 'sipping': 0.00028363041264244023, 'printing': 0.012596817454872362, 'lit': 0.003014761859139078, 'cheerful': 0.0, 'tim': 0.005289556841386559, 'turning': 0.001117533845081621, 'presidents': 0.0008248267114229524, 'exceptional': 0.009621323488396227, 'mostly': 0.0040902578141630615, 'cart': 0.00031991569408242504, 'alone': 0.0009208658244573207, 'bloomingdales': 9.200170663645859e-05, 'bagel': 0.0007875033229231425, 'cream': 0.005860590990731306, 'european': 0.010713020486417401, 'answered': 0.00015163236936792748, 'unique': 0.0068324401116389545, 'lacking': 0.0009049689084970653, 'lifts': 0.0009485483996051945, 'substantial': 0.00012725361861731777, '2s': 0.0002882089711547135, 'subway': 0.0, 'convenient': 0.007253849738253025, 'regardless': 0.02465887442527568, 'annoying': 0.007690807041599903, 'uno': 0.009461861665292287, 'professionally': 0.0017407247006713156, 'trump': 0.0068744384441638395, 'transportation': 0.002558602714443791, 'opened': 0.0013921385739735926, 'printed': 0.0035236716660958078, 'partying': 0.0011294323922214054, 'whatever': 0.00026900940311434297, 'pricing': 0.0002728344442214264, 'espn': 0.013294853105538266, 'heading': 0.0028245241306464526, 'noticed': 0.0007162804864309324, 'corporate': 0.0013386188123869702, 'attention': 0.0024654804041332485, 'below': 0.0, 'wants': 0.0004116016021029006, 'bakery': 0.006310074344117131, 'requests': 0.0013178434574476025, '41': 0.002911029845080607, 'royalty': 0.052431704989039284, 'rottweiler': 0.0011488383606062115, 'incredibly': 0.0001930730560232933, 'pets': 0.00026663962457290733, 'tipped': 0.004912149585506884, 'kept': 0.0, 'typical': 0.0007251072150593415, '2000': 0.006036378978286702, '48': 0.030509242539756662, 'ouch': 0.0, 'october': 0.00035532435176457105, 'november': 0.0, 'cconference': 0.0010058162749544512, 'romantic': 0.0001389685241181596, 'seat': 0.0, 'guess': 0.0028680334153318, 'costs': 0.00024743624061945786, 'stalls': 0.00015096095168974313, 'cora': 0.0054521506403865175, 'undergoing': 0.0002124182277432788, 'function': 0.00391207010022622, 'eager': 0.00233918643089051, 'dear': 0.0016548986800069534, '22': 0.0, 'informative': 0.005178088975839199, 'cover': 0.0010733652011095897, 'clubs': 0.0012495719673356086, 'warmth': 0.0, 'became': 0.004388841727115863, 'eligible': 0.020004350689221934, 'automatically': 0.001658226896599932, 'degree': 0.0022156845422010656, 'glass': 0.0020485694296574104, 'pin': 0.0006580932079225007, 'cushy': 0.013270378300003233, 'penthouse': 0.001046179199391978, 'fluffy': 0.0014804511137309114, '40': 0.00030546379814902236, 'sq': 0.0, 'ft': 0.0005501959284733587, 'grays': 0.012726018268470697, 'heating': 0.0024735610327291145, 'bikes': 0.0, 'video': 0.0, 'ear': 0.0002031786462200309, '155': 0.002418211462070036, 'deli': 0.00476977782888101, 'egg': 0.002598567821113723, 'effectively': 0.002216914878250275, 'customers': 0.004269578542056623, 'loads': 0.0, 'useful': 0.0082235356920908, 'mccormick': 0.0, 'lets': 0.013238129423403385, 'comforter': 0.0005762287936930065, 'dry': 0.000746580754206739, 'steaks': 0.0, '40th': 0.0009504001071236216, 'nyc': 0.0, 'ihome': 0.00016921122799294235, 'victor': 0.002831926517370708, 'groupings': 0.0020371280514985906, 'pedro': 0.0015890490991375406, 'sofitel': 0.0011917209323452178, 'faboulous': 0.00025038035349340406, 'bigs': 0.006692983288428468, 'sales': 0.0, 'regard': 0.0042609875567827145, 'boasted': 0.0, 'laptop': 0.0, '6pm': 0.004014424675442207, 'conforter': 0.004221716662252615, 'programs': 0.000717998127602137, 'pedestrian': 0.0005800774409208412, 'indoor': 0.00015726306059071448, 'berkeley': 0.0, 'uniformly': 0.0012190513776289236, 'patronizing': 0.002470890209206775, 'acknowledgment': 0.005754028782502109, 'criticize': 0.0030748240226089476, 'chop': 0.0008738429697062819, 'crown': 0.0, 'reserve': 0.00042618196319365274, 'cask': 0.0006616426229244552, 'temp': 0.0014542952510069374, 'frankly': 0.00904091217392975, 'floors': 0.002529496923881897, 'skyscrapers': 0.0, 'younger': 0.0004235135704983812, 'dedicated': 0.0002739562051830685, 'disclosure': 0.0, 'marks': 0.0009971575025620246, 'suv': 0.0020745506941799957, 'personally': 0.00044518339443615175, 'beach': 9.430394862043589e-05, 'oak': 0.0, 'variety': 0.008011681214180513, 'managing': 0.011594255961528317, 'joes': 0.0012161199523206447, 'uk': 0.0, 'flatscreen': 0.0020427937277049052, 'cook': 0.0011421039104216257, 'nowadays': 0.004261104367246523, 'vouchers': 0.0018695221419568796, 'dept': 0.0023461309734249224, 'bellhop': 0.00012947668272441764, 'frendly': 0.0007491951874322349, 'pastry': 0.004579933166239617, 'nite': 0.0004232859002294943, 'roof': 0.0024617511509908503, 'skyrise': 0.0009152551109374729, 'bin': 0.003223067397418822, 'responsibily': 0.010308783247686543, 'bumping': 0.027103998789095245, 'occasionaly': 0.0018144501136513563, 'trains': 0.005557711082795124, 'solo': 0.002469641515725393, 'microwave': 0.0014871963256842574, 'oven': 0.0036303582889680203, 'pizzeria': 0.0013228261995688933, 'foodcourt': 0.00479152834302705, 'mon': 0.000489279130897144, 'nites': 0.0, 'applicable': 0.008065716397837075, 'noon': 0.01655838996009045, 'homewoods': 0.0059846636269996634, 'nor': 0.0, 'spur': 0.0, 'parked': 0.0007505045353297771, 'selfpark': 0.0, 'wowed': 0.008704918586624253, 'government': 0.0, 'study': 0.0012810394949813622, 'nobody': 0.0015279895990762613, 'motels': 0.009380062688775361, 'powered': 0.0013738037201432346, 'unusual': 0.0, 'feb': 0.0019217278955288802, 'overlooks': 0.00030177601757391847, 'homeless': 0.00015164332603915848, 'toward': 0.0007698143947727254, 'sinatra': 0.0019456766617810255, 'enclosed': 0.0, 'staffed': 0.0008908317200005608, 'strawberries': 0.0010852987678208086, 'remarkable': 0.00014907830814468132, 'wave': 0.0009111716383100832, 'milennium': 0.016109266706679403, 'maria': 0.0038942360742417245, 'kiosks': 0.00026965795275498, 'fabulously': 0.002471855822723667, 'squeals': 0.002872100436249261, 'stores': 0.0014586078788531688, 'books': 0.0, 'sent': 0.015838167487485063, 'bellboy': 0.00016345704970020385, 'receptionists': 0.0020741674435917385, 'locate': 0.0012625714392176027, 'lasted': 0.0, 'marathon': 0.011781023336033328, 'friiday': 0.0040293654149462016, 'supply': 0.0005939238477996752, 'traveled': 0.0, 'timerland': 0.004831774253658506, 'easyer': 0.003055834354591427, 'bedspread': 0.0001267255990282336, 'activity': 0.0, 'hop': 0.00022516268466435014, 'concept': 0.00032424135732691845, '26th': 0.011278704778781967, 'focused': 0.0, 'crepes': 0.0, '219': 0.004420818340382687, 'towering': 0.0022183801029238017, 'superbly': 0.0, 'masonic': 0.0006943146923138197, 'press': 0.000475078073442203, 'iron': 0.001453747029572871, 'majority': 0.0007072462494809059, '00pm': 0.0006929630660581798, '1112': 0.003087512835778482, '191': 0.0034445264510248952, 'assigned': 0.0, 'pricepoint': 0.00010855140881614104, 'shelf': 0.008121213039155839, 'bundle': 0.0007639449734904724, 'drinking': 0.0022103299514746374, 'satisfactory': 0.00012826413508201055, 'splendido': 0.00019054834123719285, 'round': 0.00024986905571949564, 'fox': 0.0, 'aware': 0.006719961563012882, 'bringing': 0.004934769527208364, 'grandma': 0.022901389644428803, 'initial': 0.0021829853247039227, 'headboards': 0.015696938091452853, 'triple': 0.0, 'bldg': 0.012714443417301095, 'ticket': 0.009337170609025683, 'entered': 0.0005845879574565633, 'nytimes': 0.003663189889012107, 'washington': 0.0, 'apparently': 0.0009180308270328297, 'picasso': 0.0010658323690064019, 'hallo': 0.0004717053323541839, 'wore': 0.004287792075717622, 'snobbery': 0.016629975673067888, 'sleeping': 0.004198889630718444, 'allows': 0.0032064501107342274, 'hefty': 0.0009035452557240747, 'acts': 0.0001394307674866214, 'overwhelmingly': 0.0003876691937253755, 'beneath': 0.0005462065271534108, 'french': 0.0, 'suggest': 0.0, 'sliver': 0.0058867446291208745, 'builiding': 0.003355600408409087, 'mainly': 0.0011096021379325017, 'cruise': 0.0012758135776388799, 'boat': 0.0, 'ditch': 0.003947216626206499, '2007': 0.0022860676570415146, 'shoved': 0.018500050891061822, 'strong': 0.0017654674121478464, '28th': 0.012799693470236392, 'fit': 0.0025317291798870357, 'restful': 0.0015109103981785171, 'silence': 0.0005491348155760192, 'gesture': 0.009848414883877827, '44in': 0.016124209163752515, 'flaw': 0.0002842618710032467, 'monroe': 0.0011752340637010419, 'concourse': 0.0, 'stranded': 0.007243214627444118, 'swisshotel': 0.0006349062679859172, 'sun': 0.0, 'waste': 0.004147610117691816, 'favourite': 0.0009615008185786418, 'connie': 0.00023400781527765406, 'ankle': 0.0009549301191439737, 'crutches': 0.00025951691529607656, 'attentiveness': 0.0, 'shoppers': 0.009000384761350263, 'inclusions': 0.0009266200774591918, 'hyatts': 0.0010181993921776584, 'mouthwash': 0.0018358727693761963, 'industry': 0.0, 'exception': 0.002541744826062058, 'pleasurable': 0.0010306654348877947, '3114': 0.0, 'cabbed': 0.00016547114033315985, 'happily': 0.001563729131272456, 'batch': 0.0010626000502705227, 'omelet': 0.005957247176683142, 'occasions': 0.016859815336100953, 'draught': 0.0023227516307101634, 'soaked': 0.002739242278737391, 'party': 0.004693702476284394, 'agree': 0.0015278038180953815, 'trust': 0.001612202398597524, 'blisters': 0.0004648341195337406, 'gumps': 0.00792359036670846, 'valentines': 0.0, 'easter': 0.02009934357426552, 'bfast': 0.0023546304407387666, 'twist': 0.006766038318894179, 'swipes': 0.0053502104819372846, 'lg': 0.0050424729657517564, 'waffles': 0.0, 'browns': 0.000668112437951037, 'burritos': 0.0, 'regency': 0.000372941109515947, 'fountains': 0.005440698210183788, '3pm': 0.0003217169679432734, '18th': 0.0, 'computers': 0.0, 'frustrated': 0.0, 'glitch': 0.00044112574610200706, 'wath': 0.008682436103081831, '220': 0.0028788979982135106, 'months': 0.0007483991017360721, 'consistenly': 0.0019251568067544641, 'sylvia': 0.002549942057329405, 'rollins': 0.005930164480643008, 'utililzed': 0.00014452059104017248, 'pronounced': 0.00027174843252946536, 'correctly': 0.0, 'ultramodern': 0.003206578723202141, 'reserving': 0.0, 'process': 0.005087598790964696, 'sofital': 0.0019028403969623914, 'travels': 0.0001478416628758536, 'dble': 0.00414458962119156, '26': 0.0016913898753491876, 'asset': 0.0050287122789134334, 'scent': 0.008013600163799576, 'sirens': 0.0018502337822910366, 'concerned': 0.0, 'horrible': 0.0, 'charging': 0.002292023134325878, 'throwback': 0.01690891463373235, 'reno': 0.006003269522722596, 'happier': 9.684373430902868e-05, 'operate': 0.0005403187277342432, 'intercon': 0.0010729943799198227, 'peopel': 0.02047128299662617, 'proves': 0.005620247736553587, 'warmer': 0.0001273322002561916, 'attendees': 0.0, 'director': 0.0, 'kudos': 0.0, 'unloading': 0.004563851797250023, 'ny': 0.0023967281403354346, 'loves': 0.007232142436955123, 'considered': 0.0, 'confirmed': 0.0008806178210546328, 'lakeview': 0.0, 'btw': 0.0, 'significant': 0.0, 'bought': 0.0, 'today': 0.00012944515619426678, 'plentiful': 0.000297106506761538, 'matched': 0.0015851947430991643, 'ottman': 0.00210541333466167, 'barbara': 0.00263653303820877, 'vacations': 0.0008200777777008084, 'shortage': 0.0, 'formula': 0.0, 'shared': 0.0013678094906574875, 'break': 0.014657677913921119, 'black': 0.01176039137709915, 'grey': 0.0011731244052020284, 'pancakes': 0.00781705866136375, 'lends': 0.0010155579197029339, 'finished': 0.0002740676161924829, 'inexpensive': 0.0, 'ranges': 0.01189452941816636, 'complimentarily': 0.0, 'uncomfortable': 0.008803153496521525, 'gawdy': 0.0, 'greatly': 0.002362224265020023, 'toothbrush': 0.0, 'thechina': 0.0, 'terrace': 0.0439745771841166, 'sunbeds': 0.027618463452285257, 'cheering': 0.0019342125730765687, 'palm': 0.0009332129950084086, 'apri': 0.0025852133703714226, 'helpfuly': 0.00017848544494963148, 'scott': 0.0, 'sort': 0.0, 'mechanical': 0.0, 'airfare': 0.0004574474861628286, 'delivers': 0.0, 'weight': 0.002959572998976072, 'tone': 0.002077919961866419, 'clubing': 0.0016841470670728277, 'rituals': 0.0014890419806737757, 'buy': 0.0009430515743947199, 'lollopalooza': 0.0066327612397471345, 'filenes': 0.0009825971901154234, '214': 0.001438064522529572, 'chef': 0.0013612699061351908, 'annual': 0.0, 'sky': 0.0, 'presidential': 0.0010211357460446033, 'governors': 0.002748027242515589, 'afterwards': 0.0014695225801473588, 'ocean': 0.0002536036809962372, 'exotic': 0.0004925855054278415, 'tickled': 0.002815479915727037, 'geneva': 0.0, 'insignificant': 0.0021488055690494358, 'musical': 0.0, 'understanding': 0.004029082547768608, 'drift': 0.0, 'mass': 0.0, 'automobile': 0.004202234664941421, 'fares': 0.0015154688388052228, 'focal': 0.0, 'advantages': 0.0015702031615637078, 'newcomer': 0.015875624119855113, 'pricetag': 0.0036168971968489026, 'thrill': 0.0025237936107758412, 'pocess': 0.00028664359005328927, 'responded': 0.005098580263373326, 'forty': 0.0, 'scraping': 0.0024848622039697617, 'steel': 0.0020681256995880738, 'epicenter': 0.0008188928546260726, 'memory': 0.00042063805987011053, 'cam': 0.0007671374209420617, 'renting': 0.001895380216289298, 'nominal': 0.002191528070193137, 'enter': 0.0032393301179262464, 'tasteful': 0.0036838261803079403, 'lavish': 0.0, 'backdrop': 0.0015796411085179992, 'needn': 0.007367635977120524, 'selcted': 0.0007010061769015481, 'proudly': 0.00067871329609557, 'atop': 0.0007034145673015054, 'wonder': 0.0, 'dresser': 0.0015102937326138593, 'downloaded': 0.0005321892660049234, 'inspect': 0.0007158322843472454, 'hmm': 0.0, 'doubts': 0.00014726002375460695, 'existence': 0.0005776565021507145, 'waking': 0.0032765894686878384, 'amalifa': 0.00025676850617089707, 'plesant': 0.0008364286936073801, 'decorum': 0.00016069583290275746, 'recomend': 0.0027654213432243596, 'treatment': 0.0008625659332664147, 'buisness': 0.0005305272785962872, 'flow': 0.0, 'showplaces': 0.00010044720087186258, 'tagged': 0.0001789989676639121, 'scratchy': 0.0001765533647364559, 'wood': 0.0, 'loft': 0.007858192876488613, 'retire': 0.014650942318492786, 'evenings': 0.0, 'aroma': 0.0004161137807594407, 'candace': 0.0, 'billy': 0.0, 'san': 0.002709425616804875, 'brightly': 0.0020093164458885996, 'garishness': 0.0006665886102672805, 'breathtakingly': 0.0, 'fully': 0.003037536120571271, 'escorted': 0.0008816689893015342, 'weeknd': 0.03505547932147693, 'extememly': 0.0, 'chichi': 0.00031271768462584794, 'teacup': 0.0, 'waiver': 0.00019247061193184266, 'conviently': 0.0, 'caring': 0.0003953222140801347, 'scope': 0.0, 'deserves': 0.00447849221995798, 'allergies': 0.0015135502384178807, 'hospital': 0.0009902399858245472, 'dreaded': 0.00032043178842645713, 'breathed': 0.0, 'nachos': 0.0, 'grace': 0.03871832921074288, 'born': 0.02761888365727437, 'luxe': 0.0016295961952764095, 'accesible': 0.0017163749701987392, 'essentials': 0.001430148300692795, 'gymnasium': 0.003901268018480133, 'laps': 0.0005393530258041812, 'bagpacks': 0.0016006233277070761, '32': 0.0, 'produced': 0.00035178141963999285, 'ventured': 0.0028710190196137397, 'corn': 0.0, 'hits': 0.002177454329097152, 'stoked': 0.011074567424148942, 'dump': 0.004757536868323973, 'grounds': 0.00011596117072697465, 'key': 6.684747359868443e-05, 'pointers': 0.00030944523947008253, 'crust': 0.0016332872149427654, 'dishes': 0.0, 'stroll': 0.0003625258553544848, 'thankfully': 0.0008522548851218931, 'wines': 0.0014362860036694265, 'mood': 0.0021861348460662116, 'captured': 0.0002830845383259598, 'receiving': 0.0001355836724943698, 'unparalleled': 0.00010847979439731548, 'bliss': 0.0029601952152453347, 'beforehand': 0.010823076075830558, 'friendliness': 0.003846658157316316, 'differently': 0.0029994643704908696, 'include': 0.004110366859484506, 'luxuriance': 0.00440177206991525, 'collection': 0.02505075684900644, '1900': 0.0, 'further': 0.022930317238209014, 'josh': 0.0002387518467132381, 'castle': 0.004335997663586576, 'drawn': 0.004889332219822986, 'beck': 0.00010129103072152933, 'stairs': 0.0017876212650152095, 'coffees': 0.0, 'talbot': 0.0034162747977114754, 'pedals': 0.00047465916720576486, 'organized': 0.0019404803065850391, 'church': 0.000135194130774044, 'dj': 0.0006823934559028571, 'evan': 0.0012725903120031753, 'frustration': 0.005357603629941409, 'upholstered': 0.0, 'cleanly': 0.003954489046180046, 'bummed': 0.003002772567104079, 'tones': 0.007552947177021452, 'softness': 0.007227142531401356, 'million': 0.0009867235925237988, 'teamwork': 0.0, 'whenver': 0.001192421117148945, 'colleges': 0.0015300740475534028, 'nickel': 0.00115917497044575, 'luxuary': 0.013095630510630505, 'hustle': 0.00010290529123673135, 'conducive': 0.000989162169309355, 'learnt': 0.001506344827894774, 'gonna': 0.001487993454670559, 'borrow': 0.0, 'impersonal': 0.0017157292021715428, 'dissapointed': 0.0, 'believed': 0.0012185330855204464, 'cranky': 0.0, 'magical': 0.001213392568266412, 'understated': 0.0002741363197862891, 'minimalist': 0.0, 'priciest': 0.001360823607063989, 'resonably': 0.00013476495912697104, 'desire': 0.0, 'pamper': 0.0013639884184240463, 'smartly': 0.0, 'gently': 0.0, 'helps': 0.0007152925616505984, 'balance': 0.0, 'charities': 0.00016856349364925206, 'compiled': 0.00011408706635912878, 'splurge': 0.0, 'houston': 0.0002593615007548212, 'favorites': 0.000487353383197978, 'entirely': 0.0, 'breaking': 0.0, 'bank': 0.0, 'appear': 0.0, 'towns': 0.0, 'discounted': 0.0014905908458596455, 'sundeck': 0.0015653876170895623, 'janice': 0.010266506752558763, 'incomparable': 0.004396964242021074, 'reunited': 0.0040898644536258725, 'contributed': 0.0001932211625079637, 'dancers': 0.004311438227470801, 'environmental': 0.0008670021272872013, 'sounded': 0.007323319880562068, 'vip': 0.0, 'cramp': 0.049311556930414356, 'unfamiliar': 0.01756491454741761, 'guiding': 0.009247659355297963, 'angeles': 0.012577259498936781, 'graduated': 0.0038336103010925284, 'afforded': 0.006660329092364105, 'associates': 0.004172324649715284, 'leery': 0.00033247409438741106, 'fears': 0.001735949548662002, 'coupled': 0.010863236384087654, 'participating': 0.012864875650334198, 'downtime': 0.001083377851069944, 'lending': 0.0, 'encounter': 0.0008656644108440051, 'tours': 0.0017570407645315306, 'rid': 0.0, 'hopped': 0.0, 'convince': 0.0026958855364341383, 'sunbathing': 0.00019249239875960091, 'cotton': 0.0, 'masseuses': 0.002568913775610661, 'fishbowl': 0.014089467054369389, 'healthclub': 0.001005403795495212, 'marketing': 0.0034531351711030345, 'matters': 0.01944204136935048, 'chances': 0.007531386594389278, 'partner': 0.001198483755380459, 'playlist': 0.011104744624724132, 'housekeepers': 0.014922041571336522, 'postitive': 0.0023127718069566924, 'remark': 0.000791752576909058, 'enviable': 0.0018659291205258427, 'resorts': 0.0009318321481170358, 'gates': 0.0023955442140781696, 'pride': 0.002471899260470066, 'spacing': 0.0029575544619079653, 'hold': 0.007374234396044366, 'infamous': 0.008441680574298541, 'grabbed': 0.0005327483311368616, 'fillet': 0.0005998638952680658, 'comfortal': 0.0018235689729609117, 'shi': 0.021495883320333364, 'calories': 0.005895547778794944, 'omelettes': 0.0, 'priceless': 0.00047095463894066285, 'afraid': 0.0023166963824360213, 'navigate': 0.004081118114797352, 'strange': 0.0016003745841193496, 'situatated': 0.0002655963625761087, 'drycleaning': 0.0, 'communication': 0.0, 'downfalls': 0.0017109123537551996, 'invitations': 0.002581688133338374, 'tastings': 0.001384639313572686, 'duvets': 0.0010670715330211413, 'precise': 0.00012375959136351003, 'kennel': 0.0, 'employe': 0.0013979784421546248, 'polished': 0.0013168579852186827, 'ting': 0.0016558998562278035}\n",
      " FREQUENCE OF THE MOST RELEVANT WORDS FOR POSITIVE OR NEGATIVE IN NEGATIVE TEXTS {'might': 0.005467895792525514, 'each': 0.0010364922506222152, 'murals': 0.005415010589108676, 'cool': 0.0021357403360172185, 'always': 0.00569436190989864, 'view': 0.0013157978824736177, 'screen': 0.000965103887238181, 'return': 0.00016173060599871162, 'event': 0.020662208814792794, 'bit': 0.0029714974124631886, 'instead': 0.003452087482442668, 'renovations': 0.0006614806697177266, 'job': 0.0003904049039165819, 'when': 0.002214491165945688, 'any': 0.0009310617199450896, 'more': 0.0013225422805615277, 'location': 0.0018888703900601306, 'albeit': 0.0001301854201827536, 'every': 0.0003811565719158644, 'expect': 0.001750161402873014, 'tastefully': 0.006906698311059841, 'asian': 0.0005742536656731243, 'four': 0.0023089880237568247, 'cramped': 0.0005158919848941869, 'friendly': 0.0024605833518748592, 'beat': 0.001238103453378373, 'current': 0.021275978213310592, 'watch': 0.0019763023789935285, 'suggested': 0.0010850334023095748, 'because': 0.001383652359009337, 'impressed': 0.00738523910433166, 'five': 0.0014973139246994434, 'hilton': 0.00665395685084486, 'far': 0.005047005751131753, 'good': 0.0073543135342790285, '300': 0.004114957785670478, 'just': 0.0001768205883473517, 'returned': 0.001400649969972161, 'week': 0.00018580541548035535, 'perfect': 0.0041824536525544, 'after': 0.0003692243079718743, 'checked': 0.003243737629562896, 'pick': 0.001962721211851186, 'closet': 0.002523429389303797, 'amount': 0.01297187919319817, 'gear': 0.0022215551500833304, '29': 0.012460817054630225, 'order': 0.00576088317374745, 'facing': 0.0015717979947611701, 'bathroom': 0.0013126978997750544, 'separate': 0.0014744375747445062, 'ammenities': 0.0015977859213789454, 'beautiful': 0.0026833527939955316, 'bouquet': 0.0010085693052523646, 'upon': 0.0032640803951970764, 'outside': 0.0028803301002793043, 'where': 0.0011563450058382865, 'making': 0.0009243896522187449, 'reccomend': 0.00011142280986324239, 'will': 0.007646223842590949, 'hd': 0.000873010332726073, 'panel': 0.001065202537666681, 'work': 0.01427223003166333, 'out': 0.0029895563357402012, 'machines': 0.0008918319475907468, 'free': 0.0013872334414453925, 'better': 0.005938392354216126, 'kind': 0.012902621035563474, 'shopping': 0.0024365415537774215, 'upper': 0.0, 'access': 0.001299754529082364, 'available': 0.002389919693508926, 'low': 0.001209664765889118, 'dozen': 0.0013499397170998622, 'professional': 0.0012150984260404756, 'complimentary': 0.0005431735865990872, 'delivered': 0.0025022740606487725, 'attended': 0.0018918314805382458, 'waitresses': 0.008569594778578911, 'coffee': 0.0019517995077353103, 'shop': 0.00017403787498712034, 'door': 0.0015217600351092714, 'bell': 0.004815959187954088, 'persons': 0.004593076307733628, 'inquired': 0.001377621668592392, '20': 0.001735498121800263, '23rd': 0.006827916959981924, 'sixteen': 0.0008332668701675323, 'old': 0.003628818434081641, 'john': 0.011438822907053184, 'vacation': 0.0, 'visit': 0.0013204953207214235, 'mark': 0.003620319203030104, 'meal': 0.0021114472845340368, 'dessert': 0.0, 'salty': 0.002182590797963105, 'complaint': 0.0, 'start': 0.0012824056776768375, 'thank': 0.00011764741192128475, 'wait': 0.0, 'omni': 0.003646558738828577, 'membership': 0.00010469784797481372, 'student': 0.01681571451425723, 'pastries': 0.008226716774414796, 'hors': 0.01877424833561593, 'lots': 0.01143889604611904, 'cons': 0.0019033908366994062, 'arrive': 0.0037068856140474045, 'weekends': 0.0009753056474253566, 'set': 0.0028631039969181297, 'market': 0.005199717666673448, 'fall': 0.015118737174831299, 'interesting': 0.0013322486256662964, 'seen': 0.004170811830471691, 'kinds': 0.0010140665016657238, 'suburbs': 0.00142571734374938, 'center': 0.0012854848208268838, 'bedrooms': 0.0012979866469272961, 'mansions': 0.001454504993799975, 'simply': 0.001688380905301475, '100': 0.0013350980358410034, 'first': 0.0010383046128236584, 'nights': 0.0009366796101047513, 'mile': 9.765703419459756e-05, 'pier': 0.0, 'disturbed': 0.00015951875261687975, 'airy': 0.011750947276150553, 'honestly': 0.0, 'captain': 0.0016170617651106581, 'until': 0.001035664354630838, 'greeting': 0.0020012982037307323, 'slept': 0.0023424957771861913, 'pleased': 0.008205392052108806, 'midwest': 0.0, 'bigger': 0.00018265928380406478, 'apartment': 0.0021146822798795537, 'able': 0.005269304580371646, 'self': 0.0012634816790821294, 'machine': 0.0018517342570194553, 'sure': 0.0029143820703798023, 'refresh': 0.0, 'pillow': 0.0010800619623360897, 'issue': 0.0, 'types': 0.00915940410462654, 'anxious': 0.043282032226708574, 'believe': 0.010769123854522285, 'disapointed': 0.016119735466384455, 'wow': 0.002085210938976462, 'com': 0.004365363217320028, 'breeze': 0.010019219067106889, 'nightstands': 0.00151948752680141, 'table': 0.001435803336370075, 'blocks': 0.00662976438940019, 'itself': 0.006499815380678317, 'taken': 0.0011584056507958048, 'booth': 0.002465178961762059, 'sat': 0.0017202306956570646, 'adorn': 0.0027078722592472084, 'chance': 0.0013314407696255661, 'expedia': 0.0, 'magnificent': 0.001801438478494682, 'picked': 0.003799946000398819, 'ta': 0.00030675156289371777, 'corner': 0.0043963811233775785, 'two': 0.004053648077640356, 'plasma': 0.0014988724173584217, 'provided': 0.007865945359204894, 'come': 0.005640018418402423, 'relaxing': 0.003070246832054706, 'playing': 0.0018056491946079384, 'prepared': 0.004326274499139795, 'melissa': 0.017818206792788085, 'curtis': 0.010804326359369733, 'maps': 0.005703765715564326, 'heard': 0.0005116804594890205, 'construction': 0.02640289145448477, 'comfy': 0.0017784595623252125, 'theaters': 0.0, 'imagine': 0.0023353809845379687, 'surprise': 0.000984979968551034, 'cab': 0.0068477760010832054, 'ride': 0.0015337569168747708, 'dec': 0.0010540676308215132, 'festival': 0.0015375659974824255, 'end': 0.0019109463246556268, 'cloying': 0.0011915817295126017, 'unfailingly': 0.009614891993587268, 'provides': 0.008023616672952564, 'gratis': 0.005729507372404808, 'bedding': 0.003003580975238194, 'truly': 0.008281055252236451, 'figure': 9.422648430011858e-05, 'buckingham': 0.0050847289707348685, 'quieter': 0.003569814771877294, 'scenic': 0.0, 'bargain': 0.0019462461071069325, 'surpassed': 0.0, 'treated': 0.00013203748266737378, 'number': 0.0, '80': 0.007968715606887127, 'lined': 0.0013628816619939504, 'near': 0.0047807511423459, 'air': 0.0, 'mentioned': 0.0004985756770363605, 'quite': 0.0012623321489467565, 'brand': 0.0014202113095292985, 'warm': 0.004654302330044994, 'quick': 0.003985147822340518, 'efficient': 0.0018872538610525847, 'given': 0.004214623836645427, 'nearby': 0.0030674324580858663, 'gourmet': 0.003435881479944518, 'minutes': 0.005153740755404906, 'late': 0.0, 'assist': 0.0009315485170927915, '14th': 0.003196147829003588, 'deluxe': 0.0019400620727905039, 'cocktail': 0.0008837741519446641, 'bedroom': 0.0019086398805708924, 'busy': 0.005981670452638028, 'touches': 0.00177875482400665, 'webcams': 0.0018819643313731022, 'dog': 0.001576365703867721, 'maintain': 0.00114389861978692, 'taste': 0.0, 'wall': 0.0019183394414710334, 'chinese': 0.00517238072231364, 'levels': 0.01892743363824533, 'tvs': 0.003401817793705233, 'bathrobes': 0.0008814669589599078, 'arrangement': 0.0007475977611790454, 'cost': 0.001830492689687195, 'taxes': 0.002481436709469744, 'museum': 0.0006255170398948668, 'does': 0.0008771547666116583, 'bowl': 0.004589142219475131, 'elegance': 0.0012055080999241366, 'matter': 0.0, 'into': 0.0, 'hardly': 0.0010016907384631174, 'shuffle': 0.0014438924408826052, 'pass': 0.0015793992491110653, 'stopped': 0.0016128952532234852, 'maids': 0.0037922587141382812, 'heat': 0.0030128252095787916, 'directed': 0.0011171609015113645, 'written': 0.0015628280124186183, 'avoided': 0.0, 'til': 0.00114205356041014, 'charged': 0.003893429454185574, 'kinda': 0.0012689659908085773, 'sweetie': 7.339767509259243e-05, 'lures': 0.0, 'china': 0.0054409888891191124, 'hi': 0.0016728940933401588, 'ladies': 0.00023599895747366796, 'something': 6.771574651845579e-05, 'yet': 0.0028876038254648014, 'couch': 0.0006391518823137237, 'animal': 0.02314967620948018, 'wish': 0.005008066030502265, 'congenial': 0.024907662924847376, 'steps': 0.01503694996442373, 'architecture': 0.0, 'america': 0.003878545154367689, 'technician': 0.002742366673978677, 'unable': 0.002730913596679889, 'solve': 0.0034664396121908553, 'problem': 0.00016290250087103633, 'knikerbocker': 0.0014077923414889501, '116': 0.011264129385708302, 'updated': 0.011472341464708822, 'negatives': 0.003612220379806904, 'pay': 0.00393699652177088, 'centre': 0.00098686627952349, 'june': 0.0029042545387521863, 'flew': 0.0014430588954097968, 'hare': 0.0025376554403860685, 'overlooked': 0.0024840341350638086, 'expecting': 0.0008824037313056933, 'appetizers': 0.0015106872867780398, 'stop': 0.0019254273742310799, 'bright': 0.0005052850636104178, 'amazingly': 0.0015135027020323974, 'sites': 0.015908511374557247, 'call': 0.00014966848960490907, 'guaranteed': 0.004728476947819812, 'sidewalk': 0.010807738253777193, 'rain': 0.011318290652026027, 'historic': 0.014224619404442453, 'hear': 0.0014047489782414734, 'david': 0.005940552359212613, 'cannot': 0.0009341275341626318, 'plans': 0.0018806346009218225, 'revolve': 0.0009566508585675481, 'advanced': 0.0019071473084229995, 'connected': 0.001203810731992623, 'neighboring': 0.00037279425680427096, 'kitchen': 0.0034358809384245213, 'therefore': 0.0012280975257198772, 'trinket': 0.0008503412386041708, 'midcentury': 5.631447974738525e-05, 'style': 0.0059230240437464264, 'sensibilities': 0.0003275466216443934, 'occurred': 0.0004968418570729821, 'involving': 0.0011760953103217625, 'aggravating': 0.006818727276727279, 'actively': 0.0055415257051206444, 'competent': 0.007510964590232709, 'satisfied': 0.003989670364557761, 'following': 0.002061476614068863, 'mouth': 0.0012083329661305765, 'troubles': 0.002196632310428324, 'stories': 0.00499619112167353, 'st': 0.0008074799005494747, 'sinks': 0.0008817552102590557, 'gladly': 0.00016829359013881227, 'institute': 0.002315798024564439, 'brief': 0.00016610110133335562, 'sights': 0.00017622236207517246, 'pack': 0.0017488168695424908, 'dark': 6.482445330952096e-05, 'common': 0.002272745345397781, 'staring': 0.00017173378446345183, 'slighty': 0.019722362318183095, 'longer': 0.0019642603399942613, 'drink': 0.002476571718067629, 'listening': 0.006137134057301279, 'fling': 0.0023141467068895217, 'school': 0.006397676747803629, 'conceirge': 0.00021025484699993514, 'elsewhere': 0.0, 'sheraton': 0.002641197170792569, 'ad': 0.002546432131199517, 'guide': 0.0003391162895283023, 'airport': 0.0029518691393081503, 'bono': 0.006611153657367346, 'coffe': 0.008786443465579817, 'maker': 0.005164839496920597, 'junkie': 0.0, 'bottles': 0.0009243624104880166, 'memorabilia': 0.00018874162174353508, 'travelzoo': 0.00043884495781461335, 'movies': 0.0, 'travellers': 0.0013416039470728418, 'couples': 0.0024359500645608325, 'disappointed': 0.00244537920402261, 'disappointing': 0.005711795559753052, 'rewarded': 0.0023164641962294405, 'sipping': 0.0022303579966405514, 'printing': 0.00044693721313161474, 'lit': 0.0010337248520322245, 'cheerful': 0.0014866779110739945, 'tim': 0.0008817635997423374, 'turning': 0.0, 'presidents': 0.003498564850059191, 'exceptional': 0.0059082815403759155, 'mostly': 0.0011399796384152755, 'cart': 0.001913219779170881, 'alone': 0.0, 'bloomingdales': 0.0023163336377379053, 'bagel': 0.013381172611669103, 'cream': 0.011041992261674632, 'european': 0.016215922898263676, 'answered': 0.003920309619697459, 'unique': 0.0009886350150990326, 'lacking': 0.0, 'lifts': 0.0035593544324814814, 'substantial': 0.00244309135964368, '2s': 0.003050677215672844, 'subway': 0.000984265210356772, 'convenient': 0.012295019717353296, 'regardless': 0.0063776271966914265, 'annoying': 0.0029892650947540038, 'uno': 0.019192347806516595, 'professionally': 0.00037448258543453005, 'trump': 0.0020681947652787173, 'transportation': 0.005309415481658979, 'opened': 0.00014994567910808104, 'printed': 0.008472092848383706, 'partying': 0.0, 'whatever': 0.003398294946459325, 'pricing': 0.0020829671106605, 'espn': 0.023179386194794448, 'heading': 0.005809313455798147, 'noticed': 0.0028884637323157826, 'corporate': 0.00018256876091072508, 'attention': 0.008673788932660837, 'below': 0.0013411013053182597, 'wants': 0.00201175054864752, 'bakery': 0.0006851401887388322, 'requests': 0.0, '41': 0.0006432679598244008, 'royalty': 0.012104507818498134, 'rottweiler': 0.0, 'incredibly': 0.0019988480718358625, 'pets': 0.004331887134348406, 'tipped': 0.00899609446491038, 'kept': 0.0009201403632033553, 'typical': 0.0027541560719712864, '2000': 0.002369729692283255, '48': 0.047151618824405175, 'ouch': 0.003571684201761705, 'october': 0.004547226731602288, 'november': 0.0013558515028674932, 'cconference': 0.005950690906368706, 'romantic': 0.0039901712476130904, 'seat': 0.0008962618791662582, 'guess': 0.0, 'costs': 0.0018317865780995313, 'stalls': 0.003577123746085314, 'cora': 0.0020283956093268963, 'undergoing': 0.0018454666520123708, 'function': 0.006998351218590728, 'eager': 0.006639688681428132, 'dear': 0.004769206147558583, '22': 0.000983322592414119, 'informative': 0.001932986087986388, 'cover': 0.0, 'clubs': 0.0, 'warmth': 0.0012939107443946645, 'became': 0.001039270252862841, 'eligible': 0.004697065549344371, 'automatically': 0.0, 'degree': 0.01006817362345781, 'glass': 0.0003434233574483414, 'pin': 0.002537397587724448, 'cushy': 0.0022253581478736927, 'penthouse': 0.0039612097656587545, 'fluffy': 0.005604377471602745, '40': 0.0029697626949292794, 'sq': 0.0012503275015020162, 'ft': 0.003437315572013399, 'grays': 0.003981227095106838, 'heating': 0.00034628075336279025, 'bikes': 0.001552712021211923, 'video': 0.002482949181478844, 'ear': 0.0056375848700614154, '155': 0.00041002226192756645, 'deli': 0.009098328088406184, 'egg': 0.007730542317358235, 'effectively': 0.006616438717389249, 'customers': 0.008748061735776063, 'loads': 0.0010408380714633488, 'useful': 0.0032223618699500213, 'mccormick': 0.0014009922248708526, 'lets': 0.007824296357187302, 'comforter': 0.0028130829023172233, 'dry': 0.002475071844386692, 'steaks': 0.001472544687484501, '40th': 0.0, 'nyc': 0.0012088369398125006, 'ihome': 0.0014380586142867286, 'victor': 0.0003770723309421478, 'groupings': 0.0004953308322887672, 'pedro': 0.0, 'sofitel': 0.00010483960058030908, 'faboulous': 0.0018695369346038119, 'bigs': 0.0029775020449190194, 'sales': 0.0009589778153423464, 'regard': 0.0018533302181326578, 'boasted': 0.001373314789949815, 'laptop': 0.002438539138533104, '6pm': 0.0005787194428886515, 'conforter': 0.0008046384909619807, 'programs': 0.002353275596109299, 'pedestrian': 0.0036480085619748103, 'indoor': 0.004688432034401261, 'berkeley': 0.0011844242420423604, 'uniformly': 0.00610625327973215, 'patronizing': 0.0003574407024389279, 'acknowledgment': 0.011764427158194193, 'criticize': 0.0009100066032606347, 'chop': 0.0028864271502644758, 'crown': 0.0011462292047628392, 'reserve': 0.0045078630116818855, 'cask': 0.003475454974195122, 'temp': 0.0, 'frankly': 0.00536609251594195, 'floors': 0.0, 'skyscrapers': 0.001420073559785566, 'younger': 0.004821053936396407, 'dedicated': 0.0023358793563204327, 'disclosure': 0.0013497560039439874, 'marks': 0.0, 'suv': 0.00032878463149883596, 'personally': 0.0038793293732190355, 'beach': 0.0020685272782686275, 'oak': 0.0009344731471818545, 'variety': 0.0014471233079253526, 'managing': 0.00403901929134718, 'joes': 0.007243823230432499, 'uk': 0.0012201383561966672, 'flatscreen': 0.006526312723802738, 'cook': 0.0032195410643181643, 'nowadays': 0.009775086289694639, 'vouchers': 0.0002750222689851007, 'dept': 0.0063328542001979725, 'bellhop': 0.001382536191036325, 'frendly': 0.004092803495760746, 'pastry': 0.0015722295733558685, 'nite': 0.0020306183298132454, 'roof': 0.006770836512022026, 'skyrise': 0.0, 'bin': 0.0007259846717959615, 'responsibily': 0.004168293294950056, 'bumping': 0.012281819834869399, 'occasionaly': 0.0001792216093724294, 'trains': 0.010031367482496743, 'solo': 0.011383313491665886, 'microwave': 0.004997749737197915, 'oven': 0.0012525814976814945, 'pizzeria': 0.0035842987180177924, 'foodcourt': 0.0015456631158679039, 'mon': 0.005781584368629527, 'nites': 0.0010215987817753373, 'applicable': 0.0019692516782032973, 'noon': 0.0011299896970520186, 'homewoods': 0.0017413086912128784, 'nor': 0.0011151136289007553, 'spur': 0.0014396322695117924, 'parked': 0.004359509700009504, 'selfpark': 0.0011558105881633509, 'wowed': 0.0025903673922674114, 'government': 0.0013111781215252338, 'study': 9.583095901755967e-05, 'nobody': 0.0, 'motels': 0.001903131458110975, 'powered': 0.0, 'unusual': 0.0032850176393055936, 'feb': 0.00015674762084149903, 'overlooks': 0.001609570438306493, 'homeless': 0.004798348070423706, 'toward': 0.008446594459356681, 'sinatra': 0.000303542492993206, 'enclosed': 0.000968971957574647, 'staffed': 0.0, 'strawberries': 0.0, 'remarkable': 0.001255656566304614, 'wave': 0.0028059897586963445, 'milennium': 0.0326132067626756, 'maria': 0.001474225501953236, 'kiosks': 0.0033464631477955653, 'fabulously': 0.0006864895955011084, 'squeals': 0.0009839712738871221, 'stores': 0.00020607061288305102, 'books': 0.0010968093927649458, 'sent': 0.0030873049360882277, 'bellboy': 0.0014304880242268932, 'receptionists': 0.00034024828830168594, 'locate': 0.005117768582158125, 'lasted': 0.0013480534711162715, 'marathon': 0.002152574033380991, 'friiday': 0.0008556825771646753, 'supply': 0.002222991002548077, 'traveled': 0.0009688168470240104, 'timerland': 0.0020366647624338314, 'easyer': 0.013557286636734509, 'bedspread': 0.0017361995195203728, 'activity': 0.0010523029565945757, 'hop': 0.001621302347698976, 'concept': 0.004084475117442521, '26th': 0.002370246485706566, 'focused': 0.0025880936966273184, 'crepes': 0.0010605806495428776, '219': 0.0016541833929422808, 'towering': 0.011406194091578552, 'superbly': 0.001172455620957912, 'masonic': 0.0028802708133670047, 'press': 0.004091421110628826, 'iron': 0.00013573146485294533, 'majority': 0.003942142481513932, '00pm': 0.004130215341272164, '1112': 0.0007541274558996739, '191': 0.000577773930163462, 'assigned': 0.0027365264976522505, 'pricepoint': 0.0011667984593761859, 'shelf': 0.0009745974956094318, 'bundle': 0.0032651418439011664, 'drinking': 0.000296467741869348, 'satisfactory': 0.003192913787699807, 'splendido': 0.0014503304061746702, 'round': 0.0021332562118581925, 'fox': 0.002288334389368081, 'aware': 0.01879874991001399, 'bringing': 0.008341422175329877, 'grandma': 0.01571003544638625, 'initial': 0.0004770962112836339, 'headboards': 0.022585221618034657, 'triple': 0.0015948706369839213, 'bldg': 0.006991263519651895, 'ticket': 0.029680841991384942, 'entered': 0.0025674383118018257, 'nytimes': 0.0084717814797786, 'washington': 0.0016765726666985322, 'apparently': 0.0035670134517133793, 'picasso': 0.006655994836597433, 'hallo': 0.0037481378625438184, 'wore': 0.0011127139543980122, 'snobbery': 0.0649039142826659, 'sleeping': 0.0008320977261709879, 'allows': 0.011140234078352898, 'hefty': 0.004193589624801002, 'acts': 0.0013325823491991905, 'overwhelmingly': 0.001872321045764231, 'beneath': 0.003571985487510455, 'french': 0.0010231867566920137, 'suggest': 0.003704781550528903, 'sliver': 0.011883600536687433, 'builiding': 0.0009306060319102671, 'mainly': 0.0032848363246734025, 'cruise': 0.005578334238928887, 'boat': 0.0025251539634189107, 'ditch': 0.010038405864956721, '2007': 0.00801867996831876, 'shoved': 0.024755181669975358, 'strong': 0.005305578398576594, '28th': 0.018817208721969594, 'fit': 0.00630546101032958, 'restful': 0.0045486089073030625, 'silence': 0.0021652551778677527, 'gesture': 0.01589608936975549, '44in': 0.022863580077677387, 'flaw': 0.0018326420868061293, 'monroe': 0.0, 'concourse': 0.0017278012712052782, 'stranded': 0.013062611203200639, 'swisshotel': 0.005637974182264401, 'sun': 0.0014482446525001615, 'waste': 0.009010617955485588, 'favourite': 0.0, 'connie': 0.0018725074049056236, 'ankle': 0.004905010085754008, 'crutches': 0.0028467187429870628, 'attentiveness': 0.0016567053262172085, 'shoppers': 0.004967830622039458, 'inclusions': 0.0, 'hyatts': 0.003343836389145412, 'mouthwash': 0.004320084244578274, 'industry': 0.0010447198126908737, 'exception': 0.009038299313238103, 'pleasurable': 0.004953496063802082, '3114': 0.002008874576980721, 'cabbed': 0.0016152047505857397, 'happily': 9.365488484830618e-05, 'batch': 0.0, 'omelet': 0.012377623737472889, 'occasions': 0.0008105900151045911, 'draught': 0.0006594357176175292, 'soaked': 0.0074504945781302505, 'party': 0.0020434799436148928, 'agree': 0.0, 'trust': 0.010701199882263352, 'blisters': 0.004425079455445812, 'gumps': 0.0010415444947116082, 'valentines': 0.0009304313456752522, 'easter': 0.012697575311818969, 'bfast': 0.00031442344911332474, 'twist': 0.0033245781438005976, 'swipes': 0.0013664364139003324, 'lg': 0.000846862680239039, 'waffles': 0.0011068009823602838, 'browns': 0.002640422083300168, 'burritos': 0.0009528617558490464, 'regency': 0.0020333279197228427, 'fountains': 0.000999630655769761, '3pm': 0.00766368914996165, '18th': 0.0025981192722792155, 'computers': 0.0009040982704930096, 'frustrated': 0.0009144003916460302, 'glitch': 0.0021863931699827237, 'wath': 0.013607666038964066, '220': 0.0007028955117567406, 'months': 0.0028537845237526648, 'consistenly': 0.0060414654776611764, 'sylvia': 0.00015407674180734895, 'rollins': 0.0005188821825376296, 'utililzed': 0.0014770373619733023, 'pronounced': 0.0034365794018145356, 'correctly': 0.0009581326376234025, 'ultramodern': 0.00045823866600559884, 'reserving': 0.0031479152476925356, 'process': 0.002212413781790549, 'sofital': 0.00019800839771213732, 'travels': 0.001320695604362941, 'dble': 0.00026726123423210146, '26': 0.006793731371053519, 'asset': 0.0017709942623929393, 'scent': 0.0024500143432077764, 'sirens': 0.005940230295119721, 'concerned': 0.0011047142432674291, 'horrible': 0.0011262331267374275, 'charging': 0.00675641783969545, 'throwback': 0.011623247163150677, 'reno': 0.0010080154923309288, 'happier': 0.001779932041207132, 'operate': 0.0029204789643440753, 'intercon': 0.0, 'peopel': 0.0077031902076275935, 'proves': 0.0014584818588568899, 'warmer': 0.0017794934048092645, 'attendees': 0.0011336758901671093, 'director': 0.002320620538433933, 'kudos': 0.0026524852265428756, 'unloading': 0.0021119222250977543, 'ny': 0.0002156630749234004, 'loves': 0.0017200952526577535, 'considered': 0.0008984295899820868, 'confirmed': 0.0, 'lakeview': 0.001515154051167762, 'btw': 0.0015232158678971774, 'significant': 0.0014966900218534058, 'bought': 0.0009342052741592993, 'today': 0.0013536830038247485, 'plentiful': 0.0016138193795893602, 'matched': 0.004627434767723557, 'ottman': 0.00821156129815084, 'barbara': 0.01410328355473065, 'vacations': 0.0058295966632781245, 'shortage': 0.001579560989435477, 'formula': 0.0023516311173351185, 'shared': 0.003816048998511258, 'break': 0.006601204213988732, 'black': 0.002987666466883977, 'grey': 0.0, 'pancakes': 0.004196628654209533, 'lends': 0.0, 'finished': 0.003487392457346531, 'inexpensive': 0.0009988599269803126, 'ranges': 0.007093772173661674, 'complimentarily': 0.0010852338649171218, 'uncomfortable': 0.002149596752292438, 'gawdy': 0.0008702244391293682, 'greatly': 0.0, 'toothbrush': 0.0009699756383582204, 'thechina': 0.0011961058270691133, 'terrace': 0.0634269656248426, 'sunbeds': 0.019379818895528256, 'cheering': 0.00017365545134372814, 'palm': 0.0, 'apri': 5.7302459120716103e-05, 'helpfuly': 0.01465555071952552, 'scott': 0.0010338890136336264, 'sort': 0.0008947594464046249, 'mechanical': 0.0011125091564190793, 'airfare': 0.0026618814966895316, 'delivers': 0.0010484462713558052, 'weight': 0.0009546422897992587, 'tone': 0.011491792503624625, 'clubing': 0.00693532840651231, 'rituals': 0.00022882216751594946, 'buy': 0.0, 'lollopalooza': 0.0008347076402413049, 'filenes': 0.0, '214': 0.00021909904880805034, 'chef': 0.0, 'annual': 0.000970510135470229, 'sky': 0.0032495896462335487, 'presidential': 0.005305434579198286, 'governors': 0.011887910665959794, 'afterwards': 0.005672598373683962, 'ocean': 0.0030922173728112025, 'exotic': 0.002791665425628537, 'tickled': 0.0009453696270065028, 'geneva': 0.0009086916290872439, 'insignificant': 0.004759196010763986, 'musical': 0.002185434087166716, 'understanding': 0.007197246997428477, 'drift': 0.0017185222739350312, 'mass': 0.0014099635208687767, 'automobile': 0.015218262836507306, 'fares': 0.0, 'focal': 0.0010854695226485364, 'advantages': 0.007915889728941621, 'newcomer': 0.0023065049918533113, 'pricetag': 0.0005994711598824174, 'thrill': 0.00936835627460234, 'pocess': 0.0015793738672033372, 'responded': 0.00985246342114961, 'forty': 0.001020456938999663, 'scraping': 0.0003834921170680726, 'steel': 0.0005335920015796873, 'epicenter': 0.0036128391424398772, 'memory': 0.0039933308328347975, 'cam': 0.0033304628654674, 'renting': 0.0003006082210730843, 'nominal': 0.0, 'enter': 0.007009320056596553, 'tasteful': 0.0014033007624962867, 'lavish': 0.0009318380025999432, 'backdrop': 0.006600110140446936, 'needn': 0.01268905727935482, 'selcted': 0.004128158100697977, 'proudly': 0.007222678477917176, 'atop': 0.0078379647370447, 'wonder': 0.0010532231607811914, 'dresser': 0.00013003070578783318, 'downloaded': 0.006358644477881776, 'inspect': 0.008314617034556535, 'hmm': 0.0009022295376051589, 'doubts': 0.0013959780231286609, 'existence': 0.0028499837272636546, 'waking': 0.001278941394803785, 'amalifa': 0.0016110218848999123, 'plesant': 0.009081934525260803, 'decorum': 0.0012826073957475836, 'recomend': 0.007451784584963757, 'treatment': 0.00292155713741093, 'buisness': 0.004767233802407228, 'flow': 0.0010945955168324866, 'showplaces': 0.0022579192845915514, 'tagged': 0.002629030411569686, 'scratchy': 0.0020033928309621646, 'wood': 0.0009983099703440657, 'loft': 0.002351341536729578, 'retire': 0.0012975896489844446, 'evenings': 0.0011108398631661824, 'aroma': 0.0021183227185804106, 'candace': 0.0009722938465620419, 'billy': 0.0014936536985890427, 'san': 0.00043319201934608755, 'brightly': 0.005191593616425377, 'garishness': 0.0027244011914073067, 'breathtakingly': 0.0010049193581681505, 'fully': 0.0, 'escorted': 0.0, 'weeknd': 0.019454014525075898, 'extememly': 0.0020125001713270836, 'chichi': 0.0030212363548566047, 'teacup': 0.0035323138187489983, 'waiver': 0.0015295225614303074, 'conviently': 0.0025126463362301703, 'caring': 0.0019364868410536257, 'scope': 0.0010425401988550058, 'deserves': 0.008666943490805544, 'allergies': 0.0038338754967669753, 'hospital': 0.003696171665704428, 'dreaded': 0.0021057569399559996, 'breathed': 0.0010792324633806436, 'nachos': 0.0008863704972523587, 'grace': 0.029257929107343192, 'born': 0.017894278657027765, 'luxe': 0.00027280848436397274, 'accesible': 0.000326054655325945, 'essentials': 0.0, 'gymnasium': 0.008574018898540325, 'laps': 0.0020709552455102816, 'bagpacks': 0.00019080831591512007, '32': 0.0008887065303985555, 'produced': 0.0024077576891107363, 'ventured': 0.0, 'corn': 0.002245568592513467, 'hits': 0.00040206193981698194, 'stoked': 0.006494952932897508, 'dump': 0.00041603908222408967, 'grounds': 0.00202310677274294, 'key': 0.005982255209370028, 'pointers': 0.0018154396549919765, 'crust': 0.00024351029769760908, 'dishes': 0.0027264230566377123, 'stroll': 0.0017325484230507836, 'thankfully': 0.003010342606459963, 'wines': 0.0, 'mood': 0.005130772832244303, 'captured': 0.0016071185576606228, 'receiving': 0.002109456697043824, 'unparalleled': 0.006963622084769118, 'bliss': 0.0005322737250910908, 'beforehand': 0.015951704861883086, 'friendliness': 0.0010890786108759863, 'differently': 0.00016345946748362863, 'include': 0.01617850211130552, 'luxuriance': 0.012562165099078197, 'collection': 0.03705505194802945, '1900': 0.0009485739146999205, 'further': 0.04805238222804814, 'josh': 0.004739695654435495, 'castle': 0.009485724780856766, 'drawn': 0.01036875294960455, 'beck': 0.001158470133453687, 'stairs': 0.00025383850548529576, 'coffees': 0.0011273193120435482, 'talbot': 0.00805655495132997, 'pedals': 0.00576659587666155, 'organized': 0.004344198875512453, 'church': 0.0012363304303661426, 'dj': 0.007551162871130496, 'evan': 0.015894024379308626, 'frustration': 0.012474072367840299, 'upholstered': 0.0009948470879749432, 'cleanly': 0.0011334164722885468, 'bummed': 0.009832388117435437, 'tones': 0.002805144807542451, 'softness': 0.002540205059491257, 'million': 0.0029253942812437015, 'teamwork': 0.0016786734992230213, 'whenver': 0.0, 'colleges': 0.0, 'nickel': 0.005227413341135086, 'luxuary': 0.007320399413533079, 'hustle': 0.0011494615020767281, 'conducive': 0.0043537321795472424, 'learnt': 0.003780099330922826, 'gonna': 0.004017183387531729, 'borrow': 0.001164242655446305, 'impersonal': 0.00017270664433163683, 'dissapointed': 0.00166348246945474, 'believed': 0.004591192248876227, 'cranky': 0.001366615256799737, 'magical': 0.00012598602603512658, 'understated': 0.0025004450442359973, 'minimalist': 0.001669569160783379, 'priciest': 0.0, 'resonably': 0.005023261840796501, 'desire': 0.0012470387775982668, 'pamper': 0.0054552395439476506, 'smartly': 0.0012716928651438847, 'gently': 0.001281128934021752, 'helps': 0.005817035749601747, 'balance': 0.003398380120939218, 'charities': 0.00244920312345, 'compiled': 0.0012049433551975183, 'splurge': 0.0011387436361339517, 'houston': 0.001596385258083037, 'favorites': 0.0030338751442632868, 'entirely': 0.0032299931169492853, 'breaking': 0.0019847927083673773, 'bank': 0.001070251464028274, 'appear': 0.0009351443125142453, 'towns': 0.0009664652655506506, 'discounted': 0.007870355833544167, 'sundeck': 0.0, 'janice': 0.02752353198533295, 'incomparable': 0.001183854012021744, 'reunited': 0.001568315679917568, 'contributed': 0.0015628035324752824, 'dancers': 0.008651261722066834, 'environmental': 0.0027069966197240413, 'sounded': 0.0032958457316056263, 'vip': 0.000907064272141877, 'cramp': 0.028212073478668467, 'unfamiliar': 0.009361062878128617, 'guiding': 0.0018448382683199113, 'angeles': 0.004737269299740016, 'graduated': 0.0015939726837294404, 'afforded': 0.0025280250656612973, 'associates': 0.011421671412081467, 'leery': 0.0035725474676609075, 'fears': 0.005885834407637878, 'coupled': 0.0042776114624541225, 'participating': 0.0029252986257383966, 'downtime': 0.006247340799128758, 'lending': 0.0020747077591148906, 'encounter': 0.007676430685207815, 'tours': 0.0, 'rid': 0.000982267271767957, 'hopped': 0.001147431448303511, 'convince': 0.013013130311414328, 'sunbathing': 0.0035719337585811512, 'cotton': 0.0013144862413313576, 'masseuses': 0.009167227332468726, 'fishbowl': 0.008473324542891472, 'healthclub': 0.0028448262069760005, 'marketing': 0.0008238805591902327, 'matters': 0.010080298570053835, 'chances': 0.01304946376475443, 'partner': 0.004071936984659502, 'playlist': 0.019503887925255037, 'housekeepers': 0.036339072669272526, 'postitive': 0.0004096179698228027, 'remark': 0.003273277058873265, 'enviable': 0.004508783549049786, 'resorts': 0.0, 'gates': 0.005194350175706523, 'pride': 0.0007821872926364672, 'spacing': 0.0009972394545156834, 'hold': 0.0031130625287637257, 'infamous': 0.002019408035921733, 'grabbed': 0.002936207328482151, 'fillet': 0.0034614520414639736, 'comfortal': 0.004694952516701006, 'shi': 0.00218345321718746, 'calories': 0.010692902803779753, 'omelettes': 0.0009636231514463795, 'priceless': 0.001994888272400669, 'afraid': 0.005291582439137101, 'navigate': 0.001068892863780347, 'strange': 0.0002610804243903105, 'situatated': 0.0029554234531738383, 'drycleaning': 0.00374593891051434, 'communication': 0.008269363997729791, 'downfalls': 0.005461179084827752, 'invitations': 0.0006529910512714821, 'tastings': 0.0, 'duvets': 0.005726769812213044, 'precise': 0.001323247287480114, 'kennel': 0.001555765716222475, 'employe': 0.00012268242451774267, 'polished': 8.973334087650084e-05, 'ting': 9.455013448426388e-05}\n",
      " FREQUENCE OF THE MOST RELEVANT WORDS FOR DECEPTIVE OR NOT IN DECEPTIVE TEXTS {'hard': 0.0016262421372368085, 'favorite': 0.0, 'stayed': 0.0008342294367224838, 'times': 0.00018078478826247466, 'have': 0.0002935389055836886, 'had': 0.0, 'other': 0.0003782906845742724, 'than': 0.0, 'experience': 0.000417938774171828, 'you': 0.0, 'might': 0.002259324911804111, 'theme': 0.0, 'music': 0.0, 'paraphanelia': 0.00013665018755658107, 'themed': 0.0008572895518337217, 'musicians': 0.0, 'can': 0.0, 'request': 0.0, 'being': 0.0, 'band': 0.0, 'appointed': 0.0, 'beds': 0.0, 'cool': 0.0, 'system': 0.0, 'up': 0.0, 'room': 0.0, 'big': 0.0002966810421940249, 'windows': 0.00022566344056305018, 'sits': 0.0007243501518119975, 'block': 0.0, 'them': 0.0, 'close': 0.0, 'waterproof': 0.0, 'still': 0.0001992837562331659, 'nice': 0.0001470737546103386, 'energy': 0.0006980043439726347, 'scores': 0.0, 'pumps': 0.0, 'place': 9.745712773660638e-05, 'anywhere': 0.0, 'memorable': 0.0, 'll': 0.0, 'want': 0.0, 'return': 0.0, 'crazy': 0.0, 'overnight': 0.0, 'which': 0.0, 'about': 0.0, 'street': 0.0012489342482405027, 'under': 0.0006153073269296302, 'past': 0.0, 'year': 0.007102257226650268, 'job': 0.0019695599932706346, 'crash': 0.0008028130606211166, 'roadtrip': 0.0007779172237406589, 'get': 0.002077145025349866, 'location': 0.001488865387806754, 'family': 0.0004203948857554865, 'cramped': 0.002337559276190995, 'beat': 0.001238103453378373, '49': 0.0, 'included': 0.006630571557681205, 'current': 0.01869898578086284, 'suggested': 0.00014275679445477544, 'steakhouse': 0.0, 'building': 0.0, 'should': 0.006340154669187334, 'really': 0.0010620897813116224, 'even': 0.0012212310591947853, 'five': 9.365488484830618e-05, 'returned': 0.012620471663351817, 'perfect': 0.007477920725797774, 'wind': 0.00818157000552118, 'checked': 0.0030166519209423354, 'line': 0.0, 'our': 0.0006443729634440084, 'reduced': 0.005445309026890506, 'special': 0.0, 'called': 0.0012259177223945424, 'order': 0.01188655182770636, 'making': 0.0013290097152817452, '1519': 0.0001864046983706743, 'people': 0.0008683713515084436, 'better': 0.005964372889214942, 'dinning': 0.0011605818169024707, 'possibly': 0.001081116388363935, 'booked': 0.0006576566265883439, 'upper': 0.0009316513549506799, 'breakfast': 0.0, 'low': 0.006648896162056772, 'steal': 0.0, 'pacage': 0.0005886311971289382, 'dozen': 0.00011770347744696092, 'extras': 0.00048136358302174856, 'club': 0.0005859624654283166, 'attended': 0.005080520300286388, 'without': 0.00039169943820418563, 'thirty': 0.0, 'commendation': 0.0, 'waitresses': 0.007753260873015763, 'coffee': 0.0016176431494046555, 'shop': 0.00029813302114285387, 'door': 0.001625769592592423, 'august': 0.001115597403829939, '20': 0.00021928746862031457, 'old': 0.00266386146597008, 'activities': 0.0, 'entwistle': 0.0, 'difficult': 0.0007166526635971647, 'take': 0.004399405231596986, 'allegro': 0.007629429927868199, 'visit': 0.00014531369969136203, 'kraemer': 0.0003029710754545175, 'welcomed': 0.0010164017535743395, 'personal': 0.0009291212332554716, 'interest': 0.0, 'quickly': 0.0, '312': 0.001641584235586394, 'main': 0.00941325727427831, 'salty': 0.00220398788817232, 'complaint': 0.0, 'omni': 0.014594152829667474, 'select': 0.0006791964271596033, 'membership': 0.0031032558710772954, 'wireless': 0.0014153687460334364, 'pros': 0.013265468536747546, 'helpful': 0.0008369423730793307, 'gem': 0.0010796467368360577, 'photographs': 0.0, 'set': 0.0008078399585610659, 'updating': 0.0, 'cutter': 0.0, 'rows': 0.0006608052660577703, 'housing': 0.004390606048941192, 'suburbs': 0.00018793783349043016, 'houses': 0.0, 'do': 0.0, 'first': 0.0005259711019852779, 'nights': 0.0006370514044261593, 'lake': 0.0, 'peculiar': 0.0008112638017418972, 'airy': 0.006708442881910561, 'wouldn': 0.004965568004340992, 'final': 0.0008537772612481878, 'departure': 0.0, 'less': 0.0001395081110247932, 'greeting': 0.0005708901024491854, 'probably': 0.00035439929744717136, 'ever': 0.00017345057131706442, 'seasons': 0.0, 'fantastic': 0.0, 'pleased': 0.0074968084913888886, 'immediately': 0.00013122544776930303, 'lore': 0.0020472483399241533, 'wi': 0.00027948915756432666, 'able': 0.0017189716589408126, '45': 0.0, 'amenties': 0.0, 'due': 0.0, 'self': 0.0012180901785590025, 'smoothly': 0.003128534136533638, 'nicely': 0.0, 'mattress': 0.0006124985580298624, 'issue': 0.0, 'choose': 0.0007267929956897017, 'added': 0.0, 'pictures': 0.0008858559981860486, 'completely': 0.0, 'renovation': 0.00019447756836750917, 'pleasure': 0.0, 'believe': 0.004398758920308074, 'disapointed': 0.007217065271779439, 'travellodge': 0.0006713529170445312, 'king': 0.011460251618830878, 'nightstands': 0.00013018407048107135, 'neighborhood': 0.0, 'staying': 0.0032556099559610725, 'blocks': 0.0021910649287823613, 'action': 0.0009439271403506429, 'someday': 0.0007118114588001662, 'fancy': 0.0007985313689733127, 'placed': 0.001415625418655515, 'based': 0.0006986442593510517, 'members': 0.0001229779241959258, 'juice': 0.0010625628845243587, '816': 0.0028695361403041214, 'provided': 0.002685972426522552, 'come': 0.0017650700946602205, 'playing': 0.0004094421204398352, 'plasmas': 0.0, 'construction': 0.05235401893509785, 'another': 0.00424781713590003, 'fine': 0.0, 'upset': 0.0, 'dunkin': 0.0, 'imagine': 0.0020743798268724116, 'surprise': 0.000984979968551034, 'cab': 0.015348144199308453, 'dec': 0.00013444550120929276, 'festival': 0.0014085392775799175, 'cloying': 0.003742891436408094, 'provides': 0.006724222888328388, 'gratis': 0.005276611718150692, 'beverage': 0.0033492036381628032, 'truly': 0.006505819402098482, 'life': 0.0, 'theatres': 0.00028111623736609584, 'quieter': 0.0005242668592607033, 'scenic': 0.0, 'immaculate': 0.003854917097205979, 'additional': 0.0006027010874351113, '75': 0.0006106918687201775, 'unbelieveable': 0.0007320292618240874, 'employees': 0.001640364247944931, 'interfaced': 0.00017576171376223614, 'air': 0.0011829576225118475, 'mentioned': 0.001468108408416087, 'noisy': 0.005098624413488834, 'minor': 0.00030160101286102575, 'site': 9.042174509280502e-05, 'fact': 0.0, 'interior': 0.001056568790786251, 'own': 0.0, 'disappoint': 0.0, 'minutes': 0.004493211684903079, 'compare': 0.0, 'hair': 0.0030601559717326134, 'kiehls': 0.0, 'products': 0.0, 'chillout': 0.0, 'snooze': 0.0, 'busy': 0.0010614813522815197, 'goodnight': 0.0012378621948880377, 'biscuits': 0.0028178907030929723, 'consider': 0.0, 'rating': 0.0010568534917831044, 'furnishings': 0.0014317002644055998, 'traditional': 0.0, 'someone': 0.0022652149227494777, 'truth': 0.0, 'point': 0.0005925244312591542, '15': 0.001730949143596516, 'ice': 0.00044717631859571706, 'executive': 0.008494829819189783, 'tvs': 0.003731825502727071, 'smoking': 0.001205161144663417, 'taxes': 0.0004028314734214676, 'throw': 0.0006646998809196298, 'taxi': 0.0006026467679843797, 'together': 0.0, 'services': 0.0013069511463481038, 'into': 0.0, 'colleagues': 0.0, 'short': 0.0014126380510753342, 'shuffle': 7.552998588144106e-05, 'boring': 0.0006894643332861375, 'towards': 0.008996930351367803, 'valets': 0.0, 'heat': 0.0004212667672892141, 'superlatives': 0.0, 'town': 0.003599264477797203, 'avoided': 0.0, 'til': 0.00114205356041014, 'crt': 0.00908333257815835, 'coincierge': 0.001915011808237591, 'exit': 0.0007406178303454465, 'guise': 0.0011051202995265735, 'china': 0.01728064751618287, 'hi': 0.0017303372596879753, 'ladies': 0.005596323633738302, 'yummo': 0.0006636390981410901, 'italian': 0.0010433904439062895, 'fire': 0.0013229792893222616, 'form': 0.0008261165793114722, 'architecture': 0.002366824641270685, 'act': 0.0008424179253050757, 'ended': 0.0010006317215208941, 'unable': 0.006971987997116763, 'eagerly': 0.00024269580505716331, 'major': 0.0004799727612076127, 'centre': 0.0008884719125141793, 'meals': 0.0007034941669670336, 'store': 0.0006269237608612422, 'firestone': 0.0005909077181078078, 'appetizers': 0.0015106872867780398, 'stop': 0.0042806641186249154, 'couldn': 0.0005966758682978398, 'planetarium': 0.0, 'call': 0.001500053378566577, 'sleep': 0.0, 'add': 0.005356114684454935, 'rain': 0.0064147201451382795, 'showerhead': 0.00040045282467463325, 'hand': 0.0002765349024930925, 'options': 0.0, 'celebrate': 0.0, 'david': 0.013346030915344096, 'consumer': 0.0, 'pre': 0.0, 'cannot': 8.501856384507864e-05, 'state': 0.0012619809046316782, 'plans': 0.0023668943461680526, 'centerally': 0.0, 'almost': 0.0, 'raved': 0.0014744767972947124, 'accidentally': 0.002285648394752616, 'purchased': 0.0005908899075295113, 'kitchen': 0.007298502645852778, 'midcentury': 0.0007325994287209353, 'sensibilities': 0.0, 'involving': 0.006724903771713541, 'aggravating': 0.0012148770016246378, 'actively': 0.0004936471732432815, 'managers': 0.0007407123904878037, 'st': 0.00299578988820305, 'sinks': 0.010564271301969854, '125': 0.0025028434515841176, 'institute': 0.002084613822041335, 'brief': 0.0018753894912993873, 'bartender': 0.0007357213225580738, 'older': 0.0011866212456101983, 'common': 0.0021109992510509362, 'thought': 0.0016519718572643382, 'try': 0.00010331680600088834, 'factory': 0.0, 'longer': 0.00193499889162654, 'whilst': 0.012774092169016284, 'sheraton': 0.00747526252620154, 'guide': 0.0029185562648177794, 'airport': 0.0027755326673073355, 'downside': 0.0015989745726914392, 'faint': 0.00010409870308085557, 'luxury': 0.0, 'unbeatable': 0.0, 'yourself': 0.0, 'muted': 0.0006918776791378768, 'coffe': 0.007077286146561504, 'maker': 0.00423045835185298, 'plenty': 0.0, 'aveda': 0.020278211603570274, 'junkie': 0.0010463915391441259, 'pretentious': 0.0, 'memorabilia': 0.001642408246227693, 'hate': 0.0009643482934980774, 'hours': 0.0014060727924244123, '129': 0.0, 'delivery': 0.0, 'movies': 0.0, 'magnificient': 0.0, 'disappointing': 0.01230521543878729, 'rewarded': 0.0002450238479593357, 'sipping': 0.0019503056247577887, 'boarding': 0.00614353811574512, 'attractive': 0.0005884116314667552, 'tim': 0.004173950571885193, 'stephanie': 0.0, 'immediate': 0.0027446421607711397, 'joining': 0.0, '93': 0.009541914640999731, 'inc': 0.0, 'alone': 0.0009208658244573207, 'enjoying': 0.00035782357857455616, 'comments': 0.0, 'priviliges': 0.0, 'bagel': 0.010032963377007273, 'cheryl': 0.0013410518052276719, 'ample': 0.0, 'duvet': 0.0007204063690846433, 'woke': 0.006142476773442432, 'knocked': 0.0, '130': 0.0028595703268319305, 'positives': 0.004704202567745037, 'lifts': 0.0010933278447242698, 'central': 0.0002165990304410315, 'waived': 0.0006917305007441566, 'premium': 0.01631936982322994, '2s': 0.0025869615032400443, 'jared': 0.004647344265990316, 'nicer': 0.0006044994868311607, 'michicgan': 0.0006075518088085166, 'crowd': 0.007494939374746866, 'impishly': 0.00013162792911555204, 'why': 0.0008561514049943758, 'professionally': 0.00025745898448738437, '400': 0.0033484159308917816, 'cheap': 0.0022658118124862553, 'oneway': 0.00020554592094302134, 'taking': 0.0, 'partying': 0.0, 'pricing': 0.0003007678403145435, 'specacular': 0.0006015815290374506, 'sears': 0.0, 'thinking': 0.0004580857651118221, 'labor': 0.0, 'waterfront': 0.00010783477707742515, 'wired': 0.00014905647977236239, 'dim': 0.012126336932064859, 'bakery': 0.0045355113596814685, 'filmed': 0.0, 'pub': 0.002781215337698159, 'shedd': 0.0, 'royalty': 0.02512772617601692, 'gel': 0.0, 'barrel': 9.780734845700963e-05, 'buildings': 0.0, '48': 0.042347778212643704, 'ouch': 0.0028867956104674897, 'october': 0.003565254624998141, 'masculine': 0.0010368990714455793, 'guess': 0.0, '65': 0.0, 'stalls': 0.0009521339006076155, 'julie': 0.011055911413156032, 'judy': 0.00015109489062061702, 'undergoing': 0.0017484096600451637, 'breathtaking': 0.0, 'sitting': 0.0006985437355966094, 'eager': 0.002814246382479577, 'informative': 0.005197839854263388, 'cover': 0.0010733652011095897, 'clubs': 0.0012495719673356086, 'parks': 0.0006386785361221414, 'became': 0.004077789924424461, 'eligible': 0.009346900821115384, 'oatmeal': 0.002138653970429687, 'glass': 0.00038316533906318934, 'overcrowed': 0.0, 'web': 0.014263724502442147, 'docking': 0.0010654273719287797, '40': 0.0009142747925473531, '1802': 0.0, 'grays': 0.011134190209776846, 'soothing': 0.00491030774937117, 'finding': 0.0007209204206473027, 'heating': 0.0023080242597090777, 'lamp': 0.00022603684181526297, 'treadmills': 0.0014143452062332887, 'bikes': 0.0012539358759770542, 'dont': 0.0, 'thrifty': 0.07018799232301977, '155': 0.0, 'effectively': 0.0030990378421603087, 'takes': 0.008832836788487812, 'loads': 0.0, 'useful': 0.0036573273486519738, 'lets': 0.015536661343143845, 'receptionist': 0.0006484677666407504, 'excutive': 0.0009252514570529464, 'comforter': 0.0006267303261628249, 'accomadating': 0.0, 'groups': 0.0, 'pedro': 0.0015890490991375406, 'quentin': 0.0008330021853224959, 'linen': 0.0006443031962949236, 'filled': 0.0, '3rd': 0.0017583317162925608, 'regard': 0.0021070376983827617, 'safes': 0.0, 'nearly': 0.0, 'gallet': 0.0, 'conforter': 0.00458868374434297, 'pillowtop': 0.0, 'indoor': 0.0015646196057714779, 'althou': 0.004078480728223432, 'latte': 0.0011476699396645404, 'sheas': 0.001536704290053765, 'creepy': 0.0, 'acknowledgment': 0.010432539009489714, 'ordering': 0.0006104735999701685, 'smokes': 0.006418615362515353, 'frankly': 0.009400414882298876, 'consistency': 0.0, 'comparison': 0.000651337439665126, 'loud': 0.0010654732700918158, 'reviewers': 0.0, 'manhattan': 0.0, 'floors': 0.0, 'grab': 0.00021868660790252492, 'formal': 0.000857503101414222, 'delightful': 0.00017576171376223614, 'parts': 0.0006768025955556985, 'affina': 0.0016600737644199004, 'jobs': 0.006334862309003585, 'pristine': 0.0012320689556544018, 'aria': 0.0, 'interests': 0.005830008124608191, 'drove': 0.0015428110782780367, 'variety': 0.0031547174156730863, 'servicing': 0.0015817165267472432, 'managing': 0.003449015543826, 'insulation': 0.00036471902896808585, 'neighbours': 0.0, 'depot': 0.0005946393010470287, 'uk': 0.0, 'hangover': 0.005881543899106073, 'hancok': 0.0006193648472747296, 'importantly': 0.0, 'remodelling': 0.0033118829091377242, 'power': 0.0, 'continential': 0.023151590575922764, 'roof': 0.0020576763053616292, 'skyrise': 0.0009152551109374729, 'properties': 0.005710033385960123, 'square': 0.008883787021533212, 'footage': 0.0031130839522047534, 'responsibily': 0.008933746988005501, 'bumping': 0.011352351575742312, 'occasionaly': 0.0015445351029794755, 'dangerous': 0.0006554405431015796, 'begin': 0.0, 'solo': 0.009087487297221926, 'wardrobe': 0.012911194327087592, 'microwave': 0.004426504805022501, 'oven': 0.0008082900659104069, 'utensils': 0.0006952662148300739, 'foodcourt': 0.0016764132395836664, 'ensure': 0.0, 'homewoods': 0.0019273032390574251, 'impact': 0.0007401594167603923, 'peoples': 0.0008452971082596871, 'example': 0.0, 'stunned': 0.0006003965405949103, '06': 0.0006351061282110719, 'wowed': 0.009486276889418858, 'honor': 0.013173502110610358, 'legitimately': 0.0, 'range': 0.0006473370805999728, 'pity': 0.015211784533523582, 'nobody': 0.00022952704608074977, 'spolied': 0.0, 'snack': 0.0011325776707123423, 'heavy': 0.011361761386553449, 'doubt': 0.0008131733394172947, 'feb': 0.0, 'toward': 0.0034148795721023724, 'rent': 0.00028229440262601173, 'anymore': 0.0, 'purifier': 0.0015823208749736948, 'ran': 0.00042606041069943347, 'mother': 0.0031027895802740522, 'strawberries': 0.0010852987678208086, 'described': 0.0, 'milennium': 0.028753608526763258, 'maria': 0.004121405138405183, 'drain': 0.0016877881796714834, 'imaginable': 0.0020129513183069015, 'origins': 0.005331754472095229, 'fabulously': 0.002387662224051144, 'delight': 0.0002265673440460682, 'annoyingly': 0.0, 'marshall': 0.0009088606791880444, 'surround': 0.003587820414675108, 'stand': 0.0008522213667865964, 'everthing': 0.0036186115059286795, 'tour': 0.0, 'sent': 0.004312998699979025, 'receptionists': 0.00033591803571848675, 'marathon': 0.00517888022361975, 'individual': 0.0, 'friiday': 0.0007346438288240341, 'recomment': 0.008915180106392109, 'greek': 0.0, 'supply': 0.0002772541528728606, 'alot': 0.0005000320286536198, 'timerland': 0.0022755314049588767, 'traveller': 0.0, '26th': 0.008603938015786138, '219': 0.003994482652321031, 'superbly': 0.0, 'effort': 0.01712228293628723, 'contained': 0.005847916311475392, 'zest': 0.010836948100643588, 'press': 0.003465217871680715, '149': 0.0006431711590390867, 'assigned': 0.0024350402268217162, 'esp': 0.0, 'meats': 0.0, 'drinking': 0.0019109729102170256, 'televison': 0.007039171020609006, 'satisfactory': 0.0026509934836287012, 'steppers': 0.0015050917877031985, 'villa': 0.0013337583379761178, 'instantly': 0.00015519074444809658, 'dinners': 0.0, 'headboards': 0.016050365998827244, 'triple': 0.0014430602356442592, 'bldg': 0.006628928034860556, 'leg': 0.0, 'ticket': 0.014992897021235234, 'nytimes': 0.004512478514710254, 'apparently': 0.0008371311778985889, 'doughnuts': 0.0006691486728914917, 'mrs': 0.0, 'vanessa': 0.0, 'wore': 0.001292610792423914, 'cloud': 0.0006859382511483041, 'moterate': 0.000192224017649186, 'alerted': 0.0, 'certain': 0.0027026771618873136, 'geared': 0.0, 'significantly': 0.0, 'extented': 0.0, 'cereal': 0.0008024859798367882, 'yogurt': 0.0, 'bf': 0.0, 'suggest': 0.0029988608537867144, 'crowds': 0.007509830385241362, 'mainly': 0.0013041181787687786, 'cruise': 0.002012765352491959, 'ditch': 0.004535206496222572, 'donald': 5.43952420828027e-05, 'performance': 0.0, '2007': 0.00695300235050602, 'strong': 0.0045546887595618, 'fit': 0.0015627150651700502, 'men': 0.0, '05': 0.0, 'grand': 0.0008640648586160444, 'silence': 0.0023169458350361, 'gesture': 0.010398622589437847, 'antipasti': 0.00037080377576026766, 'marinated': 0.0, 'concourse': 0.0014620822153676286, 'restaraunts': 0.0007969095966408849, 'canceled': 0.01080668041690418, 'ignore': 0.004470312902242673, 'suberb': 0.004993823824366441, 'waste': 0.005122462895908988, '165': 0.001738739252207639, 'broke': 0.0, 'dollar': 0.004438336546560146, 'crabtree': 0.00019493995792189685, '3114': 0.00013013104719341746, 'cabbed': 0.0, 'runny': 0.0, 'eleven': 0.0023046145983541826, 'failed': 0.000980598939292502, 'draught': 0.002216407028962959, 'promptly': 0.0045325505548933324, 'party': 0.0058787762422012335, 'pretentiousness': 0.003939295585804486, 'heels': 0.0006967009649742216, 'blisters': 0.0036734722307803025, 'germaphobe': 0.0034215265925406795, 'valentines': 0.0, 'easter': 0.01947395156556894, 'season': 0.002233477729419638, 'mmmhh': 0.002240464047342942, 'checkout': 0.00016934945652479148, 'michican': 0.0019011772948271388, 'hash': 0.001915428708695907, 'browns': 0.0008804320001113085, 'omelets': 0.0039158666553508435, 'artifical': 0.00016582064588128637, 'alarm': 0.0008013529769180895, 'clock': 0.0, 'computers': 0.0, 'skip': 0.0, 'hershey': 0.00035161464032897814, 'backpack': 0.0010917100280325753, 'unprompted': 0.0009568921653103615, 'whenever': 0.0010399390914945185, 'breaksfast': 0.0, 'aroufn': 0.005171550654139423, 'partial': 0.0, '10yo': 0.0, 'months': 0.00045905554455540087, 'meets': 0.0, 'sylvia': 0.0005121076474735252, 'architectural': 0.0005990906562557924, 'foam': 0.0016888067358577627, 'allergenic': 0.0, 'friendliest': 0.003029097201438196, 'hey': 0.0005479266712719741, 'buck': 0.0003559012694370256, 'teams': 0.001155522991590151, '26': 0.0028938791787774813, 'lines': 0.0, 'afford': 0.0018136795120779709, 'scent': 0.0018601820405774688, 'wastebasket': 0.00035357042369600427, 'dispose': 0.0, 'bulb': 0.002936611681472157, 'waffle': 0.0010669882853263472, 'whipped': 0.0011085003636086982, 'charging': 0.005847378734696689, 'rainbow': 0.0006879011221419054, 'definitly': 0.0, 'mastiff': 0.0012830639372336655, 'nestled': 0.004238748684624465, 'beaten': 0.011783805190914992, 'path': 0.0028713449671796134, 'intercon': 0.0010729943799198227, 'peopel': 0.017573199528373752, 'disinterested': 0.0011026269853770477, 'procedure': 0.000600772877729624, 'parkview': 0.0005114383703185408, 'accomplished': 0.00013524453635194546, 'detract': 0.006146235176761122, 'wrote': 0.0, 'solid': 0.00012991086912112604, 'unloading': 0.006167239186778548, 'ny': 0.00214746942286807, 'loves': 0.007361990294074158, 'former': 0.000941272905808547, 'lakeview': 0.0, 'drivers': 0.0011429595630739029, 'frindly': 0.00027946659972777793, 'keihl': 0.0005753123662986991, 'compensation': 0.0002274266252875358, 'artwork': 0.0012591205016070084, 'vacations': 0.0045570833841380234, 'carried': 0.0014821616168461688, 'wifes': 0.0007190859135983134, 'changing': 0.0, 'black': 0.0054387415363414985, 'grey': 0.0011731244052020284, 'fyi': 0.0016422450645328776, '91': 0.004075475689971531, 'pitfalls': 0.0, 'claims': 0.0016829874466955358, 'lends': 0.0010155579197029339, 'tab': 0.0013745561894266418, 'inspiring': 0.0008856189114081559, 'purple': 0.0, 'dot': 0.0, 'sufficient': 0.0006273029021232199, 'uncomfortable': 0.0019773309689414616, 'greatly': 0.0004974999218588304, 'exaggerated': 0.009697433270742266, 'abd': 0.0001937200363389221, 'toothbrush': 0.0, 'ill': 0.0011805094248213024, 'plane': 0.004072135954809983, 'manchester': 0.0006422336550296871, 'cheering': 0.00021123770539961374, 'palm': 0.0009332129950084086, 'apri': 0.0022383289270496705, 'helpfuly': 0.009982994092173207, 'airfare': 0.0008234670520864556, 'uniqueness': 0.0001387638137896869, 'appetizer': 0.0006062275302315466, 'mp3': 0.002615028726203031, 'compatible': 0.0006576624245304867, 'tags': 0.00014522172151608425, 'buy': 0.0009430515743947199, 'scrambled': 6.500438689711006e-05, 'butted': 0.000880821273334513, 'quilts': 0.0, 'hectic': 0.0005431190029564958, 'piping': 0.0001182169144788285, 'chef': 0.0, 'map': 0.0029251904407075068, 'highest': 0.0009595271435598984, 'sky': 0.00016832270763132953, 'felling': 0.0031778582600171107, 'governors': 0.010627946015664625, 'afterwards': 0.00463370634390293, 'reeked': 0.0006211987510816386, 'pure': 0.0003505109104813478, 'favorable': 0.0007345349495161454, 'tickled': 0.00038683122129118717, 'innovative': 0.0, 'soap': 0.000834000260417156, 'exquisite': 0.00023001271713820554, 'palms': 0.029033600655832558, 'gripe': 0.004871866005689295, 'spoken': 0.0010907362261268802, 'musical': 0.0019341033375021132, 'treatments': 0.0007188152880733717, 'shipped': 0.0008276236094724904, 'reluctant': 0.0, 'fares': 0.0013636075537371217, 'advantages': 0.006155785923002, 'pricetag': 0.0011964780953014067, 'responded': 0.004710475302608204, 'eyes': 0.0010045433071829745, 'original': 0.0018871197216853081, 'barking': 0.0, 'falling': 0.0, 'hidden': 0.0023662369973951637, 'satisfy': 0.0, 'display': 0.0007623593645634502, 'separated': 0.0005898016855570683, 'success': 0.0, 'needn': 0.00467892613481242, 'dream': 0.0, 'proudly': 0.006875608846352018, 'atop': 0.006612742798676789, 'downloaded': 0.004855467822293885, 'inspect': 0.0059830669900031875, 'doubts': 0.0013926887806679975, 'sadly': 0.0, 'settle': 0.0002595028436854707, 'heartedly': 0.0001264158804648638, 'unwind': 0.0, 'benefits': 0.006401259252852188, 'providing': 0.00016027193242690953, 'caliber': 0.0, 'buisness': 0.003781419309101889, 'shot': 0.005089667236826831, 'hasn': 0.0007302975427992686, 'flow': 0.0010945955168324866, 'loft': 0.008646711342385037, 'centers': 0.001985269149417681, 'francisco': 0.0031230766616983214, 'brightly': 0.005238491681049522, 'susan': 0.0006421038223924394, 'breathtakingly': 0.0, 'facial': 0.0006761407989463709, 'employer': 0.0, 'says': 0.002432868517644603, 'deserves': 0.005085195164566279, 'severe': 0.0, 'asthma': 0.003869441368903893, 'hospital': 0.003301512681849828, 'emergency': 0.0006286773779262942, 'rosa': 0.0, 'perfumes': 0.0, 'dreaded': 0.00024464526616346566, 'nachos': 0.0, 'patient': 0.001336673716843013, 'grace': 0.038072331988838755, 'era': 0.017843039299138427, 'trunks': 0.0021073030845214563, 'tacky': 0.001538963164692944, 'accommodate': 0.0, 'combination': 0.0009369462052590529, 'capable': 0.0, 'gentle': 0.001163278830128523, 'gymnasium': 0.004629534817089423, 'treating': 0.00015142625399861028, 'kindly': 0.0, 'sincerely': 0.0004169585033519035, 'matches': 0.00014610964057155395, 'selections': 0.0006946875271549615, 'televisions': 0.0018486014406880456, 'multi': 0.00010853260650232095, 'professionals': 0.0015430268535404012, 'coffer': 0.0, 'thumbs': 0.0, 'replicate': 0.0008427227554587918, 'hits': 0.0, 'sipped': 0.002400364624940096, 'stash': 0.007573613623233718, 'cousin': 0.000159754444026513, 'driver': 0.0005899535203558522, 'glamorous': 0.0001639845416055406, 'heaven': 0.001274191391976507, 'pakistani': 0.0007105519219083264, 'mimosas': 0.0, 'extravagant': 0.0, 'handle': 0.0006510096636996071, 'sofie': 0.0, 'shall': 0.0007022311549212823, 'thankfully': 0.002832265042901928, 'promise': 0.000649289593216166, 'afternoons': 0.0, 'opera': 0.0, 'step': 0.0, 'hues': 0.003400039531648248, 'complimented': 0.0011450032067360399, 'captured': 0.00040074014007154173, 'additionally': 0.0, 'unparalleled': 0.005063125014399266, 'bliss': 0.0009132911424052762, 'appreciation': 0.0006394021994254323, 'hassle': 0.0, 'portrayed': 0.0, 'differently': 0.0007209132266836184, 'slate': 0.0, 'icing': 0.017009311781786506, 'rocked': 0.0019572234408093635, 'forgotten': 0.0007176505718703395, 'lifetime': 0.0, 'clocks': 0.003950048038529957, 'media': 0.004175166102864027, 'generic': 0.0, 'horribly': 0.0014222652127956143, '9pm': 0.00019865457188197172, 'tall': 0.000294645080219447, 'shoeshine': 0.02209998898008121, 'talbot': 0.003912165907016004, 'pedals': 0.0009194945514174923, 'groomsman': 0.00013892893370650328, 'church': 0.0, 'bridemaid': 0.0006649859695927743, 'dumbs': 0.0002446071079253436, 'frustration': 0.010713873795943005, 'kitten': 0.000133215105983434, 'sitter': 0.0, 'bummed': 0.009226493393709007, 'stiff': 0.0046991060864283625, 'spectacularly': 0.0004738296096881754, 'luxorius': 0.00012645476919729567, 'burgers': 0.0, 'bonuses': 0.0, 'alcoholic': 0.0006785761619135513, 'teamwork': 0.00136825553341327, 'demonstrated': 0.0, 'strives': 0.0, 'hello': 0.0, 'explained': 0.002970234855555165, 'routes': 0.004912264084806075, 'whenver': 0.001192421117148945, 'colleges': 0.0, 'freebies': 0.0006299247917117922, 'wide': 0.0, 'define': 0.0, 'posh': 0.0023745572724332502, 'angle': 0.0, 'oriented': 0.00020863325979229763, 'gonna': 0.004454726719832282, 'impersonal': 0.0004098469232006483, 'finds': 0.010606463520705654, 'orderly': 0.0006247103195470906, 'definetely': 0.0, 'pamper': 0.0016641095064881299, 'energized': 0.000633376840476021, 'entirely': 0.002309115919438905, 'towns': 0.0009664652655506506, 'sundeck': 0.0015653876170895623, 'emaculate': 0.000709976693962061, 'emphasis': 0.0, 'dime': 0.00023790982550000146, 'entry': 0.00032881318135945676, 'concluded': 0.001628161778806186, 'incomparable': 0.0006361473348492086, 'individualized': 0.0, 'grain': 0.0006793066665660441, 'marmalade': 0.008074973594970065, 'reunited': 0.003783684842170376, 'privacy': 0.000800229232857238, 'scarce': 0.016506219194153626, 'talented': 0.0, 'singers': 0.0, 'accessories': 0.000585550595050446, 'sounded': 0.00946578389291169, 'displays': 0.000844859083966496, 'melds': 0.002961198232917489, 'lover': 0.0010960875509666527, 'romance': 0.0006745506792920803, 'approachable': 0.0012524353483891017, 'customization': 0.0, 'sundecks': 0.0006608956547702069, 'swiss': 0.0, 'rough': 0.0, 'angeles': 0.012382080495677317, 'graduated': 0.0042476017945071685, 'afforded': 0.006564275810606153, 'par': 0.0, 'divine': 0.0006983607874661588, 'followed': 0.0, 'associates': 0.009953098741558945, 'confidence': 0.0, 'coupled': 0.004022383766025334, 'participating': 0.005440861269768638, 'downtime': 0.0018546751058079272, 'lending': 0.0003026991501131672, 'uber': 0.0006142723670775913, 'considerate': 0.008295033109680591, 'reclining': 0.0, 'tips': 0.006848557661953944, 'perfecty': 0.0, 'masseuses': 0.007924411230502864, 'certificate': 0.006336638891635536, 'fishbowl': 0.013277759987246094, 'chances': 0.013243048650003015, 'beagle': 0.0, 'housekeepers': 0.030842495233120708, 'belief': 0.0017567698997151015, 'postitive': 0.0020175765972245876, 'message': 0.015456322895351583, 'remark': 0.0010745038216257144, 'aesthetics': 0.005133359359549466, 'enviable': 0.0020664224625977492, 'resorts': 0.0, 'track': 0.013193145471065561, 'inform': 0.023726040313385016, 'extraordinarily': 0.0021239196650891666, 'willingly': 0.0007822068463351609, 'spacing': 0.0032928456575430803, 'needing': 0.000944061826628739, 'proceeded': 0.0007593232980571726, 'infamous': 0.00356811914308803, 'strange': 0.00012258621852971453, 'merchandise': 0.0007670539814343232, 'communication': 0.00548869581750438, '1500': 0.0, 'tastings': 0.0, 'duvets': 0.004493461134998218, 'array': 0.00011770347744696092, 'picturesque': 0.0035056278861929796, 'swept': 0.002131850424244482, 'kennel': 0.0014171877003891112, 'doggy': 0.001250708479928474, 'carey': 0.004861405169656192, 'lite': 0.00041185133837897694, 'polished': 0.00015189677627444674, 'carpets': 0.0}\n",
      " FREQUENCE OF THE MOST RELEVANT WORDS FOR DECEPTIVE OR NOT IN TRUTHFUL TEXTS {'hard': 0.004557022424973432, 'favorite': 0.0008074887946485102, 'stayed': 0.002874696355353645, 'times': 0.0027345992490613673, 'have': 0.0020579734874545457, 'had': 0.0007486080864290634, 'other': 0.001533289436422349, 'than': 0.0006582111663349864, 'experience': 0.0018998494743298028, 'you': 0.0008344910629258831, 'might': 0.004648585649515974, 'theme': 0.0013032712186170881, 'music': 0.0008551201506131037, 'paraphanelia': 0.0017141432658280462, 'themed': 0.0028333813587961536, 'musicians': 0.0008097612362142734, 'can': 0.0007751435458478886, 'request': 0.00068760673031634, 'being': 0.001546581915039859, 'band': 0.0013800862920121143, 'appointed': 0.0008762678827564445, 'beds': 0.0010065750198654543, 'cool': 0.002633372197071988, 'system': 0.0007690174982113446, 'up': 0.0006778456306382863, 'room': 0.001577101036108239, 'big': 0.0016269354003712927, 'windows': 0.0012227841041340846, 'sits': 0.0, 'block': 0.0007272195394563346, 'them': 0.0019357167660664044, 'close': 0.0006739493440057084, 'waterproof': 0.0005892899161914062, 'still': 0.001178004075676355, 'nice': 0.0012296606998451968, 'energy': 0.0030525135777764944, 'scores': 0.0006204797133504993, 'pumps': 0.0006273539903079736, 'place': 0.0019110110358791343, 'anywhere': 0.0009471435662630741, 'memorable': 0.0006626749457656181, 'll': 0.0009230788066868901, 'want': 0.0018485521492289905, 'return': 0.0015316330806652333, 'crazy': 0.0009259495270032823, 'overnight': 0.0008244112482394818, 'which': 0.0017892312357327212, 'about': 0.0008164755561925496, 'street': 0.0001400976289418492, 'under': 0.0, 'past': 0.0006044571045614848, 'year': 0.0008545020413011345, 'job': 0.0003026710278891974, 'crash': 0.0, 'roadtrip': 0.0, 'get': 0.004021731656220107, 'location': 0.0004000050022533763, 'family': 0.0015282645757006574, 'cramped': 0.0006311537453080185, 'beat': 0.0, '49': 0.002001435909922841, 'included': 0.0025135277483982394, 'current': 0.013034460450788939, 'suggested': 0.0009422766078547995, 'steakhouse': 0.0006444612651964983, 'building': 0.0006214640055959357, 'should': 0.0038748825587796043, 'really': 0.00017564435266926307, 'even': 0.0, 'five': 0.0014036590398511376, 'returned': 0.004984428392080885, 'perfect': 0.004571888789900631, 'wind': 0.004922785161801711, 'checked': 0.001086059996348025, 'line': 0.0006200992384905765, 'our': 0.0, 'reduced': 0.0024484873834325414, 'special': 0.000714459809845073, 'called': 0.0, 'order': 0.0037691224123143586, 'making': 0.0037650336389330324, '1519': 0.0011540166723189719, 'people': 0.0, 'better': 0.0029587023067044393, 'dinning': 0.0001826006683868451, 'possibly': 0.0001377882642945299, 'booked': 0.0, 'upper': 0.0, 'breakfast': 0.0007980978763860104, 'low': 0.0016844570411153686, 'steal': 0.0022686035020479008, 'pacage': 0.0, 'dozen': 0.0012322362396529013, 'extras': 0.0018981822067307289, 'club': 0.001963170621751703, 'attended': 0.0027851397468626696, 'without': 0.0015973936927604693, 'thirty': 0.0006567878729719312, 'commendation': 0.000630589635586941, 'waitresses': 0.0046128920702740595, 'coffee': 0.009261171768670261, 'shop': 0.001700746503223564, 'door': 0.006412065920655274, 'august': 0.0, '20': 0.0016917401087446788, 'old': 0.0010856109927019218, 'activities': 0.0006337011109623125, 'entwistle': 0.0007624404734796665, 'difficult': 0.0, 'take': 0.0023651829816446605, 'allegro': 0.01324966832319142, 'visit': 0.0011751816210300613, 'kraemer': 0.001443377651090761, 'welcomed': 0.0032726733656886055, 'personal': 0.0027174882299036197, 'interest': 0.0010653820915018696, 'quickly': 0.0006701050422065344, '312': 0.003873406012962135, 'main': 0.018358966114737377, 'salty': 0.004641061224856204, 'complaint': 0.0009559938331225558, 'omni': 0.009883737370222117, 'select': 0.0, 'membership': 0.0010480710706565002, 'wireless': 0.0002605084186249927, 'pros': 0.019841253272298784, 'helpful': 0.0, 'gem': 0.0035224583573488944, 'photographs': 0.0018305621556814044, 'set': 0.002605696090442561, 'updating': 0.0007114725006964521, 'cutter': 0.0007667052499109281, 'rows': 0.0, 'housing': 0.007621236784465749, 'suburbs': 0.0012377795102589497, 'houses': 0.0007888802729926771, 'do': 0.0006749407280296383, 'first': 0.004902469471605381, 'nights': 0.007538311511557999, 'lake': 0.0010303933803402238, 'peculiar': 0.0, 'airy': 0.012294330712991635, 'wouldn': 0.008128760213537754, 'final': 0.0029513572037847113, 'departure': 0.001211455143237747, 'less': 0.002245007020183035, 'greeting': 0.0017700018552970162, 'probably': 0.0015398589559683113, 'ever': 0.0010099622451533613, 'seasons': 0.0010995570292087055, 'fantastic': 0.0008291523158426825, 'pleased': 0.015242549950638862, 'immediately': 0.0014088708305631185, 'lore': 0.00017570880103044866, 'wi': 0.0013525753986640774, 'able': 0.0035503329214308325, '45': 0.0007479253508927933, 'amenties': 0.0006851846048665136, 'due': 0.0006676037915949401, 'self': 0.004062351772115011, 'smoothly': 0.006732441800958368, 'nicely': 0.0008472253336185862, 'mattress': 0.0024844640815916115, 'issue': 0.0009577331361340408, 'choose': 0.0, 'added': 0.0007358028806974134, 'pictures': 0.0049578372343982826, 'completely': 0.0010819923738032882, 'renovation': 0.0010856361574426016, 'pleasure': 0.0006023906809274029, 'believe': 0.00806726775131387, 'disapointed': 0.011098505113797423, 'travellodge': 0.0, 'king': 0.01569778598477832, 'nightstands': 0.0013893034563203384, 'neighborhood': 0.0006835097880516397, 'staying': 0.0062461166015043475, 'blocks': 0.004973678364876427, 'action': 0.00014533793386151958, 'someday': 0.0, 'fancy': 0.0, 'placed': 0.000165673707219326, 'based': 0.0, 'members': 0.0022201044689482714, 'juice': 0.002941935896975836, '816': 0.0010979037111526326, 'provided': 0.006825462542911982, 'come': 0.004548066390475088, 'playing': 0.0014817200678359003, 'plasmas': 0.0005929580629687402, 'construction': 0.022906888655882297, 'another': 0.0008281900597869007, 'fine': 0.000605959269185569, 'upset': 0.0014790060039209124, 'dunkin': 0.0006445515790648185, 'imagine': 0.0002610011576655573, 'surprise': 0.0, 'cab': 0.011060218207707544, 'dec': 0.0009196221296122203, 'festival': 0.00031989445452480683, 'cloying': 0.0010266523825952563, 'provides': 0.002019933192730096, 'gratis': 0.0017698897227291315, 'beverage': 0.0008009081771539618, 'truly': 0.0023502286399828824, 'life': 0.000924708795987992, 'theatres': 0.0013478778444967138, 'quieter': 0.003930672416128628, 'scenic': 0.0009323713001577756, 'immaculate': 0.01061601230871869, 'additional': 0.0, '75': 0.0, 'unbelieveable': 0.0, 'employees': 0.0003287589067014417, 'interfaced': 0.0016931954917796335, 'air': 0.0, 'mentioned': 0.0036922580132090527, 'noisy': 0.002736557550051863, 'minor': 0.0013898990262582072, 'site': 0.0012724871439257711, 'fact': 0.0009616508893593338, 'interior': 0.003073086623928475, 'own': 0.0006821281149183378, 'disappoint': 0.0006684305968777666, 'minutes': 0.00977551046080418, 'compare': 0.0006356872986566955, 'hair': 0.007623991418570842, 'kiehls': 0.0016376349605087678, 'products': 0.0005927393561122092, 'chillout': 0.0008981592632090704, 'snooze': 0.000623269672870963, 'busy': 0.006986299043660909, 'goodnight': 0.0, 'biscuits': 0.0011861808076464688, 'consider': 0.0006497210714122289, 'rating': 0.00013343755831455589, 'furnishings': 0.00018189232319586377, 'traditional': 0.0011104847535793095, 'someone': 0.004353310914002142, 'truth': 0.0006127162732260317, 'point': 0.0, '15': 0.006040365046885554, 'ice': 0.0025709625523165696, 'executive': 0.005163128180331531, 'tvs': 0.0004214318953653599, 'smoking': 0.0, 'taxes': 0.00268472294349081, 'throw': 0.0020200434915658063, 'taxi': 0.0, 'together': 0.0007333962601675732, 'services': 0.0, 'into': 0.0009894174418913298, 'colleagues': 0.001052534768872883, 'short': 0.0, 'shuffle': 0.0015536734738550953, 'boring': 0.0, 'towards': 0.004839350658406435, 'valets': 0.0007833289819672535, 'heat': 0.0025915584422895772, 'superlatives': 0.0007144114951344262, 'town': 0.007468533755375142, 'avoided': 0.00126715917969819, 'til': 0.0, 'crt': 0.004020442722073734, 'coincierge': 0.00017003287449060108, 'exit': 0.0, 'guise': 0.0, 'china': 0.008346000367181815, 'hi': 0.00022564137197814314, 'ladies': 0.0013532642841307069, 'yummo': 0.0, 'italian': 0.0, 'fire': 0.00015340629390754674, 'form': 0.0, 'architecture': 0.00042469064527445575, 'act': 0.0, 'ended': 0.0, 'unable': 0.002062827618694661, 'eagerly': 0.0012903144666606863, 'major': 0.0033195686178764676, 'centre': 9.839436700931056e-05, 'meals': 0.0, 'store': 0.0, 'firestone': 0.0, 'appetizers': 0.0, 'stop': 0.008167956450188231, 'couldn': 0.0, 'planetarium': 0.0007219621815169733, 'call': 0.00020252565576182966, 'sleep': 0.0006235797650423908, 'add': 0.0016243256550452527, 'rain': 0.0106260846353152, 'showerhead': 0.0038297967562775496, 'hand': 0.003051708275177305, 'options': 0.0009460134835696234, 'celebrate': 0.0011628959863164913, 'david': 0.00844330421680448, 'consumer': 0.0011762214859109819, 'pre': 0.0015085716111485098, 'cannot': 0.0008491089703175532, 'state': 0.0, 'plans': 0.004597692768538233, 'centerally': 0.0007588282482979265, 'almost': 0.0009596128958658946, 'raved': 0.0003326084821442146, 'accidentally': 0.005562779601303163, 'purchased': 0.0, 'kitchen': 0.0033296958643331646, 'midcentury': 0.0021651481847851893, 'sensibilities': 0.002564832945965519, 'involving': 0.002129128719913651, 'aggravating': 0.007349212546631013, 'actively': 0.0065732648540033, 'managers': 0.0, 'st': 0.0010103715720054954, 'sinks': 0.0069276608620501955, '125': 0.0006625214083767945, 'institute': 0.0006298905752240799, 'brief': 0.00016037504993308244, 'bartender': 0.0, 'older': 0.00021077594004681628, 'common': 0.0006540019744593051, 'thought': 0.006766539712139415, 'try': 0.002231152193657661, 'factory': 0.0009425256064333719, 'longer': 0.0050794599442072685, 'whilst': 0.006270455484600489, 'sheraton': 0.014210284714624261, 'guide': 0.001278950709136771, 'airport': 0.0012028968058343658, 'downside': 0.0003123503369510971, 'faint': 0.0013567191108971913, 'luxury': 0.0006059636743935033, 'unbeatable': 0.000598339786653832, 'yourself': 0.0006551831633889827, 'muted': 0.0, 'coffe': 0.0038584632093709554, 'maker': 0.0013763389544438028, 'plenty': 0.0011237133405755562, 'aveda': 0.008286490025058154, 'junkie': 0.0, 'pretentious': 0.0007431168427419189, 'memorabilia': 0.0, 'hate': 0.0, 'hours': 6.927847918977633e-05, '129': 0.0006291504824365929, 'delivery': 0.002234392169826287, 'movies': 0.0009552330896902262, 'magnificient': 0.0010570197862090915, 'disappointing': 0.004407773053644208, 'rewarded': 0.00250898614317113, 'sipping': 0.0005636827845252029, 'boarding': 0.003564690526013466, 'attractive': 0.002100055110876043, 'tim': 0.001997369869243703, 'stephanie': 0.0006964971931817674, 'immediate': 0.0002502926905602819, 'joining': 0.0011300254486810444, '93': 0.005389532611979303, 'inc': 0.0009332719047364121, 'alone': 0.0, 'enjoying': 0.00171808836690878, 'comments': 0.0008416228865458463, 'priviliges': 0.0006008149853645572, 'bagel': 0.0041357125575849675, 'cheryl': 0.00027383895322439746, 'ample': 0.0006936083382398464, 'duvet': 0.0, 'woke': 0.0033755980390048827, 'knocked': 0.0012078052808857092, '130': 0.0010629438374202512, 'positives': 0.017573920273931072, 'lifts': 0.003414574987362405, 'central': 0.002335838532377381, 'waived': 0.0, 'premium': 0.007188861586895528, '2s': 0.0007519246835875126, 'jared': 0.0018019057315735076, 'nicer': 0.0, 'michicgan': 0.0, 'crowd': 0.013932145881979212, 'impishly': 0.002862578651778387, 'why': 0.0, 'professionally': 0.0018577483016184613, '400': 0.006253268516475929, 'cheap': 0.0006014291999770965, 'oneway': 0.001518641288648525, 'taking': 0.0006412928863242721, 'partying': 0.0011294323922214054, 'pricing': 0.002055033714567383, 'specacular': 0.0, 'sears': 0.0006464408599607272, 'thinking': 0.0023277207541104517, 'labor': 0.0007041001588636203, 'waterfront': 0.001205913704653592, 'wired': 0.0017236787801175506, 'dim': 0.020458781952256172, 'bakery': 0.002459703173174492, 'filmed': 0.0007930388518918391, 'pub': 0.0005214549865453817, 'shedd': 0.0006528743771284528, 'royalty': 0.03940848663152051, 'gel': 0.0006212838740806489, 'barrel': 0.0009909842510003953, 'buildings': 0.001461729994680235, '48': 0.0353130831515181, 'ouch': 0.000684888591294216, 'october': 0.0013372964583687184, 'masculine': 0.0030675964173765336, 'guess': 0.0028680334153318, '65': 0.0007590664144660561, 'stalls': 0.002775950797167441, 'julie': 0.006576525176184549, 'judy': 0.0016564922156831164, 'undergoing': 0.0003094752197104859, 'breathtaking': 0.0006759210428726241, 'sitting': 0.0, 'eager': 0.006164628729839064, 'informative': 0.0019132352095621973, 'cover': 0.0, 'clubs': 0.0, 'parks': 0.0, 'became': 0.0013503220555542439, 'eligible': 0.015354515417450927, 'oatmeal': 0.00044984703316105703, 'glass': 0.0020088274480425626, 'overcrowed': 0.0013103222256672373, 'web': 0.005902850146317925, 'docking': 0.0031512847466182827, '40': 0.0023609517005309484, '1802': 0.0007362256051865552, 'grays': 0.005573055153800692, 'soothing': 0.0022501432171394015, 'finding': 0.0, 'heating': 0.0005118175263828273, 'lamp': 0.0015458573216398067, 'treadmills': 0.0001359680184622075, 'bikes': 0.00029877614523486905, 'dont': 0.0009917806972599779, 'thrifty': 0.053588188252669165, '155': 0.0028282337239976018, 'effectively': 0.005734315753479214, 'takes': 0.005739773598113343, 'loads': 0.0010408380714633488, 'useful': 0.007788570213388849, 'lets': 0.005525764437446837, 'receptionist': 0.0, 'excutive': 0.0, 'comforter': 0.002762581369847405, 'accomadating': 0.0006687507851547858, 'groups': 0.0006036254446109583, 'pedro': 0.0, 'quentin': 7.415505861734858e-05, 'linen': 0.0, 'filled': 0.00082323930036309, '3rd': 0.00048706814883968483, 'regard': 0.00400728007653261, 'safes': 0.0008481264025345585, 'nearly': 0.0008315582910604691, 'gallet': 0.0007993462397377349, 'conforter': 0.00043767140887162605, 'pillowtop': 0.0008326563502469266, 'indoor': 0.003281075489220498, 'althou': 0.0020590410999966257, 'latte': 0.0, 'sheas': 0.0002783175138247158, 'creepy': 0.0006008954919548402, 'acknowledgment': 0.007085916931206597, 'ordering': 0.0, 'smokes': 0.003500741056832884, 'frankly': 0.005006589807572823, 'consistency': 0.0011228540334651406, 'comparison': 0.0, 'loud': 0.0, 'reviewers': 0.0006539322878878494, 'manhattan': 0.0006762342959219694, 'floors': 0.002529496923881897, 'grab': 0.0013899512096122305, 'formal': 0.0023810290716563985, 'delightful': 0.0019614119654341056, 'parts': 0.0, 'affina': 0.00040652847447112463, 'jobs': 0.003031200350267284, 'pristine': 0.0034127244354844187, 'aria': 0.0006887128758778029, 'interests': 0.003409316882325466, 'drove': 0.00037393492872875897, 'variety': 0.006304087106432778, 'servicing': 0.000404724417624209, 'managing': 0.012184259709049494, 'insulation': 0.0034783342402576406, 'neighbours': 0.0010989553100077415, 'depot': 0.0, 'uk': 0.0012201383561966672, 'hangover': 0.0025027295392498444, 'hancok': 0.0, 'importantly': 0.0006347629406392024, 'remodelling': 0.00147348884683283, 'power': 0.0006023419790693013, 'continential': 0.015296571690472226, 'roof': 0.007174911357651245, 'skyrise': 0.0, 'properties': 0.009420220602462974, 'square': 0.014848895827375983, 'footage': 0.0008696298970313535, 'responsibily': 0.005543329554631102, 'bumping': 0.028033467048222346, 'occasionaly': 0.0004491366200443104, 'dangerous': 0.0, 'begin': 0.0005881446348692974, 'solo': 0.004765467710169357, 'wardrobe': 0.0054293568021313125, 'microwave': 0.00205844125785967, 'oven': 0.004074649720739108, 'utensils': 0.0, 'foodcourt': 0.004660778219311287, 'ensure': 0.0007808775075458527, 'homewoods': 0.005798669079155117, 'impact': 0.0030300434494544464, 'peoples': 0.0021830270950230902, 'example': 0.0009679280966252701, 'stunned': 0.0, '06': 0.0, 'wowed': 0.0018090090894728038, 'honor': 0.0011390317180904675, 'legitimately': 0.0006840366586132593, 'range': 0.0, 'pity': 0.009279565437554033, 'nobody': 0.0012984625529955116, 'spolied': 0.0009476561249896035, 'snack': 0.003923381908379043, 'heavy': 0.006768651403675049, 'doubt': 0.0022791836809283685, 'feb': 0.0020784755163703794, 'toward': 0.005801529282027036, 'rent': 0.0017381196688544991, 'anymore': 0.001333200238619674, 'purifier': 0.0001556844031572405, 'ran': 0.001887292052915034, 'mother': 0.0005239722805087765, 'strawberries': 0.0, 'described': 0.0007530804702383362, 'milennium': 0.019968864942591723, 'maria': 0.001247056437789778, 'drain': 0.000456395017660556, 'imaginable': 0.000739426243768202, 'origins': 0.002758179706046798, 'fabulously': 0.0007706831941736314, 'delight': 0.0013297358784736032, 'annoyingly': 0.0013521319682493103, 'marshall': 0.0, 'surround': 0.0015599996523127876, 'stand': 0.002369696132516683, 'everthing': 0.0017584340631315802, 'tour': 0.0006438942427251332, 'sent': 0.01461247372359427, 'receptionists': 0.0020784976961749375, 'marathon': 0.008754717145794568, 'individual': 0.0011585578483337626, 'friiday': 0.004150404163286844, 'recomment': 0.0014127283372273184, 'greek': 0.0017599942296109652, 'supply': 0.0025396606974748912, 'alot': 0.0020338415381968887, 'timerland': 0.004592907611133461, 'traveller': 0.0007664723360960952, '26th': 0.005045013248702396, '219': 0.002080519081003935, 'superbly': 0.001172455620957912, 'effort': 0.012235807101132656, 'contained': 0.010754076342250762, 'zest': 0.007412332391573182, 'press': 0.0011012813123903132, '149': 0.0, 'assigned': 0.00030148627083053476, 'esp': 0.0006543065016376306, 'meats': 0.0008139217566001408, 'drinking': 0.0005958247831269599, 'televison': 0.004121377738947903, 'satisfactory': 0.0006701844391531168, 'steppers': 0.0035553309401241805, 'villa': 0.00305297512875812, 'instantly': 0.0011431099157673294, 'dinners': 0.0008907103559762544, 'headboards': 0.022231793710660273, 'triple': 0.000151810401339662, 'bldg': 0.013076778902092433, 'leg': 0.0006640733486870437, 'ticket': 0.024025115579175384, 'nytimes': 0.007622492854080449, 'apparently': 0.00364791310084762, 'doughnuts': 0.0, 'mrs': 0.000971849957420354, 'vanessa': 0.0007166943664989874, 'wore': 0.004107895237691719, 'cloud': 0.0026750193579398495, 'moterate': 0.0014446021299649686, 'alerted': 0.001253878293742547, 'certain': 0.005960962406791084, 'geared': 0.0006642342861974895, 'significantly': 0.0010024934794812524, 'extented': 0.0010019472146951672, 'cereal': 0.0, 'yogurt': 0.001197957095473526, 'bf': 0.0007122747892740241, 'suggest': 0.000705920696742189, 'crowds': 0.0038747117537537047, 'mainly': 0.0030903202838371254, 'cruise': 0.004841382464075807, 'ditch': 0.009450415994940647, 'donald': 0.0031406260618598355, 'performance': 0.0006612444760008546, '2007': 0.003351745274854251, 'strong': 0.002516357051162639, 'fit': 0.007274475125046569, 'men': 0.0006925706586744651, '05': 0.0009368111147917269, 'grand': 0.0, 'silence': 0.00039744415840767126, 'gesture': 0.015345881664195465, 'antipasti': 0.0019626081838052707, 'marinated': 0.0006981281056027622, 'concourse': 0.00026571905583764975, 'restaraunts': 0.0, 'canceled': 0.0066057426278647, 'ignore': 0.001954614321031978, 'suberb': 0.0018615462314669664, 'waste': 0.008035765177268415, '165': 0.0, 'broke': 0.0006365687488308912, 'dollar': 0.00871404698122939, 'crabtree': 0.00114846504098492, '3114': 0.0018787435297873034, 'cabbed': 0.0017806758909188996, 'runny': 0.0006932774034020866, 'eleven': 0.005004142678161267, 'failed': 0.0, 'draught': 0.0007657803193647336, 'promptly': 0.001367652109397112, 'party': 0.0008584061776980532, 'pretentiousness': 0.00046188017128621765, 'heels': 0.0, 'blisters': 0.0012164413441992502, 'germaphobe': 0.0012667444005528626, 'valentines': 0.0009304313456752522, 'easter': 0.013322967320515538, 'season': 0.0008277741243433511, 'mmmhh': 0.0006921164582236267, 'checkout': 0.0010051810408090766, 'michican': 0.003787332677571613, 'hash': 0.00045684970449372773, 'browns': 0.002428102521139896, 'omelets': 0.0017811949588624654, 'artifical': 0.002640196311177926, 'alarm': 0.0, 'clock': 0.0008144566322345104, 'computers': 0.0009040982704930096, 'skip': 0.0005858763877166, 'hershey': 0.0015734564776036313, 'backpack': 0.00013121564703827326, 'unprompted': 0.0, 'whenever': 0.0028339707702089573, 'breaksfast': 0.0072093661394458265, 'aroufn': 0.001869732191979694, 'partial': 0.0010966861478290926, '10yo': 0.0007524555997458155, 'months': 0.003143128080933336, 'meets': 0.0006388893449573752, 'sylvia': 0.002191911151663229, 'architectural': 0.0020890144971751224, 'foam': 0.0051248561390102145, 'allergenic': 0.0018798439942376496, 'friendliest': 0.0013871514500421102, 'hey': 0.003181802055012206, 'buck': 0.0017087994953542693, 'teams': 0.0, '26': 0.005591242067625226, 'lines': 0.0009982450090888393, 'afford': 0.0003511000286353877, 'scent': 0.008603432466429884, 'wastebasket': 0.001477877763766649, 'dispose': 0.0009204420237861222, 'bulb': 0.010479141598526025, 'waffle': 0.004096905104918694, 'whipped': 0.003349406108833232, 'charging': 0.0032010622393246406, 'rainbow': 0.0, 'definitly': 0.0007599214322386524, 'mastiff': 0.0002402883122045567, 'nestled': 0.0007190817507152072, 'beaten': 0.00405015311421757, 'path': 0.005589933109074107, 'intercon': 0.0, 'peopel': 0.010601273675880016, 'disinterested': 0.00021423516650266098, 'procedure': 0.0, 'parkview': 0.003119366857272056, 'accomplished': 0.0010893900087431518, 'detract': 0.000927127647565208, 'wrote': 0.0007988613581745803, 'solid': 0.0013495076025605629, 'unloading': 0.0005085348355692296, 'ny': 0.0004649217923907649, 'loves': 0.0015902473955387165, 'former': 0.0001421038649103419, 'lakeview': 0.001515154051167762, 'drivers': 0.0029845516559330555, 'frindly': 0.0028982318033447443, 'keihl': 0.0018133974002412065, 'compensation': 0.0011678867656188347, 'artwork': 0.0002995230896102569, 'vacations': 0.0020925910568409104, 'carried': 0.0004066918398076262, 'wifes': 0.0, 'changing': 0.0006223637042055764, 'black': 0.009309316307641634, 'grey': 0.0, 'fyi': 0.005622586256972398, '91': 0.0011384197788612616, 'pitfalls': 0.0007101576129420925, 'claims': 0.009204803028869134, 'lends': 0.0, 'tab': 0.0001292812589373379, 'inspiring': 0.0036114950023030334, 'purple': 0.0006048032073277698, 'dot': 0.001205017936325548, 'sufficient': 0.0, 'uncomfortable': 0.008975419279872502, 'greatly': 0.0018647243431611927, 'exaggerated': 0.0047834859260325255, 'abd': 0.0019317593669277125, 'toothbrush': 0.0009699756383582204, 'ill': 0.0, 'plane': 0.0013381056427629076, 'manchester': 0.0021496020817702486, 'cheering': 0.001896630319020683, 'palm': 0.0, 'apri': 0.0004041869024424681, 'helpfuly': 0.0048510420723019455, 'airfare': 0.0022958619307659046, 'uniqueness': 0.001343584897256308, 'appetizer': 0.0, 'mp3': 0.0005204122512820749, 'compatible': 0.002644670742254462, 'tags': 0.001271563495388707, 'buy': 0.0, 'scrambled': 0.00078321003152974, 'butted': 0.0, 'quilts': 0.0025197735036499975, 'hectic': 0.0017257471929922339, 'piping': 0.0012783319087019682, 'chef': 0.0013612699061351908, 'map': 0.0062677781193969315, 'highest': 0.0001012572218361753, 'sky': 0.0030812669386022203, 'felling': 0.0012876695710087682, 'governors': 0.004007991892810756, 'afterwards': 0.00250841460992839, 'reeked': 0.0, 'pure': 0.0022704051182053466, 'favorable': 0.0, 'tickled': 0.003374018321442352, 'innovative': 0.0007455469683916066, 'soap': 0.0, 'exquisite': 0.0011628009571208833, 'palms': 0.02291475617951568, 'gripe': 0.0022454066124234047, 'spoken': 8.580545261908172e-05, 'musical': 0.000251330749664603, 'treatments': 0.0, 'shipped': 0.0, 'reluctant': 0.0017917323395111589, 'fares': 0.0001518612850681008, 'advantages': 0.00333030696750333, 'pricetag': 0.003019890261429914, 'responded': 0.010240568381914733, 'eyes': 0.0, 'original': 0.004378784761661458, 'barking': 0.0010717821176820122, 'falling': 0.0011198248367997204, 'hidden': 0.0005600504144432327, 'satisfy': 0.0006038768382665363, 'display': 0.002957286737890865, 'separated': 0.0, 'success': 0.0007322981955757787, 'needn': 0.01537776712166293, 'dream': 0.0007823202828645152, 'proudly': 0.0010257829276607302, 'atop': 0.0019286365056694187, 'downloaded': 0.0020353659215928146, 'inspect': 0.003047382328900594, 'doubts': 0.00015054926621527073, 'sadly': 0.0006430480902033311, 'settle': 0.0012212172173650484, 'heartedly': 0.002678656328545298, 'unwind': 0.0007067640357549134, 'benefits': 0.0034771319870001947, 'providing': 0.0014523713278540168, 'caliber': 0.0008000415240960208, 'buisness': 0.001516341771901626, 'shot': 0.0011997985160295752, 'hasn': 0.0, 'flow': 0.0, 'loft': 0.0015628230708331554, 'centers': 0.00410512189580915, 'francisco': 0.0008616524674279995, 'brightly': 0.001962418381264456, 'susan': 0.0, 'breathtakingly': 0.0010049193581681505, 'facial': 0.0, 'employer': 0.0006783323867596138, 'says': 0.0002551589814747889, 'deserves': 0.008060240546197243, 'severe': 0.0008325034034753987, 'asthma': 0.0010857772596266657, 'hospital': 0.0013848989696791476, 'emergency': 0.0, 'rosa': 0.0008405682623633963, 'perfumes': 0.0011914991225668128, 'dreaded': 0.0021815434622189907, 'nachos': 0.0008863704972523587, 'patient': 0.003104060415051423, 'grace': 0.029903926329247318, 'era': 0.007496815155133292, 'trunks': 0.00033234789008385166, 'tacky': 0.0004240305527900284, 'accommodate': 0.0007570787631408233, 'combination': 0.0, 'capable': 0.0006366285074419258, 'gentle': 0.00010214890895108001, 'gymnasium': 0.007845752099931033, 'treating': 0.001450284025412433, 'kindly': 0.0010477784422657334, 'sincerely': 0.0020617145353330635, 'matches': 0.0012207453383108514, 'selections': 0.0, 'televisions': 0.009685753039506894, 'multi': 0.0010046670913292238, 'professionals': 0.0, 'coffer': 0.0007327044268784357, 'thumbs': 0.0007748198565854836, 'replicate': 0.0, 'hits': 0.0025795162689141345, 'sipped': 0.0005593909872238649, 'stash': 0.0035574243485715818, 'cousin': 0.002496969689365441, 'driver': 0.0, 'glamorous': 0.0010422395193110368, 'heaven': 0.00012644458962772408, 'pakistani': 0.0, 'mimosas': 0.0005895743926415019, 'extravagant': 0.0007871811718607164, 'handle': 0.0, 'sofie': 0.001032966805570216, 'shall': 0.0028132357439166226, 'thankfully': 0.0010303324486799275, 'promise': 0.0, 'afternoons': 0.0007295943568974897, 'opera': 0.0015691748275321047, 'step': 0.000742418744584305, 'hues': 0.0003512682531009826, 'complimented': 0.0, 'captured': 0.0014894629559150411, 'additionally': 0.0011460118682732042, 'unparalleled': 0.002008976864767168, 'bliss': 0.0025791777979311493, 'appreciation': 0.0, 'hassle': 0.0008799304948904708, 'portrayed': 0.0007816452910634839, 'differently': 0.00244201061129088, 'slate': 0.0009252329516187569, 'icing': 0.011100167287256758, 'rocked': 0.0007071223056279107, 'forgotten': 0.0, 'lifetime': 0.0007030534026220128, 'clocks': 0.00649310915402185, 'media': 0.008081135679979817, 'generic': 0.002281110508805255, 'horribly': 0.0001428455520156332, '9pm': 0.0013749305006154709, 'tall': 0.0016971494085524042, 'shoeshine': 0.014663032327668196, 'talbot': 0.007560663842025438, 'pedals': 0.005321760492449823, 'groomsman': 0.000992740036733336, 'church': 0.0013715245611401862, 'bridemaid': 0.0, 'dumbs': 0.0014051708421436069, 'frustration': 0.007117802201838703, 'kitten': 0.002213550233134497, 'sitter': 0.0007913283617304253, 'bummed': 0.0036086672908305062, 'stiff': 0.0025368682512731115, 'spectacularly': 0.00430284515230444, 'luxorius': 0.0010930892248983935, 'burgers': 0.0009428907051346988, 'bonuses': 0.0006199603186411585, 'alcoholic': 0.0025656839147815843, 'teamwork': 0.0003104179658097513, 'demonstrated': 0.001023817552977121, 'strives': 0.0006062209338784087, 'hello': 0.0019879381083998094, 'explained': 0.0011809938527360558, 'routes': 0.0026164777685815815, 'whenver': 0.0, 'colleges': 0.0015300740475534028, 'freebies': 0.0, 'wide': 0.0011283172715606249, 'define': 0.001312482874735731, 'posh': 0.006383722685450886, 'angle': 0.000995313562768966, 'oriented': 0.0011259677539339923, 'gonna': 0.0010504501223700057, 'impersonal': 0.0014785889233025313, 'finds': 0.014998943285645194, 'orderly': 0.0, 'definetely': 0.0006774185978301897, 'pamper': 0.005155118455883567, 'energized': 0.0, 'entirely': 0.0009208771975103805, 'towns': 0.0, 'sundeck': 0.0, 'emaculate': 0.0, 'emphasis': 0.0006058050144071753, 'dime': 0.002504393861072205, 'entry': 0.0015740198824624341, 'concluded': 0.00466553271547466, 'incomparable': 0.004944670919193609, 'individualized': 0.0006205696774571779, 'grain': 0.0, 'marmalade': 0.00479708589683862, 'reunited': 0.0018744952913730651, 'privacy': 0.0, 'scarce': 0.02339634367169576, 'talented': 0.0010662413017510266, 'singers': 0.0009477462267824945, 'accessories': 0.0, 'sounded': 0.0011533817192560087, 'displays': 0.0, 'melds': 0.005704710934769673, 'lover': 0.004487348044311878, 'romance': 0.0, 'approachable': 7.296747389393972e-05, 'customization': 0.0006836759240621669, 'sundecks': 0.002057079260930546, 'swiss': 0.0005849603837523965, 'rough': 0.001144672696039356, 'angeles': 0.004932448302999481, 'graduated': 0.0011799811903147992, 'afforded': 0.0026240783474192507, 'par': 0.0006149332729928271, 'divine': 0.0, 'followed': 0.0007388755643961343, 'associates': 0.005640897320237804, 'confidence': 0.0006173102435746832, 'coupled': 0.011118464080516442, 'participating': 0.01034931300630396, 'downtime': 0.005476043544390775, 'lending': 0.0017720086090017237, 'uber': 0.0, 'considerate': 0.0037770813324668954, 'reclining': 0.0010722373812566358, 'tips': 0.011442521759759357, 'perfecty': 0.0007780322003245261, 'masseuses': 0.003811729877576521, 'certificate': 0.0021121075363448325, 'fishbowl': 0.00928503161001477, 'chances': 0.007337801709140691, 'beagle': 0.0017504691653577012, 'housekeepers': 0.020418619007488356, 'belief': 0.00018724127438303245, 'postitive': 0.0007048131795549078, 'message': 0.008087655197584243, 'remark': 0.0029905258141566084, 'aesthetics': 0.002886043378523587, 'enviable': 0.00430829020697788, 'resorts': 0.0009318321481170358, 'track': 0.006137085401645144, 'inform': 0.014815733324510931, 'extraordinarily': 0.005141761312146529, 'willingly': 0.004547558851565544, 'spacing': 0.0006619482588805684, 'needing': 0.0, 'proceeded': 0.0, 'infamous': 0.006892969467132245, 'strange': 0.0017388687899799458, 'merchandise': 0.0, 'communication': 0.0027806681802254097, '1500': 0.000591722756415953, 'tastings': 0.001384639313572686, 'duvets': 0.0023003802102359674, 'array': 0.0010932014216475372, 'picturesque': 0.006081587059345943, 'swept': 0.0055858663153331, 'kennel': 0.00013857801583336374, 'doggy': 0.0036041856027762527, 'carey': 0.002342614629989025, 'lite': 0.002340815055121713, 'polished': 0.0012546945498207369, 'carpets': 0.0007001864266386692}\n"
     ]
    }
   ],
   "source": [
    "\n",
    "ordered=0\n",
    "\n",
    "\n",
    "if dataset==0:\n",
    "    if ordered==1:\n",
    "        freq_generated=dict(sorted(freq_generated.items(), key= lambda item: item[1],reverse=True))\n",
    "        freq_ngenerated=dict(sorted(freq_ngenerated.items(), key= lambda item: item[1], reverse=True))\n",
    "    print(f' FREQUENCE OF THE MOST RELEVANT WORDS FOR GENERATED OR NOT IN GENERATED TEXTS {freq_generated}')\n",
    "    print(f' FREQUENCE OF THE MOST RELEVANT WORDS FOR GENERATED OR NOT IN THE HUMAN TEXT {freq_ngenerated}')\n",
    "\n",
    "if ordered==1:\n",
    "    freq_positive=dict(sorted(freq_positive.items(), key= lambda item: item[1],reverse=True))\n",
    "    freq_negative=dict(sorted(freq_negative.items(), key= lambda item: item[1], reverse=True))\n",
    "\n",
    "    freq_deceptive=dict(sorted(freq_deceptive.items(), key= lambda item: item[1],reverse=True))\n",
    "    freq_ndeceptive=dict(sorted(freq_ndeceptive.items(), key= lambda item: item[1], reverse=True))\n",
    "\n",
    "\n",
    "print(f' FREQUENCE OF THE MOST RELEVANT WORDS FOR POSITIVE OR NEGATIVE IN POSITIVE TEXTS {freq_positive}')\n",
    "print(f' FREQUENCE OF THE MOST RELEVANT WORDS FOR POSITIVE OR NEGATIVE IN NEGATIVE TEXTS {freq_negative}')\n",
    "\n",
    "print(f' FREQUENCE OF THE MOST RELEVANT WORDS FOR DECEPTIVE OR NOT IN DECEPTIVE TEXTS {freq_deceptive}')\n",
    "print(f' FREQUENCE OF THE MOST RELEVANT WORDS FOR DECEPTIVE OR NOT IN TRUTHFUL TEXTS {freq_ndeceptive}')\n"
   ]
  },
  {
   "cell_type": "markdown",
   "metadata": {},
   "source": [
    "##### 4.1) BERT"
   ]
  },
  {
   "cell_type": "markdown",
   "metadata": {},
   "source": [
    "\n",
    "BERT (Bidirectional Encoder Representations from Transformers) is a pre-trained model developed by Google AI's researchers. It is a state-of-the-art language representation model based on the Transformer architecture. BERT is designed to understand and generate natural language text by learning the contextual relationships between words in a bidirectional manner.\n",
    "\n",
    "Unlike traditional language models that process text in a left-to-right or right-to-left manner, BERT employs a bidirectional training approach. It learns to predict missing words by considering the surrounding context from both directions, allowing it to capture a deeper understanding of the relationships between words.\n",
    "\n",
    "BERT has been pre-trained on a large corpus of diverse text, such as Wikipedia articles, books, and web pages. During pre-training, it learns to create word embeddings that represent the meanings of words and their contextual dependencies. These pre-trained embeddings can then be fine-tuned on specific downstream NLP tasks, such as text classification, named entity recognition, question answering, and more.\n",
    "\n",
    "By leveraging BERT's contextual language understanding, NLP models can benefit from its ability to handle tasks requiring an understanding of the context and meaning of words in a given text. BERT has significantly advanced the performance on a wide range of NLP tasks and has become a popular tool in natural language processing research and applications."
   ]
  },
  {
   "cell_type": "code",
   "execution_count": 140,
   "metadata": {},
   "outputs": [],
   "source": [
    "from transformers import AutoModel, AutoTokenizer"
   ]
  },
  {
   "cell_type": "code",
   "execution_count": 141,
   "metadata": {},
   "outputs": [],
   "source": [
    "from transformers import BertTokenizer, BertModel\n",
    "import torch"
   ]
  },
  {
   "cell_type": "code",
   "execution_count": 142,
   "metadata": {},
   "outputs": [
    {
     "ename": "ImportError",
     "evalue": "\nBertModel requires the PyTorch library but it was not found in your environment.\nHowever, we were able to find a TensorFlow installation. TensorFlow classes begin\nwith \"TF\", but are otherwise identically named to our PyTorch classes. This\nmeans that the TF equivalent of the class you tried to import would be \"TFBertModel\".\nIf you want to use TensorFlow, please use TF classes instead!\n\nIf you really do want to use PyTorch please go to\nhttps://pytorch.org/get-started/locally/ and follow the instructions that\nmatch your environment.\n",
     "output_type": "error",
     "traceback": [
      "\u001b[0;31m---------------------------------------------------------------------------\u001b[0m",
      "\u001b[0;31mImportError\u001b[0m                               Traceback (most recent call last)",
      "\u001b[1;32m/Users/Forcioli/Desktop/detection.ipynb Cell 49\u001b[0m in \u001b[0;36m<cell line: 2>\u001b[0;34m()\u001b[0m\n\u001b[1;32m      <a href='vscode-notebook-cell:/Users/Forcioli/Desktop/detection.ipynb#Y103sZmlsZQ%3D%3D?line=0'>1</a>\u001b[0m tokenizer \u001b[39m=\u001b[39m BertTokenizer\u001b[39m.\u001b[39mfrom_pretrained(\u001b[39m\"\u001b[39m\u001b[39mbert-base-uncased\u001b[39m\u001b[39m\"\u001b[39m)\n\u001b[0;32m----> <a href='vscode-notebook-cell:/Users/Forcioli/Desktop/detection.ipynb#Y103sZmlsZQ%3D%3D?line=1'>2</a>\u001b[0m model \u001b[39m=\u001b[39m BertModel\u001b[39m.\u001b[39;49mfrom_pretrained(\u001b[39m\"\u001b[39m\u001b[39mbert-base-uncased\u001b[39m\u001b[39m\"\u001b[39m  )\n",
      "File \u001b[0;32m~/opt/anaconda3/lib/python3.9/site-packages/transformers/utils/import_utils.py:1086\u001b[0m, in \u001b[0;36mDummyObject.__getattribute__\u001b[0;34m(cls, key)\u001b[0m\n\u001b[1;32m   1084\u001b[0m \u001b[39mif\u001b[39;00m key\u001b[39m.\u001b[39mstartswith(\u001b[39m\"\u001b[39m\u001b[39m_\u001b[39m\u001b[39m\"\u001b[39m) \u001b[39mand\u001b[39;00m key \u001b[39m!=\u001b[39m \u001b[39m\"\u001b[39m\u001b[39m_from_config\u001b[39m\u001b[39m\"\u001b[39m:\n\u001b[1;32m   1085\u001b[0m     \u001b[39mreturn\u001b[39;00m \u001b[39msuper\u001b[39m()\u001b[39m.\u001b[39m\u001b[39m__getattribute__\u001b[39m(key)\n\u001b[0;32m-> 1086\u001b[0m requires_backends(\u001b[39mcls\u001b[39;49m, \u001b[39mcls\u001b[39;49m\u001b[39m.\u001b[39;49m_backends)\n",
      "File \u001b[0;32m~/opt/anaconda3/lib/python3.9/site-packages/transformers/utils/import_utils.py:1065\u001b[0m, in \u001b[0;36mrequires_backends\u001b[0;34m(obj, backends)\u001b[0m\n\u001b[1;32m   1063\u001b[0m \u001b[39m# Raise an error for users who might not realize that classes without \"TF\" are torch-only\u001b[39;00m\n\u001b[1;32m   1064\u001b[0m \u001b[39mif\u001b[39;00m \u001b[39m\"\u001b[39m\u001b[39mtorch\u001b[39m\u001b[39m\"\u001b[39m \u001b[39min\u001b[39;00m backends \u001b[39mand\u001b[39;00m \u001b[39m\"\u001b[39m\u001b[39mtf\u001b[39m\u001b[39m\"\u001b[39m \u001b[39mnot\u001b[39;00m \u001b[39min\u001b[39;00m backends \u001b[39mand\u001b[39;00m \u001b[39mnot\u001b[39;00m is_torch_available() \u001b[39mand\u001b[39;00m is_tf_available():\n\u001b[0;32m-> 1065\u001b[0m     \u001b[39mraise\u001b[39;00m \u001b[39mImportError\u001b[39;00m(PYTORCH_IMPORT_ERROR_WITH_TF\u001b[39m.\u001b[39mformat(name))\n\u001b[1;32m   1067\u001b[0m \u001b[39m# Raise the inverse error for PyTorch users trying to load TF classes\u001b[39;00m\n\u001b[1;32m   1068\u001b[0m \u001b[39mif\u001b[39;00m \u001b[39m\"\u001b[39m\u001b[39mtf\u001b[39m\u001b[39m\"\u001b[39m \u001b[39min\u001b[39;00m backends \u001b[39mand\u001b[39;00m \u001b[39m\"\u001b[39m\u001b[39mtorch\u001b[39m\u001b[39m\"\u001b[39m \u001b[39mnot\u001b[39;00m \u001b[39min\u001b[39;00m backends \u001b[39mand\u001b[39;00m is_torch_available() \u001b[39mand\u001b[39;00m \u001b[39mnot\u001b[39;00m is_tf_available():\n",
      "\u001b[0;31mImportError\u001b[0m: \nBertModel requires the PyTorch library but it was not found in your environment.\nHowever, we were able to find a TensorFlow installation. TensorFlow classes begin\nwith \"TF\", but are otherwise identically named to our PyTorch classes. This\nmeans that the TF equivalent of the class you tried to import would be \"TFBertModel\".\nIf you want to use TensorFlow, please use TF classes instead!\n\nIf you really do want to use PyTorch please go to\nhttps://pytorch.org/get-started/locally/ and follow the instructions that\nmatch your environment.\n"
     ]
    }
   ],
   "source": [
    "tokenizer = BertTokenizer.from_pretrained(\"bert-base-uncased\")\n",
    "model = BertModel.from_pretrained(\"bert-base-uncased\"  )\n"
   ]
  },
  {
   "cell_type": "code",
   "execution_count": null,
   "metadata": {},
   "outputs": [],
   "source": []
  }
 ],
 "metadata": {
  "kernelspec": {
   "display_name": "Python 3 (ipykernel)",
   "language": "python",
   "name": "python3"
  },
  "language_info": {
   "codemirror_mode": {
    "name": "ipython",
    "version": 3
   },
   "file_extension": ".py",
   "mimetype": "text/x-python",
   "name": "python",
   "nbconvert_exporter": "python",
   "pygments_lexer": "ipython3",
   "version": "3.10.12"
  }
 },
 "nbformat": 4,
 "nbformat_minor": 2
}
